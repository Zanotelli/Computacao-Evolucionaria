{
 "cells": [
  {
   "cell_type": "code",
   "execution_count": 1,
   "metadata": {
    "pycharm": {
     "name": "#%%\n"
    }
   },
   "outputs": [],
   "source": [
    "import random as rd\n",
    "import numpy as np"
   ]
  },
  {
   "cell_type": "code",
   "execution_count": 2,
   "metadata": {
    "pycharm": {
     "name": "#%%\n"
    }
   },
   "outputs": [
    {
     "name": "stdout",
     "output_type": "stream",
     "text": [
      "[[1, 6, 0, 7, 5, 2, 4, 3], [2, 3, 5, 0, 4, 1, 6, 7], [5, 6, 3, 7, 0, 4, 1, 2], [0, 5, 1, 7, 3, 4, 6, 2], [4, 7, 6, 1, 2, 5, 3, 0], [7, 5, 3, 0, 4, 6, 2, 1], [2, 7, 4, 5, 1, 0, 3, 6], [0, 3, 4, 7, 6, 5, 1, 2], [0, 3, 2, 6, 5, 1, 7, 4], [0, 2, 3, 5, 7, 1, 4, 6], [6, 3, 4, 0, 5, 2, 1, 7], [0, 3, 7, 4, 1, 5, 6, 2], [2, 3, 6, 4, 1, 0, 7, 5], [2, 7, 6, 3, 4, 0, 1, 5], [6, 1, 3, 0, 2, 5, 4, 7], [2, 0, 5, 3, 6, 7, 1, 4], [7, 2, 0, 4, 1, 6, 5, 3], [3, 4, 7, 6, 2, 0, 5, 1], [3, 7, 1, 4, 5, 2, 6, 0], [3, 7, 2, 6, 0, 1, 4, 5]]\n"
     ]
    }
   ],
   "source": [
    "crossover_rate = 1\n",
    "mutation_rate = 0.8 \n",
    "\n",
    "def init_population(_mu:int = 20, n:int = 8):\n",
    "    population = []\n",
    "    for i in range (_mu):\n",
    "        population.append(rd.sample(range(n), n))\n",
    "    return population\n",
    "\n",
    "pop = init_population(20, 8)\n",
    "print(pop)\n"
   ]
  },
  {
   "cell_type": "code",
   "execution_count": 3,
   "metadata": {
    "pycharm": {
     "name": "#%%\n"
    }
   },
   "outputs": [],
   "source": [
    "def fitness_nq(solution):\n",
    "    xeques = 0\n",
    "    for i in range(0,len(solution)):\n",
    "        for j in range(0,len(solution)):\n",
    "            if i!=j:\n",
    "                if i-solution[i] == j-solution[j] or i+solution[i] == j+solution[j]:\n",
    "                    xeques+=1\n",
    "    return xeques"
   ]
  },
  {
   "cell_type": "code",
   "execution_count": 4,
   "metadata": {
    "pycharm": {
     "name": "#%%\n"
    }
   },
   "outputs": [
    {
     "data": {
      "text/plain": "0"
     },
     "execution_count": 4,
     "metadata": {},
     "output_type": "execute_result"
    }
   ],
   "source": [
    "fitness_nq([2,0,3,1])"
   ]
  },
  {
   "cell_type": "code",
   "execution_count": 5,
   "metadata": {
    "pycharm": {
     "name": "#%%\n"
    }
   },
   "outputs": [
    {
     "name": "stdout",
     "output_type": "stream",
     "text": [
      "[12, 8, 10, 12, 8, 8, 12, 16, 8, 2, 8, 8, 6, 10, 12, 8, 10, 10, 10, 8]\n"
     ]
    }
   ],
   "source": [
    "pop_fitness = [fitness_nq(each_solution) for each_solution in pop]\n",
    "print(pop_fitness)"
   ]
  },
  {
   "cell_type": "code",
   "execution_count": null,
   "metadata": {
    "pycharm": {
     "name": "#%%\n"
    }
   },
   "outputs": [],
   "source": []
  }
 ],
 "metadata": {
  "kernelspec": {
   "display_name": "Python 3",
   "language": "python",
   "name": "python3"
  },
  "language_info": {
   "codemirror_mode": {
    "name": "ipython",
    "version": 3
   },
   "file_extension": ".py",
   "mimetype": "text/x-python",
   "name": "python",
   "nbconvert_exporter": "python",
   "pygments_lexer": "ipython3",
   "version": "3.7.6"
  }
 },
 "nbformat": 4,
 "nbformat_minor": 4
}