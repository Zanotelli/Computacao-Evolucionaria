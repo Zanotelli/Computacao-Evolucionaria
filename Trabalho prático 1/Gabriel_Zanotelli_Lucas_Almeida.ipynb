{
 "cells": [
  {
   "cell_type": "markdown",
   "source": [
    "## Definições de variáveis iniciais"
   ],
   "metadata": {
    "collapsed": false,
    "pycharm": {
     "name": "#%% md\n"
    }
   }
  },
  {
   "cell_type": "code",
   "execution_count": 67,
   "outputs": [],
   "source": [
    "import random as rd\n",
    "import numpy as np"
   ],
   "metadata": {
    "collapsed": false,
    "pycharm": {
     "name": "#%%\n"
    }
   }
  },
  {
   "cell_type": "code",
   "execution_count": 68,
   "outputs": [],
   "source": [
    "crossover_rate = 1\n",
    "mutation_rate = 0.8\n",
    "\n",
    "base_population = 20\n",
    "pop_sample = 5\n",
    "\n",
    "fitness_history = []"
   ],
   "metadata": {
    "collapsed": false,
    "pycharm": {
     "name": "#%%\n"
    }
   }
  },
  {
   "cell_type": "markdown",
   "source": [
    "---\n",
    "## Funções de suporte"
   ],
   "metadata": {
    "collapsed": false,
    "pycharm": {
     "name": "#%% md\n"
    }
   }
  },
  {
   "cell_type": "code",
   "execution_count": 69,
   "outputs": [],
   "source": [
    "def argsort(seq):\n",
    "    return sorted(range(len(seq)), key=seq.__getitem__)"
   ],
   "metadata": {
    "collapsed": false,
    "pycharm": {
     "name": "#%%\n"
    }
   }
  },
  {
   "cell_type": "markdown",
   "source": [
    "---\n",
    "## Definição da População Inicial"
   ],
   "metadata": {
    "collapsed": false,
    "pycharm": {
     "name": "#%% md\n"
    }
   }
  },
  {
   "cell_type": "code",
   "execution_count": 70,
   "outputs": [],
   "source": [
    "def init_population(_mu:int = 20, n:int = 8):\n",
    "    population = []\n",
    "    for i in range (_mu):\n",
    "        population.append(rd.sample(range(n), n))\n",
    "    return population\n",
    "\n",
    "# pop = init_population(20, 8)\n",
    "# print(pop)"
   ],
   "metadata": {
    "collapsed": false,
    "pycharm": {
     "name": "#%%\n"
    }
   }
  },
  {
   "cell_type": "markdown",
   "source": [
    "## Calculo de qualidade da solução"
   ],
   "metadata": {
    "collapsed": false,
    "pycharm": {
     "name": "#%% md\n"
    }
   }
  },
  {
   "cell_type": "code",
   "execution_count": 71,
   "outputs": [],
   "source": [
    "def fitness_nq(solution):\n",
    "    xeques = 0\n",
    "    for i in range(0,len(solution)):\n",
    "        for j in range(0,len(solution)):\n",
    "            if i!=j:\n",
    "                if i-solution[i] == j-solution[j] or i+solution[i] == j+solution[j]:\n",
    "                    xeques+=1\n",
    "    return xeques"
   ],
   "metadata": {
    "collapsed": false,
    "pycharm": {
     "name": "#%%\n"
    }
   }
  },
  {
   "cell_type": "markdown",
   "source": [
    "## Seleciona nova população"
   ],
   "metadata": {
    "collapsed": false,
    "pycharm": {
     "name": "#%% md\n"
    }
   }
  },
  {
   "cell_type": "code",
   "execution_count": 72,
   "outputs": [],
   "source": [
    "def select_parents(pupulation):\n",
    "\n",
    "    sample_pop = rd.sample(pupulation, pop_sample)\n",
    "\n",
    "    sample_pop_fit = [0] * pop_sample\n",
    "    for i in range(len(sample_pop_fit)):\n",
    "        sample_pop_fit[i] = fitness_nq(sample_pop[i])\n",
    "\n",
    "    parents_id = np.argsort(sample_pop_fit)[:2]\n",
    "    parents = [sample_pop[parents_id[0]],\n",
    "               sample_pop[parents_id[1]]]\n",
    "    return parents"
   ],
   "metadata": {
    "collapsed": false,
    "pycharm": {
     "name": "#%%\n"
    }
   }
  },
  {
   "cell_type": "markdown",
   "source": [
    "## Recombinação dos pais"
   ],
   "metadata": {
    "collapsed": false,
    "pycharm": {
     "name": "#%% md\n"
    }
   }
  },
  {
   "cell_type": "code",
   "execution_count": 73,
   "outputs": [],
   "source": [
    "def cut_and_crossfill(N, parents):\n",
    "    cross_point = rd.randint(1, N-1)\n",
    "\n",
    "    p1 = [parents[0][:cross_point] , parents[0][cross_point:]]\n",
    "    p2 = [parents[1][:cross_point] , parents[1][cross_point:]]\n",
    "\n",
    "    f1 = p1[0]\n",
    "    f2 = p2[0]\n",
    "    for i in range(len(p1[1])):\n",
    "        f1.append(p2[1][i])\n",
    "        f2.append(p1[1][i])\n",
    "\n",
    "    return [f1, f2]"
   ],
   "metadata": {
    "collapsed": false,
    "pycharm": {
     "name": "#%%\n"
    }
   }
  },
  {
   "cell_type": "markdown",
   "source": [
    "## Mutação dos filhos"
   ],
   "metadata": {
    "collapsed": false,
    "pycharm": {
     "name": "#%% md\n"
    }
   }
  },
  {
   "cell_type": "code",
   "execution_count": 74,
   "outputs": [],
   "source": [
    "def mutate_offspring(offspring, mutation_rate, N):\n",
    "    for of in offspring:\n",
    "        if rd.random() < mutation_rate:\n",
    "            id1 = rd.randint(0, N-1)\n",
    "            id2 = rd.randint(0, N-1)\n",
    "            aux = of[id1]\n",
    "            of[id1] = of[id2]\n",
    "            of[id2] = aux\n",
    "    return offspring\n"
   ],
   "metadata": {
    "collapsed": false,
    "pycharm": {
     "name": "#%%\n"
    }
   }
  },
  {
   "cell_type": "markdown",
   "source": [
    "## Cria e seleciona nova geração"
   ],
   "metadata": {
    "collapsed": false,
    "pycharm": {
     "name": "#%% md\n"
    }
   }
  },
  {
   "cell_type": "code",
   "execution_count": 75,
   "outputs": [],
   "source": [
    "def select_new_generation(poulation, offspring):\n",
    "    new_generation = poulation + offspring\n",
    "\n",
    "    new_pop_fit = [0] * len(new_generation)\n",
    "    for i in range(len(new_generation)):\n",
    "        new_pop_fit[i] = fitness_nq(new_generation[i])\n",
    "\n",
    "    new_pop_id = argsort(new_pop_fit)[:base_population]\n",
    "\n",
    "    next_generation = []\n",
    "    for i in range(len(new_generation)):\n",
    "        if i in new_pop_id:\n",
    "            next_generation.append(new_generation[i])\n",
    "\n",
    "    return next_generation"
   ],
   "metadata": {
    "collapsed": false,
    "pycharm": {
     "name": "#%%\n"
    }
   }
  },
  {
   "cell_type": "markdown",
   "source": [
    "## Verificação de condição de parada"
   ],
   "metadata": {
    "collapsed": false,
    "pycharm": {
     "name": "#%% md\n"
    }
   }
  },
  {
   "cell_type": "code",
   "execution_count": 76,
   "outputs": [],
   "source": [
    "def verify_condition(pupulation):\n",
    "    return 0 in pupulation"
   ],
   "metadata": {
    "collapsed": false,
    "pycharm": {
     "name": "#%%\n"
    }
   }
  },
  {
   "cell_type": "markdown",
   "source": [
    "## Execução"
   ],
   "metadata": {
    "collapsed": false,
    "pycharm": {
     "name": "#%% md\n"
    }
   }
  },
  {
   "cell_type": "code",
   "execution_count": 77,
   "outputs": [
    {
     "name": "stdout",
     "output_type": "stream",
     "text": [
      "Insira o número de rainhas.\n",
      "Fittness da população inicial:\n",
      "[64, 46, 58, 40, 54, 40, 50, 40, 54, 60, 64, 58, 50, 54, 40, 40, 40, 52, 46, 54]\n",
      "\n",
      "Fittness da população final:\n",
      "[8, 8, 8, 8, 8, 8, 8, 8, 8, 8, 8, 8, 8, 8, 8, 8, 6, 6, 6, 6]\n"
     ]
    }
   ],
   "source": [
    "print(\"Insira o número de rainhas.\")\n",
    "N = 0\n",
    "try:\n",
    "    N = int(input())\n",
    "except:\n",
    "    raise ValueError('ERROR: o valor digitado não é valido!')\n",
    "\n",
    "max_generation = 5 * N\n",
    "\n",
    "pupulation = init_population(base_population, N)\n",
    "population_fitt = [0] * base_population\n",
    "\n",
    "for i in range(base_population):\n",
    "    population_fitt[i] = fitness_nq(pupulation[i])\n",
    "print(\"Fittness da população inicial:\")\n",
    "print(population_fitt)\n",
    "\n",
    "for i in range(max_generation):\n",
    "    parents = select_parents(pupulation)\n",
    "\n",
    "    offspring = cut_and_crossfill(N, parents)\n",
    "\n",
    "    mutate_offspring(offspring, mutation_rate, N)\n",
    "\n",
    "    pupulation = select_new_generation(pupulation, offspring)\n",
    "\n",
    "    for i in range(base_population):\n",
    "        population_fitt[i] = fitness_nq(pupulation[i])\n",
    "\n",
    "    if verify_condition(population_fitt):\n",
    "        print(\"Geração de parada precoce: \" + i)\n",
    "        break\n",
    "\n",
    "print()\n",
    "print(\"Fittness da população final:\")\n",
    "print(population_fitt)"
   ],
   "metadata": {
    "collapsed": false,
    "pycharm": {
     "name": "#%%\n"
    }
   }
  },
  {
   "cell_type": "code",
   "execution_count": 60,
   "outputs": [],
   "source": [
    "def select_new_generation(poulation, offspring):\n",
    "    new_generation = poulation + offspring\n",
    "\n",
    "    new_pop_fit = [0] * len(new_generation)\n",
    "    for i in range(len(new_generation)):\n",
    "        new_pop_fit[i] = fitness_nq(new_generation[i])\n",
    "\n",
    "    new_pop_id = argsort(new_pop_fit)[:base_population]\n",
    "\n",
    "    next_generation = []\n",
    "    for i in range(len(new_generation)):\n",
    "        if i in new_pop_id:\n",
    "            next_generation.append(new_generation[i])\n",
    "\n",
    "    return next_generation"
   ],
   "metadata": {
    "collapsed": false
   }
  },
  {
   "cell_type": "markdown",
   "source": [
    "## Execução"
   ],
   "metadata": {
    "collapsed": false
   }
  },
  {
   "cell_type": "code",
   "execution_count": 61,
   "outputs": [
    {
     "name": "stdout",
     "output_type": "stream",
     "text": [
      "Insira o número de rainhas.\n",
      "[4, 8, 10, 10, 12, 14, 8, 2, 12, 12, 8, 12, 16, 10, 4, 6, 8, 10, 12, 6]\n",
      "[2, 2, 2, 2, 2, 0, 2, 0, 0, 2, 2, 2, 2, 2, 0, 0, 0, 0, 0, 0]\n"
     ]
    }
   ],
   "source": [
    "print(\"Insira o número de rainhas.\")\n",
    "N = 0\n",
    "try:\n",
    "    N = int(input())\n",
    "except:\n",
    "    raise ValueError('ERROR: o valor digitado não é valido!')\n",
    "\n",
    "pupulation = init_population(base_population, N)\n",
    "population_fitt = [0] * base_population\n",
    "\n",
    "for i in range(base_population):\n",
    "    population_fitt[i] = fitness_nq(pupulation[i])\n",
    "print(population_fitt)\n",
    "\n",
    "for i in range(max_generation):\n",
    "    parents = select_parents(pupulation)\n",
    "\n",
    "    offspring = cut_and_crossfill(N, parents)\n",
    "\n",
    "    mutate_offspring(offspring, mutation_rate, N)\n",
    "\n",
    "    pupulation = select_new_generation(pupulation, offspring)\n",
    "\n",
    "\n",
    "for i in range(base_population):\n",
    "    population_fitt[i] = fitness_nq(pupulation[i])\n",
    "print(population_fitt)"
   ],
   "metadata": {
    "collapsed": false
   }
  },
  {
   "cell_type": "code",
   "execution_count": 61,
   "outputs": [],
   "source": [],
   "metadata": {
    "collapsed": false
   }
  }
 ],
 "metadata": {
  "kernelspec": {
   "display_name": "Python 3",
   "language": "python",
   "name": "python3"
  },
  "language_info": {
   "codemirror_mode": {
    "name": "ipython",
    "version": 2
   },
   "file_extension": ".py",
   "mimetype": "text/x-python",
   "name": "python",
   "nbconvert_exporter": "python",
   "pygments_lexer": "ipython2",
   "version": "2.7.6"
  }
 },
 "nbformat": 4,
 "nbformat_minor": 0
}