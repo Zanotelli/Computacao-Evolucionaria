{
 "cells": [
  {
   "cell_type": "markdown",
   "id": "9a6f7cf5",
   "metadata": {},
   "source": [
    "# Programação Genética - Trabalho Final\n",
    "## Leonardo Augusto Ferreira\n",
    "### leauferreira@cpdee.ufmg.br"
   ]
  },
  {
   "cell_type": "markdown",
   "id": "b187aa6c",
   "metadata": {},
   "source": [
    "## Alunos:\n",
    "### Gabriel Camatta Zanotelli - 2018020140\n",
    "### Lucas de Almeida Martins - 2018020328"
   ]
  },
  {
   "cell_type": "code",
   "execution_count": 10,
   "id": "5d1b620e",
   "metadata": {},
   "outputs": [],
   "source": [
    "# Anaconda\n",
    "# !conda install gplearn\n",
    "# !conda install eckity\n",
    "# !conda install pmlb\n",
    "\n",
    "# python - jupyter nootebook - colab\n",
    "# !pip install gplearn\n",
    "# !pip install eckity\n",
    "# !pip install pmlb\n",
    "\n",
    "\n",
    "# documentation:\n",
    "# https://docs.sympy.org/latest/install.html\n",
    "# https://github.com/EC-KitY/EC-KitY\n",
    "# https://epistasislab.github.io/pmlb/"
   ]
  },
  {
   "cell_type": "code",
   "execution_count": 1,
   "id": "8d242802",
   "metadata": {},
   "outputs": [],
   "source": [
    "from pmlb import fetch_data\n",
    "from sklearn.model_selection import train_test_split\n",
    "from sklearn.metrics import accuracy_score\n",
    "from gplearn.genetic import SymbolicRegressor\n",
    "import numpy as np"
   ]
  },
  {
   "cell_type": "code",
   "execution_count": 2,
   "id": "2667311a",
   "metadata": {},
   "outputs": [],
   "source": [
    "from eckity.algorithms.simple_evolution import SimpleEvolution\n",
    "from eckity.sklearn_compatible.sk_classifier import SKClassifier\n",
    "from eckity.breeders.simple_breeder import SimpleBreeder\n",
    "from eckity.creators.gp_creators.ramped_hh import RampedHalfAndHalfCreator\n",
    "from eckity.genetic_encodings.gp.tree.functions import f_add, f_mul, f_sub, f_div, f_neg, f_sqrt, f_log, f_abs, f_inv, f_max, \\\n",
    "    f_min\n",
    "from eckity.genetic_encodings.gp.tree.utils import create_terminal_set\n",
    "from eckity.genetic_operators.crossovers.subtree_crossover import SubtreeCrossover\n",
    "from eckity.genetic_operators.mutations.subtree_mutation import SubtreeMutation\n",
    "from eckity.genetic_operators.selections.tournament_selection import TournamentSelection\n",
    "from eckity.statistics.best_avg_worst_size_tree_statistics import BestAverageWorstSizeTreeStatistics\n",
    "from eckity.subpopulation import Subpopulation\n",
    "from eckity.termination_checkers.threshold_from_target_termination_checker import ThresholdFromTargetTerminationChecker\n",
    "\n",
    "# Adding your own functions\n",
    "from eckity.sklearn_compatible.classification_evaluator import ClassificationEvaluator\n"
   ]
  },
  {
   "cell_type": "code",
   "execution_count": 13,
   "id": "ab71371b",
   "metadata": {},
   "outputs": [],
   "source": [
    "x, y = fetch_data('breast', return_X_y=True)"
   ]
  },
  {
   "cell_type": "code",
   "execution_count": 14,
   "id": "078e8437",
   "metadata": {},
   "outputs": [],
   "source": [
    "x_train, x_test, y_train, y_test = train_test_split(x, y, train_size=.7)"
   ]
  },
  {
   "cell_type": "code",
   "execution_count": 32,
   "id": "468c90c8",
   "metadata": {
    "scrolled": false
   },
   "outputs": [],
   "source": [
    "terminal_set = create_terminal_set(x_train)\n",
    "# function_set = [f_add, f_mul, f_sub, f_div, f_sqrt, f_log, f_abs, f_neg, f_inv, f_max, f_min]\n",
    "\n",
    "function_set = [f_add, f_mul, f_sub, f_div]\n",
    "\n",
    "algo = SimpleEvolution(\n",
    "    Subpopulation(\n",
    "        creators=RampedHalfAndHalfCreator(init_depth=(2, 4),\n",
    "                                                    terminal_set=terminal_set,\n",
    "                                                    function_set=function_set,\n",
    "                                                    bloat_weight=0.0001),\n",
    "        population_size=1000,\n",
    "        evaluator=ClassificationEvaluator(),\n",
    "        higher_is_better=True,\n",
    "        elitism_rate=0.05,\n",
    "        operators_sequence=[\n",
    "            SubtreeCrossover(probability=0.9, arity=2),\n",
    "            SubtreeMutation(probability=0.2, arity=1)\n",
    "        ],\n",
    "        selection_methods=[\n",
    "            # (selection method, selection probability) tuple\n",
    "            (TournamentSelection(tournament_size=4, higher_is_better=True), 1)\n",
    "        ]\n",
    "    ),\n",
    "    breeder=SimpleBreeder(),\n",
    "    max_workers=1,\n",
    "    max_generation=100,\n",
    "\n",
    "    termination_checker=ThresholdFromTargetTerminationChecker(optimal=1, threshold=0.03),\n",
    "    statistics=BestAverageWorstSizeTreeStatistics()\n",
    ")\n",
    "\n",
    "classifier = SKClassifier(algo)\n",
    "\n",
    "classifier.fit(x_train, y_train)"
   ]
  },
  {
   "cell_type": "code",
   "execution_count": 33,
   "id": "6c8fd989",
   "metadata": {},
   "outputs": [],
   "source": [
    "acc = accuracy_score(y_test, classifier.predict(x_test))\n",
    "print(acc)"
   ]
  },
  {
   "cell_type": "markdown",
   "id": "c26bc533",
   "metadata": {},
   "source": [
    "## Comparação de Desempenho entre as Bibliotecas de Programação Genética EC-KitY e GPlearn utilizando Datasets de Regressão e Classificação\n",
    "\n",
    "Para o trabalho final, você deverá utilizar as bibliotecas de programação Genética EC-KitY e GPlearn, juntamente com a biblioteca Penn Machine Learning Benchmarks, a fim de gerar um código Python que realizará testes em três conjuntos de dados para regressão e três conjuntos de dados para classificação. Seu objetivo é comparar as métricas obtidas e determinar qual biblioteca apresenta os melhores resultados.\n",
    "\n",
    "Durante o estudo, você deverá variar as probabilidades de mutação e cruzamento, a fim de identificar a melhor configuração para cada uma das bibliotecas. Registre cuidadosamente os resultados obtidos em relação às métricas avaliadas, considerando medidas como acurácia, precisão, recall, F1-score, erro médio quadrático (RMSE) ou outras relevantes para o problema em questão.\n",
    "\n",
    "Ao final do estudo, apresente uma análise comparativa dos resultados para cada biblioteca, destacando as probabilidades de mutação e cruzamento que produziram os melhores desempenhos. Utilize gráficos, tabelas ou outras visualizações que considerar pertinentes para ilustrar seus resultados e facilitar a compreensão."
   ]
  },
  {
   "cell_type": "markdown",
   "source": [
    "---\n",
    "# Relatório\n",
    "\n",
    "Nesta atividade analisamos a eficiência das bibliotecas de Programação Genética *EC-KitY* e *GPlearn* de forma a fazer uma análise quantitativa da eficiência de ambas, por meio da utilização de diversos conjuntos de dados disponíveis na biblioteca *pmlb*.\n",
    "\n",
    "Esta análise será feita utilizando ambas as bibliotecas para resolução de problemas binários e mono objetivo de quatro conjuntos de dados selecionados, variando dois parâmetros de imensa importância: a probabilidade de mutação e cruzamento. Para cada combinação, serão realizadas diversas iterações, de forma a obter um resultado médio.\n"
   ],
   "metadata": {
    "collapsed": false
   }
  },
  {
   "cell_type": "markdown",
   "source": [
    "### Conjuntos de dados"
   ],
   "metadata": {
    "collapsed": false
   }
  },
  {
   "cell_type": "code",
   "execution_count": 6,
   "outputs": [
    {
     "ename": "ConnectionError",
     "evalue": "HTTPSConnectionPool(host='github.com', port=443): Max retries exceeded with url: /EpistasisLab/penn-ml-benchmarks/raw/master/datasets/1089_USCrime/1089_USCrime.tsv.gz (Caused by NameResolutionError(\"<urllib3.connection.HTTPSConnection object at 0x000001BCAED53070>: Failed to resolve 'github.com' ([Errno 11001] getaddrinfo failed)\"))",
     "output_type": "error",
     "traceback": [
      "\u001B[1;31m---------------------------------------------------------------------------\u001B[0m",
      "\u001B[1;31mgaierror\u001B[0m                                  Traceback (most recent call last)",
      "File \u001B[1;32m~\\Desktop\\UFMG\\Computacao-Evolucionaria\\venv\\lib\\site-packages\\urllib3\\connection.py:200\u001B[0m, in \u001B[0;36mHTTPConnection._new_conn\u001B[1;34m(self)\u001B[0m\n\u001B[0;32m    199\u001B[0m \u001B[38;5;28;01mtry\u001B[39;00m:\n\u001B[1;32m--> 200\u001B[0m     sock \u001B[38;5;241m=\u001B[39m \u001B[43mconnection\u001B[49m\u001B[38;5;241;43m.\u001B[39;49m\u001B[43mcreate_connection\u001B[49m\u001B[43m(\u001B[49m\n\u001B[0;32m    201\u001B[0m \u001B[43m        \u001B[49m\u001B[43m(\u001B[49m\u001B[38;5;28;43mself\u001B[39;49m\u001B[38;5;241;43m.\u001B[39;49m\u001B[43m_dns_host\u001B[49m\u001B[43m,\u001B[49m\u001B[43m \u001B[49m\u001B[38;5;28;43mself\u001B[39;49m\u001B[38;5;241;43m.\u001B[39;49m\u001B[43mport\u001B[49m\u001B[43m)\u001B[49m\u001B[43m,\u001B[49m\n\u001B[0;32m    202\u001B[0m \u001B[43m        \u001B[49m\u001B[38;5;28;43mself\u001B[39;49m\u001B[38;5;241;43m.\u001B[39;49m\u001B[43mtimeout\u001B[49m\u001B[43m,\u001B[49m\n\u001B[0;32m    203\u001B[0m \u001B[43m        \u001B[49m\u001B[43msource_address\u001B[49m\u001B[38;5;241;43m=\u001B[39;49m\u001B[38;5;28;43mself\u001B[39;49m\u001B[38;5;241;43m.\u001B[39;49m\u001B[43msource_address\u001B[49m\u001B[43m,\u001B[49m\n\u001B[0;32m    204\u001B[0m \u001B[43m        \u001B[49m\u001B[43msocket_options\u001B[49m\u001B[38;5;241;43m=\u001B[39;49m\u001B[38;5;28;43mself\u001B[39;49m\u001B[38;5;241;43m.\u001B[39;49m\u001B[43msocket_options\u001B[49m\u001B[43m,\u001B[49m\n\u001B[0;32m    205\u001B[0m \u001B[43m    \u001B[49m\u001B[43m)\u001B[49m\n\u001B[0;32m    206\u001B[0m \u001B[38;5;28;01mexcept\u001B[39;00m socket\u001B[38;5;241m.\u001B[39mgaierror \u001B[38;5;28;01mas\u001B[39;00m e:\n",
      "File \u001B[1;32m~\\Desktop\\UFMG\\Computacao-Evolucionaria\\venv\\lib\\site-packages\\urllib3\\util\\connection.py:60\u001B[0m, in \u001B[0;36mcreate_connection\u001B[1;34m(address, timeout, source_address, socket_options)\u001B[0m\n\u001B[0;32m     58\u001B[0m     \u001B[38;5;28;01mraise\u001B[39;00m LocationParseError(\u001B[38;5;124mf\u001B[39m\u001B[38;5;124m\"\u001B[39m\u001B[38;5;124m'\u001B[39m\u001B[38;5;132;01m{\u001B[39;00mhost\u001B[38;5;132;01m}\u001B[39;00m\u001B[38;5;124m'\u001B[39m\u001B[38;5;124m, label empty or too long\u001B[39m\u001B[38;5;124m\"\u001B[39m) \u001B[38;5;28;01mfrom\u001B[39;00m \u001B[38;5;28mNone\u001B[39m\n\u001B[1;32m---> 60\u001B[0m \u001B[38;5;28;01mfor\u001B[39;00m res \u001B[38;5;129;01min\u001B[39;00m \u001B[43msocket\u001B[49m\u001B[38;5;241;43m.\u001B[39;49m\u001B[43mgetaddrinfo\u001B[49m\u001B[43m(\u001B[49m\u001B[43mhost\u001B[49m\u001B[43m,\u001B[49m\u001B[43m \u001B[49m\u001B[43mport\u001B[49m\u001B[43m,\u001B[49m\u001B[43m \u001B[49m\u001B[43mfamily\u001B[49m\u001B[43m,\u001B[49m\u001B[43m \u001B[49m\u001B[43msocket\u001B[49m\u001B[38;5;241;43m.\u001B[39;49m\u001B[43mSOCK_STREAM\u001B[49m\u001B[43m)\u001B[49m:\n\u001B[0;32m     61\u001B[0m     af, socktype, proto, canonname, sa \u001B[38;5;241m=\u001B[39m res\n",
      "File \u001B[1;32m~\\AppData\\Local\\Programs\\Python\\Python39\\lib\\socket.py:954\u001B[0m, in \u001B[0;36mgetaddrinfo\u001B[1;34m(host, port, family, type, proto, flags)\u001B[0m\n\u001B[0;32m    953\u001B[0m addrlist \u001B[38;5;241m=\u001B[39m []\n\u001B[1;32m--> 954\u001B[0m \u001B[38;5;28;01mfor\u001B[39;00m res \u001B[38;5;129;01min\u001B[39;00m \u001B[43m_socket\u001B[49m\u001B[38;5;241;43m.\u001B[39;49m\u001B[43mgetaddrinfo\u001B[49m\u001B[43m(\u001B[49m\u001B[43mhost\u001B[49m\u001B[43m,\u001B[49m\u001B[43m \u001B[49m\u001B[43mport\u001B[49m\u001B[43m,\u001B[49m\u001B[43m \u001B[49m\u001B[43mfamily\u001B[49m\u001B[43m,\u001B[49m\u001B[43m \u001B[49m\u001B[38;5;28;43mtype\u001B[39;49m\u001B[43m,\u001B[49m\u001B[43m \u001B[49m\u001B[43mproto\u001B[49m\u001B[43m,\u001B[49m\u001B[43m \u001B[49m\u001B[43mflags\u001B[49m\u001B[43m)\u001B[49m:\n\u001B[0;32m    955\u001B[0m     af, socktype, proto, canonname, sa \u001B[38;5;241m=\u001B[39m res\n",
      "\u001B[1;31mgaierror\u001B[0m: [Errno 11001] getaddrinfo failed",
      "\nThe above exception was the direct cause of the following exception:\n",
      "\u001B[1;31mNameResolutionError\u001B[0m                       Traceback (most recent call last)",
      "File \u001B[1;32m~\\Desktop\\UFMG\\Computacao-Evolucionaria\\venv\\lib\\site-packages\\urllib3\\connectionpool.py:790\u001B[0m, in \u001B[0;36mHTTPConnectionPool.urlopen\u001B[1;34m(self, method, url, body, headers, retries, redirect, assert_same_host, timeout, pool_timeout, release_conn, chunked, body_pos, preload_content, decode_content, **response_kw)\u001B[0m\n\u001B[0;32m    789\u001B[0m \u001B[38;5;66;03m# Make the request on the HTTPConnection object\u001B[39;00m\n\u001B[1;32m--> 790\u001B[0m response \u001B[38;5;241m=\u001B[39m \u001B[38;5;28mself\u001B[39m\u001B[38;5;241m.\u001B[39m_make_request(\n\u001B[0;32m    791\u001B[0m     conn,\n\u001B[0;32m    792\u001B[0m     method,\n\u001B[0;32m    793\u001B[0m     url,\n\u001B[0;32m    794\u001B[0m     timeout\u001B[38;5;241m=\u001B[39mtimeout_obj,\n\u001B[0;32m    795\u001B[0m     body\u001B[38;5;241m=\u001B[39mbody,\n\u001B[0;32m    796\u001B[0m     headers\u001B[38;5;241m=\u001B[39mheaders,\n\u001B[0;32m    797\u001B[0m     chunked\u001B[38;5;241m=\u001B[39mchunked,\n\u001B[0;32m    798\u001B[0m     retries\u001B[38;5;241m=\u001B[39mretries,\n\u001B[0;32m    799\u001B[0m     response_conn\u001B[38;5;241m=\u001B[39mresponse_conn,\n\u001B[0;32m    800\u001B[0m     preload_content\u001B[38;5;241m=\u001B[39mpreload_content,\n\u001B[0;32m    801\u001B[0m     decode_content\u001B[38;5;241m=\u001B[39mdecode_content,\n\u001B[0;32m    802\u001B[0m     \u001B[38;5;241m*\u001B[39m\u001B[38;5;241m*\u001B[39mresponse_kw,\n\u001B[0;32m    803\u001B[0m )\n\u001B[0;32m    805\u001B[0m \u001B[38;5;66;03m# Everything went great!\u001B[39;00m\n",
      "File \u001B[1;32m~\\Desktop\\UFMG\\Computacao-Evolucionaria\\venv\\lib\\site-packages\\urllib3\\connectionpool.py:491\u001B[0m, in \u001B[0;36mHTTPConnectionPool._make_request\u001B[1;34m(self, conn, method, url, body, headers, retries, timeout, chunked, response_conn, preload_content, decode_content, enforce_content_length)\u001B[0m\n\u001B[0;32m    490\u001B[0m         new_e \u001B[38;5;241m=\u001B[39m _wrap_proxy_error(new_e, conn\u001B[38;5;241m.\u001B[39mproxy\u001B[38;5;241m.\u001B[39mscheme)\n\u001B[1;32m--> 491\u001B[0m     \u001B[38;5;28;01mraise\u001B[39;00m new_e\n\u001B[0;32m    493\u001B[0m \u001B[38;5;66;03m# conn.request() calls http.client.*.request, not the method in\u001B[39;00m\n\u001B[0;32m    494\u001B[0m \u001B[38;5;66;03m# urllib3.request. It also calls makefile (recv) on the socket.\u001B[39;00m\n",
      "File \u001B[1;32m~\\Desktop\\UFMG\\Computacao-Evolucionaria\\venv\\lib\\site-packages\\urllib3\\connectionpool.py:467\u001B[0m, in \u001B[0;36mHTTPConnectionPool._make_request\u001B[1;34m(self, conn, method, url, body, headers, retries, timeout, chunked, response_conn, preload_content, decode_content, enforce_content_length)\u001B[0m\n\u001B[0;32m    466\u001B[0m \u001B[38;5;28;01mtry\u001B[39;00m:\n\u001B[1;32m--> 467\u001B[0m     \u001B[38;5;28;43mself\u001B[39;49m\u001B[38;5;241;43m.\u001B[39;49m\u001B[43m_validate_conn\u001B[49m\u001B[43m(\u001B[49m\u001B[43mconn\u001B[49m\u001B[43m)\u001B[49m\n\u001B[0;32m    468\u001B[0m \u001B[38;5;28;01mexcept\u001B[39;00m (SocketTimeout, BaseSSLError) \u001B[38;5;28;01mas\u001B[39;00m e:\n",
      "File \u001B[1;32m~\\Desktop\\UFMG\\Computacao-Evolucionaria\\venv\\lib\\site-packages\\urllib3\\connectionpool.py:1092\u001B[0m, in \u001B[0;36mHTTPSConnectionPool._validate_conn\u001B[1;34m(self, conn)\u001B[0m\n\u001B[0;32m   1091\u001B[0m \u001B[38;5;28;01mif\u001B[39;00m conn\u001B[38;5;241m.\u001B[39mis_closed:\n\u001B[1;32m-> 1092\u001B[0m     \u001B[43mconn\u001B[49m\u001B[38;5;241;43m.\u001B[39;49m\u001B[43mconnect\u001B[49m\u001B[43m(\u001B[49m\u001B[43m)\u001B[49m\n\u001B[0;32m   1094\u001B[0m \u001B[38;5;28;01mif\u001B[39;00m \u001B[38;5;129;01mnot\u001B[39;00m conn\u001B[38;5;241m.\u001B[39mis_verified:\n",
      "File \u001B[1;32m~\\Desktop\\UFMG\\Computacao-Evolucionaria\\venv\\lib\\site-packages\\urllib3\\connection.py:604\u001B[0m, in \u001B[0;36mHTTPSConnection.connect\u001B[1;34m(self)\u001B[0m\n\u001B[0;32m    603\u001B[0m sock: socket\u001B[38;5;241m.\u001B[39msocket \u001B[38;5;241m|\u001B[39m ssl\u001B[38;5;241m.\u001B[39mSSLSocket\n\u001B[1;32m--> 604\u001B[0m \u001B[38;5;28mself\u001B[39m\u001B[38;5;241m.\u001B[39msock \u001B[38;5;241m=\u001B[39m sock \u001B[38;5;241m=\u001B[39m \u001B[38;5;28;43mself\u001B[39;49m\u001B[38;5;241;43m.\u001B[39;49m\u001B[43m_new_conn\u001B[49m\u001B[43m(\u001B[49m\u001B[43m)\u001B[49m\n\u001B[0;32m    605\u001B[0m server_hostname: \u001B[38;5;28mstr\u001B[39m \u001B[38;5;241m=\u001B[39m \u001B[38;5;28mself\u001B[39m\u001B[38;5;241m.\u001B[39mhost\n",
      "File \u001B[1;32m~\\Desktop\\UFMG\\Computacao-Evolucionaria\\venv\\lib\\site-packages\\urllib3\\connection.py:207\u001B[0m, in \u001B[0;36mHTTPConnection._new_conn\u001B[1;34m(self)\u001B[0m\n\u001B[0;32m    206\u001B[0m \u001B[38;5;28;01mexcept\u001B[39;00m socket\u001B[38;5;241m.\u001B[39mgaierror \u001B[38;5;28;01mas\u001B[39;00m e:\n\u001B[1;32m--> 207\u001B[0m     \u001B[38;5;28;01mraise\u001B[39;00m NameResolutionError(\u001B[38;5;28mself\u001B[39m\u001B[38;5;241m.\u001B[39mhost, \u001B[38;5;28mself\u001B[39m, e) \u001B[38;5;28;01mfrom\u001B[39;00m \u001B[38;5;21;01me\u001B[39;00m\n\u001B[0;32m    208\u001B[0m \u001B[38;5;28;01mexcept\u001B[39;00m SocketTimeout \u001B[38;5;28;01mas\u001B[39;00m e:\n",
      "\u001B[1;31mNameResolutionError\u001B[0m: <urllib3.connection.HTTPSConnection object at 0x000001BCAED53070>: Failed to resolve 'github.com' ([Errno 11001] getaddrinfo failed)",
      "\nThe above exception was the direct cause of the following exception:\n",
      "\u001B[1;31mMaxRetryError\u001B[0m                             Traceback (most recent call last)",
      "File \u001B[1;32m~\\Desktop\\UFMG\\Computacao-Evolucionaria\\venv\\lib\\site-packages\\requests\\adapters.py:486\u001B[0m, in \u001B[0;36mHTTPAdapter.send\u001B[1;34m(self, request, stream, timeout, verify, cert, proxies)\u001B[0m\n\u001B[0;32m    485\u001B[0m \u001B[38;5;28;01mtry\u001B[39;00m:\n\u001B[1;32m--> 486\u001B[0m     resp \u001B[38;5;241m=\u001B[39m \u001B[43mconn\u001B[49m\u001B[38;5;241;43m.\u001B[39;49m\u001B[43murlopen\u001B[49m\u001B[43m(\u001B[49m\n\u001B[0;32m    487\u001B[0m \u001B[43m        \u001B[49m\u001B[43mmethod\u001B[49m\u001B[38;5;241;43m=\u001B[39;49m\u001B[43mrequest\u001B[49m\u001B[38;5;241;43m.\u001B[39;49m\u001B[43mmethod\u001B[49m\u001B[43m,\u001B[49m\n\u001B[0;32m    488\u001B[0m \u001B[43m        \u001B[49m\u001B[43murl\u001B[49m\u001B[38;5;241;43m=\u001B[39;49m\u001B[43murl\u001B[49m\u001B[43m,\u001B[49m\n\u001B[0;32m    489\u001B[0m \u001B[43m        \u001B[49m\u001B[43mbody\u001B[49m\u001B[38;5;241;43m=\u001B[39;49m\u001B[43mrequest\u001B[49m\u001B[38;5;241;43m.\u001B[39;49m\u001B[43mbody\u001B[49m\u001B[43m,\u001B[49m\n\u001B[0;32m    490\u001B[0m \u001B[43m        \u001B[49m\u001B[43mheaders\u001B[49m\u001B[38;5;241;43m=\u001B[39;49m\u001B[43mrequest\u001B[49m\u001B[38;5;241;43m.\u001B[39;49m\u001B[43mheaders\u001B[49m\u001B[43m,\u001B[49m\n\u001B[0;32m    491\u001B[0m \u001B[43m        \u001B[49m\u001B[43mredirect\u001B[49m\u001B[38;5;241;43m=\u001B[39;49m\u001B[38;5;28;43;01mFalse\u001B[39;49;00m\u001B[43m,\u001B[49m\n\u001B[0;32m    492\u001B[0m \u001B[43m        \u001B[49m\u001B[43massert_same_host\u001B[49m\u001B[38;5;241;43m=\u001B[39;49m\u001B[38;5;28;43;01mFalse\u001B[39;49;00m\u001B[43m,\u001B[49m\n\u001B[0;32m    493\u001B[0m \u001B[43m        \u001B[49m\u001B[43mpreload_content\u001B[49m\u001B[38;5;241;43m=\u001B[39;49m\u001B[38;5;28;43;01mFalse\u001B[39;49;00m\u001B[43m,\u001B[49m\n\u001B[0;32m    494\u001B[0m \u001B[43m        \u001B[49m\u001B[43mdecode_content\u001B[49m\u001B[38;5;241;43m=\u001B[39;49m\u001B[38;5;28;43;01mFalse\u001B[39;49;00m\u001B[43m,\u001B[49m\n\u001B[0;32m    495\u001B[0m \u001B[43m        \u001B[49m\u001B[43mretries\u001B[49m\u001B[38;5;241;43m=\u001B[39;49m\u001B[38;5;28;43mself\u001B[39;49m\u001B[38;5;241;43m.\u001B[39;49m\u001B[43mmax_retries\u001B[49m\u001B[43m,\u001B[49m\n\u001B[0;32m    496\u001B[0m \u001B[43m        \u001B[49m\u001B[43mtimeout\u001B[49m\u001B[38;5;241;43m=\u001B[39;49m\u001B[43mtimeout\u001B[49m\u001B[43m,\u001B[49m\n\u001B[0;32m    497\u001B[0m \u001B[43m        \u001B[49m\u001B[43mchunked\u001B[49m\u001B[38;5;241;43m=\u001B[39;49m\u001B[43mchunked\u001B[49m\u001B[43m,\u001B[49m\n\u001B[0;32m    498\u001B[0m \u001B[43m    \u001B[49m\u001B[43m)\u001B[49m\n\u001B[0;32m    500\u001B[0m \u001B[38;5;28;01mexcept\u001B[39;00m (ProtocolError, \u001B[38;5;167;01mOSError\u001B[39;00m) \u001B[38;5;28;01mas\u001B[39;00m err:\n",
      "File \u001B[1;32m~\\Desktop\\UFMG\\Computacao-Evolucionaria\\venv\\lib\\site-packages\\urllib3\\connectionpool.py:844\u001B[0m, in \u001B[0;36mHTTPConnectionPool.urlopen\u001B[1;34m(self, method, url, body, headers, retries, redirect, assert_same_host, timeout, pool_timeout, release_conn, chunked, body_pos, preload_content, decode_content, **response_kw)\u001B[0m\n\u001B[0;32m    842\u001B[0m     new_e \u001B[38;5;241m=\u001B[39m ProtocolError(\u001B[38;5;124m\"\u001B[39m\u001B[38;5;124mConnection aborted.\u001B[39m\u001B[38;5;124m\"\u001B[39m, new_e)\n\u001B[1;32m--> 844\u001B[0m retries \u001B[38;5;241m=\u001B[39m \u001B[43mretries\u001B[49m\u001B[38;5;241;43m.\u001B[39;49m\u001B[43mincrement\u001B[49m\u001B[43m(\u001B[49m\n\u001B[0;32m    845\u001B[0m \u001B[43m    \u001B[49m\u001B[43mmethod\u001B[49m\u001B[43m,\u001B[49m\u001B[43m \u001B[49m\u001B[43murl\u001B[49m\u001B[43m,\u001B[49m\u001B[43m \u001B[49m\u001B[43merror\u001B[49m\u001B[38;5;241;43m=\u001B[39;49m\u001B[43mnew_e\u001B[49m\u001B[43m,\u001B[49m\u001B[43m \u001B[49m\u001B[43m_pool\u001B[49m\u001B[38;5;241;43m=\u001B[39;49m\u001B[38;5;28;43mself\u001B[39;49m\u001B[43m,\u001B[49m\u001B[43m \u001B[49m\u001B[43m_stacktrace\u001B[49m\u001B[38;5;241;43m=\u001B[39;49m\u001B[43msys\u001B[49m\u001B[38;5;241;43m.\u001B[39;49m\u001B[43mexc_info\u001B[49m\u001B[43m(\u001B[49m\u001B[43m)\u001B[49m\u001B[43m[\u001B[49m\u001B[38;5;241;43m2\u001B[39;49m\u001B[43m]\u001B[49m\n\u001B[0;32m    846\u001B[0m \u001B[43m\u001B[49m\u001B[43m)\u001B[49m\n\u001B[0;32m    847\u001B[0m retries\u001B[38;5;241m.\u001B[39msleep()\n",
      "File \u001B[1;32m~\\Desktop\\UFMG\\Computacao-Evolucionaria\\venv\\lib\\site-packages\\urllib3\\util\\retry.py:515\u001B[0m, in \u001B[0;36mRetry.increment\u001B[1;34m(self, method, url, response, error, _pool, _stacktrace)\u001B[0m\n\u001B[0;32m    514\u001B[0m     reason \u001B[38;5;241m=\u001B[39m error \u001B[38;5;129;01mor\u001B[39;00m ResponseError(cause)\n\u001B[1;32m--> 515\u001B[0m     \u001B[38;5;28;01mraise\u001B[39;00m MaxRetryError(_pool, url, reason) \u001B[38;5;28;01mfrom\u001B[39;00m \u001B[38;5;21;01mreason\u001B[39;00m  \u001B[38;5;66;03m# type: ignore[arg-type]\u001B[39;00m\n\u001B[0;32m    517\u001B[0m log\u001B[38;5;241m.\u001B[39mdebug(\u001B[38;5;124m\"\u001B[39m\u001B[38;5;124mIncremented Retry for (url=\u001B[39m\u001B[38;5;124m'\u001B[39m\u001B[38;5;132;01m%s\u001B[39;00m\u001B[38;5;124m'\u001B[39m\u001B[38;5;124m): \u001B[39m\u001B[38;5;132;01m%r\u001B[39;00m\u001B[38;5;124m\"\u001B[39m, url, new_retry)\n",
      "\u001B[1;31mMaxRetryError\u001B[0m: HTTPSConnectionPool(host='github.com', port=443): Max retries exceeded with url: /EpistasisLab/penn-ml-benchmarks/raw/master/datasets/1089_USCrime/1089_USCrime.tsv.gz (Caused by NameResolutionError(\"<urllib3.connection.HTTPSConnection object at 0x000001BCAED53070>: Failed to resolve 'github.com' ([Errno 11001] getaddrinfo failed)\"))",
      "\nDuring handling of the above exception, another exception occurred:\n",
      "\u001B[1;31mConnectionError\u001B[0m                           Traceback (most recent call last)",
      "Cell \u001B[1;32mIn[6], line 1\u001B[0m\n\u001B[1;32m----> 1\u001B[0m x1, y1 \u001B[38;5;241m=\u001B[39m \u001B[43mfetch_data\u001B[49m\u001B[43m(\u001B[49m\u001B[38;5;124;43m'\u001B[39;49m\u001B[38;5;124;43m1089_USCrime\u001B[39;49m\u001B[38;5;124;43m'\u001B[39;49m\u001B[43m,\u001B[49m\u001B[43m \u001B[49m\u001B[43mreturn_X_y\u001B[49m\u001B[38;5;241;43m=\u001B[39;49m\u001B[38;5;28;43;01mTrue\u001B[39;49;00m\u001B[43m)\u001B[49m\n\u001B[0;32m      2\u001B[0m x2, y2 \u001B[38;5;241m=\u001B[39m fetch_data(\u001B[38;5;124m'\u001B[39m\u001B[38;5;124mcloud\u001B[39m\u001B[38;5;124m'\u001B[39m, return_X_y\u001B[38;5;241m=\u001B[39m\u001B[38;5;28;01mTrue\u001B[39;00m)\n\u001B[0;32m      3\u001B[0m x3, y3 \u001B[38;5;241m=\u001B[39m fetch_data(\u001B[38;5;124m'\u001B[39m\u001B[38;5;124m201_pol\u001B[39m\u001B[38;5;124m'\u001B[39m, return_X_y\u001B[38;5;241m=\u001B[39m\u001B[38;5;28;01mTrue\u001B[39;00m)\n",
      "File \u001B[1;32m~\\Desktop\\UFMG\\Computacao-Evolucionaria\\venv\\lib\\site-packages\\pmlb\\pmlb.py:66\u001B[0m, in \u001B[0;36mfetch_data\u001B[1;34m(dataset_name, return_X_y, local_cache_dir, dropna)\u001B[0m\n\u001B[0;32m     64\u001B[0m     \u001B[38;5;28;01mif\u001B[39;00m dataset_name \u001B[38;5;129;01mnot\u001B[39;00m \u001B[38;5;129;01min\u001B[39;00m dataset_names:\n\u001B[0;32m     65\u001B[0m         \u001B[38;5;28;01mraise\u001B[39;00m \u001B[38;5;167;01mValueError\u001B[39;00m(\u001B[38;5;124m'\u001B[39m\u001B[38;5;124mDataset not found in PMLB.\u001B[39m\u001B[38;5;124m'\u001B[39m)\n\u001B[1;32m---> 66\u001B[0m     dataset_url \u001B[38;5;241m=\u001B[39m \u001B[43mget_dataset_url\u001B[49m\u001B[43m(\u001B[49m\u001B[43mGITHUB_URL\u001B[49m\u001B[43m,\u001B[49m\n\u001B[0;32m     67\u001B[0m \u001B[43m                                    \u001B[49m\u001B[43mdataset_name\u001B[49m\u001B[43m,\u001B[49m\u001B[43m \u001B[49m\u001B[43msuffix\u001B[49m\u001B[43m)\u001B[49m\n\u001B[0;32m     68\u001B[0m     dataset \u001B[38;5;241m=\u001B[39m pd\u001B[38;5;241m.\u001B[39mread_csv(dataset_url, sep\u001B[38;5;241m=\u001B[39m\u001B[38;5;124m'\u001B[39m\u001B[38;5;130;01m\\t\u001B[39;00m\u001B[38;5;124m'\u001B[39m, compression\u001B[38;5;241m=\u001B[39m\u001B[38;5;124m'\u001B[39m\u001B[38;5;124mgzip\u001B[39m\u001B[38;5;124m'\u001B[39m)\n\u001B[0;32m     69\u001B[0m \u001B[38;5;28;01melse\u001B[39;00m:\n",
      "File \u001B[1;32m~\\Desktop\\UFMG\\Computacao-Evolucionaria\\venv\\lib\\site-packages\\pmlb\\pmlb.py:106\u001B[0m, in \u001B[0;36mget_dataset_url\u001B[1;34m(GITHUB_URL, dataset_name, suffix)\u001B[0m\n\u001B[0;32m     99\u001B[0m \u001B[38;5;28;01mdef\u001B[39;00m \u001B[38;5;21mget_dataset_url\u001B[39m(GITHUB_URL, dataset_name, suffix):\n\u001B[0;32m    100\u001B[0m     dataset_url \u001B[38;5;241m=\u001B[39m \u001B[38;5;124m'\u001B[39m\u001B[38;5;132;01m{GITHUB_URL}\u001B[39;00m\u001B[38;5;124m/\u001B[39m\u001B[38;5;132;01m{DATASET_NAME}\u001B[39;00m\u001B[38;5;124m/\u001B[39m\u001B[38;5;132;01m{DATASET_NAME}\u001B[39;00m\u001B[38;5;132;01m{SUFFIX}\u001B[39;00m\u001B[38;5;124m'\u001B[39m\u001B[38;5;241m.\u001B[39mformat(\n\u001B[0;32m    101\u001B[0m                                 GITHUB_URL\u001B[38;5;241m=\u001B[39mGITHUB_URL,\n\u001B[0;32m    102\u001B[0m                                 DATASET_NAME\u001B[38;5;241m=\u001B[39mdataset_name,\n\u001B[0;32m    103\u001B[0m                                 SUFFIX\u001B[38;5;241m=\u001B[39msuffix\n\u001B[0;32m    104\u001B[0m                                 )\n\u001B[1;32m--> 106\u001B[0m     re \u001B[38;5;241m=\u001B[39m \u001B[43mrequests\u001B[49m\u001B[38;5;241;43m.\u001B[39;49m\u001B[43mget\u001B[49m\u001B[43m(\u001B[49m\u001B[43mdataset_url\u001B[49m\u001B[43m)\u001B[49m\n\u001B[0;32m    107\u001B[0m     \u001B[38;5;28;01mif\u001B[39;00m re\u001B[38;5;241m.\u001B[39mstatus_code \u001B[38;5;241m!=\u001B[39m \u001B[38;5;241m200\u001B[39m:\n\u001B[0;32m    108\u001B[0m         \u001B[38;5;28;01mraise\u001B[39;00m \u001B[38;5;167;01mValueError\u001B[39;00m(\u001B[38;5;124m'\u001B[39m\u001B[38;5;124mDataset not found in PMLB.\u001B[39m\u001B[38;5;124m'\u001B[39m)\n",
      "File \u001B[1;32m~\\Desktop\\UFMG\\Computacao-Evolucionaria\\venv\\lib\\site-packages\\requests\\api.py:73\u001B[0m, in \u001B[0;36mget\u001B[1;34m(url, params, **kwargs)\u001B[0m\n\u001B[0;32m     62\u001B[0m \u001B[38;5;28;01mdef\u001B[39;00m \u001B[38;5;21mget\u001B[39m(url, params\u001B[38;5;241m=\u001B[39m\u001B[38;5;28;01mNone\u001B[39;00m, \u001B[38;5;241m*\u001B[39m\u001B[38;5;241m*\u001B[39mkwargs):\n\u001B[0;32m     63\u001B[0m \u001B[38;5;250m    \u001B[39m\u001B[38;5;124mr\u001B[39m\u001B[38;5;124;03m\"\"\"Sends a GET request.\u001B[39;00m\n\u001B[0;32m     64\u001B[0m \n\u001B[0;32m     65\u001B[0m \u001B[38;5;124;03m    :param url: URL for the new :class:`Request` object.\u001B[39;00m\n\u001B[1;32m   (...)\u001B[0m\n\u001B[0;32m     70\u001B[0m \u001B[38;5;124;03m    :rtype: requests.Response\u001B[39;00m\n\u001B[0;32m     71\u001B[0m \u001B[38;5;124;03m    \"\"\"\u001B[39;00m\n\u001B[1;32m---> 73\u001B[0m     \u001B[38;5;28;01mreturn\u001B[39;00m request(\u001B[38;5;124m\"\u001B[39m\u001B[38;5;124mget\u001B[39m\u001B[38;5;124m\"\u001B[39m, url, params\u001B[38;5;241m=\u001B[39mparams, \u001B[38;5;241m*\u001B[39m\u001B[38;5;241m*\u001B[39mkwargs)\n",
      "File \u001B[1;32m~\\Desktop\\UFMG\\Computacao-Evolucionaria\\venv\\lib\\site-packages\\requests\\api.py:59\u001B[0m, in \u001B[0;36mrequest\u001B[1;34m(method, url, **kwargs)\u001B[0m\n\u001B[0;32m     55\u001B[0m \u001B[38;5;66;03m# By using the 'with' statement we are sure the session is closed, thus we\u001B[39;00m\n\u001B[0;32m     56\u001B[0m \u001B[38;5;66;03m# avoid leaving sockets open which can trigger a ResourceWarning in some\u001B[39;00m\n\u001B[0;32m     57\u001B[0m \u001B[38;5;66;03m# cases, and look like a memory leak in others.\u001B[39;00m\n\u001B[0;32m     58\u001B[0m \u001B[38;5;28;01mwith\u001B[39;00m sessions\u001B[38;5;241m.\u001B[39mSession() \u001B[38;5;28;01mas\u001B[39;00m session:\n\u001B[1;32m---> 59\u001B[0m     \u001B[38;5;28;01mreturn\u001B[39;00m session\u001B[38;5;241m.\u001B[39mrequest(method\u001B[38;5;241m=\u001B[39mmethod, url\u001B[38;5;241m=\u001B[39murl, \u001B[38;5;241m*\u001B[39m\u001B[38;5;241m*\u001B[39mkwargs)\n",
      "File \u001B[1;32m~\\Desktop\\UFMG\\Computacao-Evolucionaria\\venv\\lib\\site-packages\\requests\\sessions.py:589\u001B[0m, in \u001B[0;36mSession.request\u001B[1;34m(self, method, url, params, data, headers, cookies, files, auth, timeout, allow_redirects, proxies, hooks, stream, verify, cert, json)\u001B[0m\n\u001B[0;32m    584\u001B[0m send_kwargs \u001B[38;5;241m=\u001B[39m {\n\u001B[0;32m    585\u001B[0m     \u001B[38;5;124m\"\u001B[39m\u001B[38;5;124mtimeout\u001B[39m\u001B[38;5;124m\"\u001B[39m: timeout,\n\u001B[0;32m    586\u001B[0m     \u001B[38;5;124m\"\u001B[39m\u001B[38;5;124mallow_redirects\u001B[39m\u001B[38;5;124m\"\u001B[39m: allow_redirects,\n\u001B[0;32m    587\u001B[0m }\n\u001B[0;32m    588\u001B[0m send_kwargs\u001B[38;5;241m.\u001B[39mupdate(settings)\n\u001B[1;32m--> 589\u001B[0m resp \u001B[38;5;241m=\u001B[39m \u001B[38;5;28mself\u001B[39m\u001B[38;5;241m.\u001B[39msend(prep, \u001B[38;5;241m*\u001B[39m\u001B[38;5;241m*\u001B[39msend_kwargs)\n\u001B[0;32m    591\u001B[0m \u001B[38;5;28;01mreturn\u001B[39;00m resp\n",
      "File \u001B[1;32m~\\Desktop\\UFMG\\Computacao-Evolucionaria\\venv\\lib\\site-packages\\requests\\sessions.py:703\u001B[0m, in \u001B[0;36mSession.send\u001B[1;34m(self, request, **kwargs)\u001B[0m\n\u001B[0;32m    700\u001B[0m start \u001B[38;5;241m=\u001B[39m preferred_clock()\n\u001B[0;32m    702\u001B[0m \u001B[38;5;66;03m# Send the request\u001B[39;00m\n\u001B[1;32m--> 703\u001B[0m r \u001B[38;5;241m=\u001B[39m adapter\u001B[38;5;241m.\u001B[39msend(request, \u001B[38;5;241m*\u001B[39m\u001B[38;5;241m*\u001B[39mkwargs)\n\u001B[0;32m    705\u001B[0m \u001B[38;5;66;03m# Total elapsed time of the request (approximately)\u001B[39;00m\n\u001B[0;32m    706\u001B[0m elapsed \u001B[38;5;241m=\u001B[39m preferred_clock() \u001B[38;5;241m-\u001B[39m start\n",
      "File \u001B[1;32m~\\Desktop\\UFMG\\Computacao-Evolucionaria\\venv\\lib\\site-packages\\requests\\adapters.py:519\u001B[0m, in \u001B[0;36mHTTPAdapter.send\u001B[1;34m(self, request, stream, timeout, verify, cert, proxies)\u001B[0m\n\u001B[0;32m    515\u001B[0m     \u001B[38;5;28;01mif\u001B[39;00m \u001B[38;5;28misinstance\u001B[39m(e\u001B[38;5;241m.\u001B[39mreason, _SSLError):\n\u001B[0;32m    516\u001B[0m         \u001B[38;5;66;03m# This branch is for urllib3 v1.22 and later.\u001B[39;00m\n\u001B[0;32m    517\u001B[0m         \u001B[38;5;28;01mraise\u001B[39;00m SSLError(e, request\u001B[38;5;241m=\u001B[39mrequest)\n\u001B[1;32m--> 519\u001B[0m     \u001B[38;5;28;01mraise\u001B[39;00m \u001B[38;5;167;01mConnectionError\u001B[39;00m(e, request\u001B[38;5;241m=\u001B[39mrequest)\n\u001B[0;32m    521\u001B[0m \u001B[38;5;28;01mexcept\u001B[39;00m ClosedPoolError \u001B[38;5;28;01mas\u001B[39;00m e:\n\u001B[0;32m    522\u001B[0m     \u001B[38;5;28;01mraise\u001B[39;00m \u001B[38;5;167;01mConnectionError\u001B[39;00m(e, request\u001B[38;5;241m=\u001B[39mrequest)\n",
      "\u001B[1;31mConnectionError\u001B[0m: HTTPSConnectionPool(host='github.com', port=443): Max retries exceeded with url: /EpistasisLab/penn-ml-benchmarks/raw/master/datasets/1089_USCrime/1089_USCrime.tsv.gz (Caused by NameResolutionError(\"<urllib3.connection.HTTPSConnection object at 0x000001BCAED53070>: Failed to resolve 'github.com' ([Errno 11001] getaddrinfo failed)\"))"
     ]
    }
   ],
   "source": [
    "x1, y1 = fetch_data('1089_USCrime', return_X_y=True)\n",
    "x2, y2 = fetch_data('cloud', return_X_y=True)\n",
    "x3, y3 = fetch_data('201_pol', return_X_y=True)\n",
    "x4, y4 = fetch_data('poker', return_X_y=True)"
   ],
   "metadata": {
    "collapsed": false
   }
  },
  {
   "cell_type": "markdown",
   "source": [
    "### Desenvolvimento\n",
    "\n",
    "Para ambas as bibliotecas serão adotados alguns parâmetros comuns e imutáveis ao longo dos testes realizados:\n",
    "- População máxima de 1000 indivíduos\n",
    "- Mesmo conjunto de equações para a resolução do problema (adição, subtração, multiplicação e divisão)\n",
    "- Valores base de probabilidade de mutação como 70% e probabilidade de cruzamento e 100%\n",
    "- Serão testados valores da probabilidade de mutação de 30-90%, com um passo de 20%\n",
    "- Serão testados valores da probabilidade de cruzamento de 40-100%, com um passo de 20%\n",
    "- Máximo de 100 gerações\n",
    "- Para cada caso, serão feitas um número de execuções de garantam uma certa segurança dos resultados. Para essa ativiade, serão feitas 10 iterações"
   ],
   "metadata": {
    "collapsed": false
   }
  },
  {
   "cell_type": "markdown",
   "source": [
    "### Set-up"
   ],
   "metadata": {
    "collapsed": false
   }
  },
  {
   "cell_type": "code",
   "execution_count": 3,
   "outputs": [],
   "source": [
    "function_set = [f_add, f_mul, f_sub, f_div]\n",
    "mutation_vec  = [0.3, 0.5, 0.7, 0.9]\n",
    "crossover_vec = [0.4, 0.6, 0.8, 1]\n",
    "iterations = 10\n",
    "f = lambda x_0, x_1 : x_0**2 - x_1**2 + x_1 - 1"
   ],
   "metadata": {
    "collapsed": false
   }
  },
  {
   "cell_type": "markdown",
   "source": [
    "### EC-KitY"
   ],
   "metadata": {
    "collapsed": false
   }
  },
  {
   "cell_type": "code",
   "execution_count": 4,
   "outputs": [],
   "source": [
    "def ec_kity(x, y, _mutation = 0.7, _crossover = 1, _higher_is_better = True):\n",
    "\n",
    "    x_train, x_test, y_train, y_test = train_test_split(x, y, train_size=.7)\n",
    "    terminal_set = create_terminal_set(x_train)\n",
    "\n",
    "    algo = SimpleEvolution(\n",
    "        Subpopulation(\n",
    "            creators=RampedHalfAndHalfCreator(init_depth=(2, 4),\n",
    "                                                        terminal_set=terminal_set,\n",
    "                                                        function_set=function_set,\n",
    "                                                        bloat_weight=0.0001),\n",
    "            population_size=1000,\n",
    "            evaluator=ClassificationEvaluator(),\n",
    "            higher_is_better=_higher_is_better,\n",
    "            elitism_rate=0.05,\n",
    "            operators_sequence=[\n",
    "                SubtreeCrossover(probability=_mutation, arity=2),\n",
    "                SubtreeMutation(probability=_crossover, arity=1)\n",
    "            ],\n",
    "            selection_methods=[\n",
    "                # (selection method, selection probability) tuple\n",
    "                (TournamentSelection(tournament_size=4, higher_is_better=True), 1)\n",
    "            ]\n",
    "        ),\n",
    "        breeder=SimpleBreeder(),\n",
    "        max_workers=1,\n",
    "        max_generation=100,\n",
    "\n",
    "        termination_checker=ThresholdFromTargetTerminationChecker(optimal=1, threshold=0.03),\n",
    "        statistics=BestAverageWorstSizeTreeStatistics()\n",
    "    )\n",
    "\n",
    "    classifier = SKClassifier(algo)\n",
    "\n",
    "    classifier.fit(x_train, y_train)\n",
    "    return accuracy_score(y_test, classifier.predict(x_test))"
   ],
   "metadata": {
    "collapsed": false
   }
  },
  {
   "cell_type": "markdown",
   "source": [
    "### GPLearn"
   ],
   "metadata": {
    "collapsed": false
   }
  },
  {
   "cell_type": "code",
   "execution_count": 59,
   "outputs": [],
   "source": [
    "def gp_learn(x, y, _mutation = 0.7, _crossover = 1, _higher_is_better = True):\n",
    "\n",
    "    x_train, x_test, y_train, y_test = train_test_split(x, y, train_size=.7)\n",
    "\n",
    "    gplearn_model = SymbolicRegressor(population_size=1000,\n",
    "                                      generations=100,\n",
    "                                      function_set=('add', 'sub', 'mul', 'div'),\n",
    "                                      stopping_criteria=0.01,\n",
    "                                      p_crossover=_crossover,\n",
    "                                      p_subtree_mutation=0.1,\n",
    "                                      p_hoist_mutation=0.05,\n",
    "                                      p_point_mutation=_mutation,\n",
    "                                      max_samples=0.9,\n",
    "                                      verbose=1,\n",
    "                                      parsimony_coefficient=0.01,\n",
    "                                      random_state=0)\n",
    "\n",
    "    gplearn_model.fit(x_train, y_train)\n",
    "    return accuracy_score(y_test, gplearn_model.predict(x_test))"
   ],
   "metadata": {
    "collapsed": false
   }
  },
  {
   "cell_type": "markdown",
   "source": [
    "## Execução"
   ],
   "metadata": {
    "collapsed": false
   }
  },
  {
   "cell_type": "code",
   "execution_count": 5,
   "outputs": [
    {
     "ename": "NameError",
     "evalue": "name 'x1' is not defined",
     "output_type": "error",
     "traceback": [
      "\u001B[1;31m---------------------------------------------------------------------------\u001B[0m",
      "\u001B[1;31mNameError\u001B[0m                                 Traceback (most recent call last)",
      "Cell \u001B[1;32mIn[5], line 14\u001B[0m\n\u001B[0;32m     12\u001B[0m \u001B[38;5;66;03m# US Crime\u001B[39;00m\n\u001B[0;32m     13\u001B[0m \u001B[38;5;28;01mfor\u001B[39;00m cross \u001B[38;5;129;01min\u001B[39;00m crossover_vec:\n\u001B[1;32m---> 14\u001B[0m     usc_ec_kity_cross_results\u001B[38;5;241m.\u001B[39mappend([ec_kity(x1, y1, _crossover\u001B[38;5;241m=\u001B[39mcross, _higher_is_better\u001B[38;5;241m=\u001B[39m\u001B[38;5;28;01mFalse\u001B[39;00m) \u001B[38;5;28;01mfor\u001B[39;00m _ \u001B[38;5;129;01min\u001B[39;00m \u001B[38;5;28mrange\u001B[39m(iterations)])\n\u001B[0;32m     15\u001B[0m \u001B[38;5;28;01mfor\u001B[39;00m mut \u001B[38;5;129;01min\u001B[39;00m mutation_vec:\n\u001B[0;32m     16\u001B[0m     usc_ec_kity_mutt_results\u001B[38;5;241m.\u001B[39mappend( [ec_kity(x1, y1, _mutation\u001B[38;5;241m=\u001B[39mmut, _higher_is_better\u001B[38;5;241m=\u001B[39m\u001B[38;5;28;01mFalse\u001B[39;00m) \u001B[38;5;28;01mfor\u001B[39;00m _ \u001B[38;5;129;01min\u001B[39;00m \u001B[38;5;28mrange\u001B[39m(iterations)])\n",
      "Cell \u001B[1;32mIn[5], line 14\u001B[0m, in \u001B[0;36m<listcomp>\u001B[1;34m(.0)\u001B[0m\n\u001B[0;32m     12\u001B[0m \u001B[38;5;66;03m# US Crime\u001B[39;00m\n\u001B[0;32m     13\u001B[0m \u001B[38;5;28;01mfor\u001B[39;00m cross \u001B[38;5;129;01min\u001B[39;00m crossover_vec:\n\u001B[1;32m---> 14\u001B[0m     usc_ec_kity_cross_results\u001B[38;5;241m.\u001B[39mappend([ec_kity(\u001B[43mx1\u001B[49m, y1, _crossover\u001B[38;5;241m=\u001B[39mcross, _higher_is_better\u001B[38;5;241m=\u001B[39m\u001B[38;5;28;01mFalse\u001B[39;00m) \u001B[38;5;28;01mfor\u001B[39;00m _ \u001B[38;5;129;01min\u001B[39;00m \u001B[38;5;28mrange\u001B[39m(iterations)])\n\u001B[0;32m     15\u001B[0m \u001B[38;5;28;01mfor\u001B[39;00m mut \u001B[38;5;129;01min\u001B[39;00m mutation_vec:\n\u001B[0;32m     16\u001B[0m     usc_ec_kity_mutt_results\u001B[38;5;241m.\u001B[39mappend( [ec_kity(x1, y1, _mutation\u001B[38;5;241m=\u001B[39mmut, _higher_is_better\u001B[38;5;241m=\u001B[39m\u001B[38;5;28;01mFalse\u001B[39;00m) \u001B[38;5;28;01mfor\u001B[39;00m _ \u001B[38;5;129;01min\u001B[39;00m \u001B[38;5;28mrange\u001B[39m(iterations)])\n",
      "\u001B[1;31mNameError\u001B[0m: name 'x1' is not defined"
     ]
    }
   ],
   "source": [
    "# Dados\n",
    "usc_ec_kity_cross_results = []; usc_ec_kity_mutt_results  = []\n",
    "cloud_ec_kity_cross_results = []; cloud_ec_kity_mutt_results  = []\n",
    "col_ec_kity_cross_results = []; col_ec_kity_mutt_results  = []\n",
    "poker_ec_kity_cross_results = []; poker_ec_kity_mutt_results  = []\n",
    "\n",
    "usc_gp_learn_cross_results = []; usc_gp_learn_mutt_results  = []\n",
    "cloud_gp_learn_cross_results = []; cloud_gp_learn_mutt_results  = []\n",
    "col_gp_learn_cross_results = []; col_gp_learn_mutt_results  = []\n",
    "poker_gp_learn_cross_results = []; poker_gp_learn_mutt_results  = []\n",
    "\n",
    "# US Crime\n",
    "for cross in crossover_vec:\n",
    "    usc_ec_kity_cross_results.append([ec_kity(x1, y1, _crossover=cross, _higher_is_better=False) for _ in range(iterations)])\n",
    "for mut in mutation_vec:\n",
    "    usc_ec_kity_mutt_results.append( [ec_kity(x1, y1, _mutation=mut, _higher_is_better=False) for _ in range(iterations)])\n",
    "\n",
    "# # Clound\n",
    "# for cross in crossover_vec:\n",
    "#     cloud_ec_kity_cross_results.append([ec_kity(x2, y2, _crossover=cross, _higher_is_better=False) for _ in range(iterations)])\n",
    "# for mut in mutation_vec:\n",
    "#     cloud_ec_kity_mutt_results.append( [ec_kity(x2, y2, _mutation=mut, _higher_is_better=False) for _ in range(iterations)])\n"
   ],
   "metadata": {
    "collapsed": false
   }
  },
  {
   "cell_type": "code",
   "execution_count": null,
   "outputs": [],
   "source": [
    "print(\"US Crime:\")\n",
    "print(\"- Crossover variation\")\n",
    "[print(\"    - \", cross, \" | Average: \", sum(cross)/ iterations) for cross in usc_ec_kity_cross_results]\n",
    "print(\"- Mutation variation\")\n",
    "[print(\"    - \", mutt, \" | Average: \", sum(mutt)/ iterations) for mutt in usc_ec_kity_mutt_results]"
   ],
   "metadata": {
    "collapsed": false
   }
  },
  {
   "cell_type": "markdown",
   "source": [
    "### Anotações\n",
    "\n",
    "Bases de dados de classificação tem que ser binaria\n",
    "As de regressão tem que ser mono objetivo\n",
    "\n",
    "Usar a biblioteca \"pmlb\" pra pegar um banco de dados\n",
    "\n",
    "Variar as probabilidades ditas no enunciado\n",
    "\n",
    "Relatorio no markdown\n",
    "\n",
    "Rodar umas 30 (ou 3) vezes pra cada resultado (uma quantidade que de uma certa segurnaça) uma vez que o resultado é probabilistico\n",
    "\n",
    "Pegar uns 3 ou 4 valores diferentes para cada"
   ],
   "metadata": {
    "collapsed": false
   }
  }
 ],
 "metadata": {
  "kernelspec": {
   "display_name": "Python 3",
   "language": "python",
   "name": "python3"
  },
  "language_info": {
   "codemirror_mode": {
    "name": "ipython",
    "version": 3
   },
   "file_extension": ".py",
   "mimetype": "text/x-python",
   "name": "python",
   "nbconvert_exporter": "python",
   "pygments_lexer": "ipython3",
   "version": "3.10.6"
  }
 },
 "nbformat": 4,
 "nbformat_minor": 5
}
