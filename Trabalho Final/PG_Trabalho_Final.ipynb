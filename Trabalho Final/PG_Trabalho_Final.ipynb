{
 "cells": [
  {
   "cell_type": "markdown",
   "id": "9a6f7cf5",
   "metadata": {
    "pycharm": {
     "name": "#%% md\n"
    }
   },
   "source": [
    "# Programação Genética - Trabalho Final\n",
    "## Leonardo Augusto Ferreira\n",
    "### leauferreira@cpdee.ufmg.br"
   ]
  },
  {
   "cell_type": "markdown",
   "id": "b187aa6c",
   "metadata": {
    "pycharm": {
     "name": "#%% md\n"
    }
   },
   "source": [
    "## Alunos:\n",
    "### Gabriel Camatta Zanotelli - 2018020140\n",
    "### Lucas de Almeida Martins - 2018020328"
   ]
  },
  {
   "cell_type": "code",
   "execution_count": null,
   "id": "5d1b620e",
   "metadata": {
    "pycharm": {
     "name": "#%%\n"
    }
   },
   "outputs": [],
   "source": [
    "# Anaconda\n",
    "# !conda install gplearn\n",
    "# !conda install eckity\n",
    "# !conda install pmlb\n",
    "\n",
    "# python - jupyter nootebook - colab\n",
    "# !pip install gplearn\n",
    "# !pip install eckity\n",
    "# !pip install pmlb\n",
    "\n",
    "\n",
    "# documentation:\n",
    "# https://docs.sympy.org/latest/install.html\n",
    "# https://github.com/EC-KitY/EC-KitY\n",
    "# https://epistasislab.github.io/pmlb/"
   ]
  },
  {
   "cell_type": "code",
   "execution_count": null,
   "outputs": [],
   "source": [
    "from pmlb import fetch_data\n",
    "from sklearn.model_selection import train_test_split\n",
    "from sklearn.metrics import accuracy_score"
   ],
   "metadata": {
    "collapsed": false,
    "pycharm": {
     "name": "#%%\n"
    }
   }
  },
  {
   "cell_type": "code",
   "execution_count": null,
   "outputs": [],
   "source": [
    "from eckity.algorithms.simple_evolution import SimpleEvolution\n",
    "from eckity.sklearn_compatible.sk_classifier import SKClassifier\n",
    "from eckity.breeders.simple_breeder import SimpleBreeder\n",
    "from eckity.creators.gp_creators.ramped_hh import RampedHalfAndHalfCreator\n",
    "from eckity.genetic_encodings.gp.tree.functions import f_add, f_mul, f_sub, f_div, f_neg, f_sqrt, f_log, f_abs, f_inv, f_max, \\\n",
    "    f_min\n",
    "from eckity.genetic_encodings.gp.tree.utils import create_terminal_set\n",
    "from eckity.genetic_operators.crossovers.subtree_crossover import SubtreeCrossover\n",
    "from eckity.genetic_operators.mutations.subtree_mutation import SubtreeMutation\n",
    "from eckity.genetic_operators.selections.tournament_selection import TournamentSelection\n",
    "from eckity.statistics.best_avg_worst_size_tree_statistics import BestAverageWorstSizeTreeStatistics\n",
    "from eckity.subpopulation import Subpopulation\n",
    "from eckity.termination_checkers.threshold_from_target_termination_checker import ThresholdFromTargetTerminationChecker\n",
    "\n",
    "# Adding your own functions\n",
    "from eckity.sklearn_compatible.classification_evaluator import ClassificationEvaluator\n"
   ],
   "metadata": {
    "collapsed": false,
    "pycharm": {
     "name": "#%%\n"
    }
   }
  },
  {
   "cell_type": "code",
   "execution_count": null,
   "outputs": [],
   "source": [
    "x, y = fetch_data('breast', return_X_y=True)"
   ],
   "metadata": {
    "collapsed": false,
    "pycharm": {
     "name": "#%%\n"
    }
   }
  },
  {
   "cell_type": "code",
   "execution_count": null,
   "outputs": [],
   "source": [
    "x_train, x_test, y_train, y_test = train_test_split(x, y, train_size=.7)"
   ],
   "metadata": {
    "collapsed": false,
    "pycharm": {
     "name": "#%%\n"
    }
   }
  },
  {
   "cell_type": "code",
   "execution_count": null,
   "outputs": [],
   "source": [
    "terminal_set = create_terminal_set(x_train)\n",
    "# function_set = [f_add, f_mul, f_sub, f_div, f_sqrt, f_log, f_abs, f_neg, f_inv, f_max, f_min]\n",
    "\n",
    "function_set = [f_add, f_mul, f_sub, f_div]\n",
    "\n",
    "algo = SimpleEvolution(\n",
    "    Subpopulation(\n",
    "        creators=RampedHalfAndHalfCreator(init_depth=(2, 4),\n",
    "                                                    terminal_set=terminal_set,\n",
    "                                                    function_set=function_set,\n",
    "                                                    bloat_weight=0.0001),\n",
    "        population_size=1000,\n",
    "        evaluator=ClassificationEvaluator(),\n",
    "        higher_is_better=True,\n",
    "        elitism_rate=0.05,\n",
    "        operators_sequence=[\n",
    "            SubtreeCrossover(probability=0.9, arity=2),\n",
    "            SubtreeMutation(probability=0.2, arity=1)\n",
    "        ],\n",
    "        selection_methods=[\n",
    "            # (selection method, selection probability) tuple\n",
    "            (TournamentSelection(tournament_size=4, higher_is_better=True), 1)\n",
    "        ]\n",
    "    ),\n",
    "    breeder=SimpleBreeder(),\n",
    "    max_workers=1,\n",
    "    max_generation=100,\n",
    "\n",
    "    termination_checker=ThresholdFromTargetTerminationChecker(optimal=1, threshold=0.03),\n",
    "    statistics=BestAverageWorstSizeTreeStatistics()\n",
    ")\n",
    "\n",
    "classifier = SKClassifier(algo)\n",
    "\n",
    "classifier.fit(x_train, y_train)"
   ],
   "metadata": {
    "collapsed": false,
    "pycharm": {
     "name": "#%%\n"
    }
   }
  },
  {
   "cell_type": "code",
   "execution_count": null,
   "outputs": [],
   "source": [
    "acc = accuracy_score(y_test, classifier.predict(x_test))\n",
    "print(acc)"
   ],
   "metadata": {
    "collapsed": false,
    "pycharm": {
     "name": "#%%\n"
    }
   }
  },
  {
   "cell_type": "markdown",
   "source": [
    "## Comparação de Desempenho entre as Bibliotecas de Programação Genética EC-KitY e GPlearn utilizando Datasets de Regressão e Classificação\n",
    "\n",
    "Para o trabalho final, você deverá utilizar as bibliotecas de programação Genética EC-KitY e GPlearn, juntamente com a biblioteca Penn Machine Learning Benchmarks, a fim de gerar um código Python que realizará testes em três conjuntos de dados para regressão e três conjuntos de dados para classificação. Seu objetivo é comparar as métricas obtidas e determinar qual biblioteca apresenta os melhores resultados.\n",
    "\n",
    "Durante o estudo, você deverá variar as probabilidades de mutação e cruzamento, a fim de identificar a melhor configuração para cada uma das bibliotecas. Registre cuidadosamente os resultados obtidos em relação às métricas avaliadas, considerando medidas como acurácia, precisão, recall, F1-score, erro médio quadrático (RMSE) ou outras relevantes para o problema em questão.\n",
    "\n",
    "Ao final do estudo, apresente uma análise comparativa dos resultados para cada biblioteca, destacando as probabilidades de mutação e cruzamento que produziram os melhores desempenhos. Utilize gráficos, tabelas ou outras visualizações que considerar pertinentes para ilustrar seus resultados e facilitar a compreensão."
   ],
   "metadata": {
    "collapsed": false,
    "pycharm": {
     "name": "#%% md\n"
    }
   }
  },
  {
   "cell_type": "markdown",
   "source": [
    "---\n",
    "# Relatório\n",
    "\n",
    "Nesta atividade analisamos a eficiência das bibliotecas de Programação Genética *EC-KitY* e *GPlearn* de forma a fazer uma análise quantitativa da eficiência de ambas, por meio da utilização de diversos conjuntos de dados disponíveis na biblioteca *pmlb*.\n",
    "\n",
    "Esta análise será feita utilizando ambas as bibliotecas para resolução de problemas binários e mono objetivo de quatro conjuntos de dados selecionados, variando dois parâmetros de imensa importância: a probabilidade de mutação e cruzamento. Para cada combinação, serão realizadas diversas iterações, de forma a obter um resultado médio.\n"
   ],
   "metadata": {
    "collapsed": false,
    "pycharm": {
     "name": "#%% md\n"
    }
   }
  },
  {
   "cell_type": "markdown",
   "source": [
    "### Dependencias"
   ],
   "metadata": {
    "collapsed": false,
    "pycharm": {
     "name": "#%% md\n"
    }
   }
  },
  {
   "cell_type": "code",
   "execution_count": 13,
   "outputs": [],
   "source": [
    "from pmlb import fetch_data\n",
    "from sklearn.model_selection import train_test_split\n",
    "from sklearn.metrics import accuracy_score, f1_score, recall_score, mean_squared_log_error\n",
    "from gplearn.genetic import SymbolicRegressor\n",
    "from eckity.algorithms.simple_evolution import SimpleEvolution\n",
    "from eckity.sklearn_compatible.sk_classifier import SKClassifier\n",
    "from eckity.breeders.simple_breeder import SimpleBreeder\n",
    "from eckity.creators.gp_creators.ramped_hh import RampedHalfAndHalfCreator\n",
    "from eckity.genetic_encodings.gp.tree.functions import f_add, f_mul, f_sub, f_div, f_min, f_max, f_sin, f_cos, f_log\n",
    "from eckity.genetic_encodings.gp.tree.utils import create_terminal_set\n",
    "from eckity.genetic_operators.crossovers.subtree_crossover import SubtreeCrossover\n",
    "from eckity.genetic_operators.mutations.subtree_mutation import SubtreeMutation\n",
    "from eckity.genetic_operators.selections.tournament_selection import TournamentSelection\n",
    "from eckity.statistics.best_avg_worst_size_tree_statistics import BestAverageWorstSizeTreeStatistics\n",
    "from eckity.subpopulation import Subpopulation\n",
    "from eckity.termination_checkers.threshold_from_target_termination_checker import ThresholdFromTargetTerminationChecker\n",
    "from eckity.sklearn_compatible.classification_evaluator import ClassificationEvaluator"
   ],
   "metadata": {
    "collapsed": false,
    "pycharm": {
     "name": "#%%\n"
    }
   }
  },
  {
   "cell_type": "markdown",
   "source": [
    "### Conjuntos de dados"
   ],
   "metadata": {
    "collapsed": false,
    "pycharm": {
     "name": "#%% md\n"
    }
   }
  },
  {
   "cell_type": "code",
   "execution_count": 14,
   "outputs": [],
   "source": [
    "x1, y1 = fetch_data('diabetes', return_X_y=True)\n",
    "x2, y2 = fetch_data('cloud', return_X_y=True)\n",
    "x3, y3 = fetch_data('iris', return_X_y=True)"
   ],
   "metadata": {
    "collapsed": false,
    "pycharm": {
     "name": "#%%\n"
    }
   }
  },
  {
   "cell_type": "markdown",
   "source": [
    "### Desenvolvimento\n",
    "\n",
    "Para ambas as bibliotecas serão adotados alguns parâmetros padrõesao longo dos testes realizados.\n",
    "- **EC-KitY**\n",
    "    - População máxima de 1000 indivíduos\n",
    "    - Mesmo conjunto de equações para a resolução do problema (adição, subtração, multiplicação, divisão, máximo, mínimo, seno, cosseno, logarítmo)\n",
    "    - Valores base de probabilidade de mutação como 70% e probabilidade de cruzamento e 100%\n",
    "    - Serão testados valores da probabilidade de mutação de 30-90%, com um passo de 20%\n",
    "    - Serão testados valores da probabilidade de cruzamento de 40-100%, com um passo de 20%\n",
    "    - Máximo de 100 gerações\n",
    "    - Para cada caso, serão feitas um número de execuções de garantam uma certa segurança dos resultados. Para essa ativiade, serão feitas 10 iterações\n",
    "\n",
    "- **GPLearn**\n",
    "    - População máxima de 1000 indivíduos\n",
    "    - Mesmo conjunto de equações para a resolução do problema (adição, subtração, multiplicação, divisão, máximo, mínimo, seno, cosseno, logarítmo)\n",
    "    - Como a biblioteca exige que a somatória das probabilidade de corssover e mutações (*Subtree*, *hois* e *point*) tenham uma somatória total de 1, o programa será executado 4 vezes, sempre com a probabilidade iguais dos três tipos de mutação. As configurações são:\n",
    "        - Probabilidade de corssover de 90%; probabilidade de mutação de 3%\n",
    "        - Probabilidade de corssover de 80%; probabilidade de mutação de 6,67%\n",
    "        - Probabilidade de corssover de 70%; probabilidade de mutação de 10%\n",
    "        - Probabilidade de corssover de 60%; probabilidade de mutação de 13,33%\n",
    "    - Máximo de 100 gerações\n",
    "    - Para cada caso, serão feitas um número de execuções de garantam uma certa segurança dos resultados. Para essa ativiade, serão feitas 10 iterações"
   ],
   "metadata": {
    "collapsed": false,
    "pycharm": {
     "name": "#%% md\n"
    }
   }
  },
  {
   "cell_type": "markdown",
   "source": [
    "### Set-up"
   ],
   "metadata": {
    "collapsed": false,
    "pycharm": {
     "name": "#%% md\n"
    }
   }
  },
  {
   "cell_type": "code",
   "execution_count": 15,
   "outputs": [],
   "source": [
    "function_set_ec_kity = [f_add, f_mul, f_sub, f_div, f_min, f_max, f_sin, f_cos, f_log]\n",
    "function_set_gp_learn = ['add', 'sub', 'mul', 'div', 'min', 'max', 'sin', 'cos', 'log']\n",
    "mutation_vec  = [0.3, 0.5, 0.7, 0.9]\n",
    "crossover_vec = [0.4, 0.6, 0.8, 1]\n",
    "iterations = 10"
   ],
   "metadata": {
    "collapsed": false,
    "pycharm": {
     "name": "#%%\n"
    }
   }
  },
  {
   "cell_type": "markdown",
   "source": [
    "### EC-KitY"
   ],
   "metadata": {
    "collapsed": false,
    "pycharm": {
     "name": "#%% md\n"
    }
   }
  },
  {
   "cell_type": "code",
   "execution_count": 16,
   "outputs": [],
   "source": [
    "def ec_kity(x, y, _mutation = 0.7, _crossover =1, _higher_is_better = True, _populationSize = 1000, _generationsMax = 100, _average=\"binary\"):\n",
    "\n",
    "    x_train, x_test, y_train, y_test = train_test_split(x, y,)\n",
    "    terminal_set = create_terminal_set(x_train)\n",
    "\n",
    "    algo = SimpleEvolution(\n",
    "        Subpopulation(\n",
    "            creators=RampedHalfAndHalfCreator(init_depth=(2, 4),\n",
    "                                                        terminal_set=terminal_set,\n",
    "                                                        function_set=function_set_ec_kity,\n",
    "                                                        bloat_weight=0.0001),\n",
    "            population_size=_populationSize,\n",
    "            evaluator=ClassificationEvaluator(),\n",
    "            higher_is_better=_higher_is_better,\n",
    "            elitism_rate=0.05,\n",
    "            operators_sequence=[\n",
    "                SubtreeCrossover(probability=_mutation, arity=2),\n",
    "                SubtreeMutation(probability=_crossover, arity=1)\n",
    "            ],\n",
    "            selection_methods=[\n",
    "                # (selection method, selection probability) tuple\n",
    "                (TournamentSelection(tournament_size=4, higher_is_better=True), 1)\n",
    "            ]\n",
    "        ),\n",
    "        breeder=SimpleBreeder(),\n",
    "        max_workers=1,\n",
    "        max_generation=_generationsMax,\n",
    "\n",
    "        termination_checker=ThresholdFromTargetTerminationChecker(optimal=1, threshold=0.03),\n",
    "        statistics=BestAverageWorstSizeTreeStatistics()\n",
    "    )\n",
    "\n",
    "    classifier = SKClassifier(algo)\n",
    "\n",
    "    classifier.fit(x_train, y_train)\n",
    "\n",
    "    acc =accuracy_score(y_test, classifier.predict(x_test))\n",
    "    f1 = f1_score(y_test, classifier.predict(x_test), average=_average)\n",
    "    rec = recall_score(y_test, classifier.predict(x_test), average=_average)\n",
    "    msle = mean_squared_log_error(y_test, classifier.predict(x_test))\n",
    "\n",
    "    print(\"Acuracia: \", acc)\n",
    "    print(\"F1: \", f1)\n",
    "    print(\"Recall: \", rec)\n",
    "    print(\"RMSE: \", msle)\n",
    "\n",
    "    return [acc, f1, rec, msle]"
   ],
   "metadata": {
    "collapsed": false,
    "pycharm": {
     "name": "#%%\n"
    }
   }
  },
  {
   "cell_type": "markdown",
   "source": [
    "### GPLearn"
   ],
   "metadata": {
    "collapsed": false,
    "pycharm": {
     "name": "#%% md\n"
    }
   }
  },
  {
   "cell_type": "code",
   "execution_count": 17,
   "outputs": [],
   "source": [
    "def gp_learn(x, y, _mutation = 0.1, _crossover = 0.7, _higher_is_better = True, _populationSize = 1000, _generationsMax = 100, _average=\"binary\"):\n",
    "\n",
    "    x_train, x_test, y_train, y_test = train_test_split(x, y)\n",
    "\n",
    "    gplearn_model = SymbolicRegressor(population_size=_populationSize,\n",
    "                                      generations=_generationsMax,\n",
    "                                      function_set=function_set_gp_learn,\n",
    "                                      stopping_criteria=0.01,\n",
    "                                      p_crossover=_crossover,\n",
    "                                      p_subtree_mutation=_mutation,\n",
    "                                      p_hoist_mutation=_mutation,\n",
    "                                      p_point_mutation=_mutation,\n",
    "                                      verbose=1,\n",
    "                                      parsimony_coefficient=0.01)\n",
    "\n",
    "    gplearn_model.fit(x_train, y_train)\n",
    "\n",
    "    acc =accuracy_score(y_test, gplearn_model.predict(x_test))\n",
    "    f1 = f1_score(y_test, gplearn_model.predict(x_test), average=_average)\n",
    "    rec = recall_score(y_test, gplearn_model.predict(x_test), average=_average)\n",
    "    msle = mean_squared_log_error(y_test, gplearn_model.predict(x_test))\n",
    "\n",
    "    print(\"Acuracia: \", acc)\n",
    "    print(\"F1: \", f1)\n",
    "    print(\"Recall: \", rec)\n",
    "    print(\"RMSE: \", msle)\n",
    "\n",
    "    return [acc, f1, rec, msle]"
   ],
   "metadata": {
    "collapsed": false,
    "pycharm": {
     "name": "#%%\n"
    }
   }
  },
  {
   "cell_type": "markdown",
   "source": [
    "# Execução"
   ],
   "metadata": {
    "collapsed": false,
    "pycharm": {
     "name": "#%% md\n"
    }
   }
  },
  {
   "cell_type": "code",
   "execution_count": null,
   "outputs": [],
   "source": [
    "diabetes_ec_kity_cross_results = []; diabetes_ec_kity_mutt_results  = []\n",
    "diabetes_gp_learn_cross_results = []; diabetes_gp_learn_mutt_results  = []\n",
    "\n",
    "for cross in crossover_vec:\n",
    "    diabetes_ec_kity_cross_results.append([ec_kity(x1, y1, _crossover=cross, _higher_is_better=True) for _ in range(iterations)])\n",
    "for mut in mutation_vec:\n",
    "    diabetes_ec_kity_mutt_results.append( [ec_kity(x1, y1, _mutation=mut, _higher_is_better=True) for _ in range(iterations)])"
   ],
   "metadata": {
    "collapsed": false,
    "pycharm": {
     "name": "#%%\n"
    }
   }
  },
  {
   "cell_type": "code",
   "execution_count": null,
   "outputs": [],
   "source": [
    "cloud_ec_kity_cross_results = []; cloud_ec_kity_mutt_results  = []\n",
    "cloud_gp_learn_cross_results = []; cloud_gp_learn_mutt_results  = []\n",
    "\n",
    "for cross in crossover_vec:\n",
    "    cloud_ec_kity_cross_results.append([ec_kity(x2, y2, _crossover=cross, _higher_is_better=False) for _ in range(iterations)])\n",
    "for mut in mutation_vec:\n",
    "    cloud_ec_kity_mutt_results.append( [ec_kity(x2, y2, _mutation=mut, _higher_is_better=False) for _ in range(iterations)])"
   ],
   "metadata": {
    "collapsed": false,
    "pycharm": {
     "name": "#%%\n"
    }
   }
  },
  {
   "cell_type": "code",
   "execution_count": null,
   "outputs": [],
   "source": [
    "iris_ec_kity_cross_results = []; iris_ec_kity_mutt_results  = []\n",
    "iris_gp_learn_cross_results = []; iris_gp_learn_mutt_results  = []\n",
    "\n",
    "for cross in crossover_vec:\n",
    "    iris_ec_kity_cross_results.append([ec_kity(x3, y3, _crossover=cross, _higher_is_better=True) for _ in range(iterations)])\n",
    "for mut in mutation_vec:\n",
    "    iris_ec_kity_mutt_results.append( [ec_kity(x3, y3, _mutation=mut, _higher_is_better=True) for _ in range(iterations)])"
   ],
   "metadata": {
    "collapsed": false,
    "pycharm": {
     "name": "#%%\n"
    }
   }
  },
  {
   "cell_type": "markdown",
   "source": [
    "# Resultados das Execuções\n"
   ],
   "metadata": {
    "collapsed": false,
    "pycharm": {
     "name": "#%% md\n"
    }
   }
  },
  {
   "cell_type": "markdown",
   "source": [
    "## EC Kity\n",
    "---\n",
    "### Variação do Crossover\n",
    "| Métrica       |  Prob. de Crossover  | Diabetes              | Cloud               | Iris                 |\n",
    "|:--------------|:--------------------:|-----------------------|---------------------|----------------------|\n",
    "| **Acuracia**  |         40%          | 0.6875                | 0.2222222222222222  | 0.631578947368421    |\n",
    "|               |         60%          | 0.6354166666666666    | 0.2222222222222222  | 0.631578947368421    |\n",
    "|               |         80%          | 0.6614583333333334    | 0.3333333333333333  | 0.7105263157894737   |\n",
    "|               |         100%         | 0.6666666666666666    | 0.37037037037037035 | 0.631578947368421    |\n",
    "| **F1**        |         40%          | 0.8148148148148148    | 0.11991711991711991 | 0.511842105263158    |\n",
    "|               |         60%          | 0.7770700636942676    | 0.15959595959595962 | 0.5279605263157895   |\n",
    "|               |         80%          | 0.7962382445141065    | 0.24603174603174605 | 0.6028151774785802   |\n",
    "|               |         100%         | 0.8                   | 0.22866344605475042 | 0.5152354570637119   |\n",
    "| **Recall**    |         40%          | 1.0                   | 0.2222222222222222  | 0.631578947368421    |\n",
    "|               |         60%          | 1.0                   | 0.2222222222222222  | 0.631578947368421    |\n",
    "|               |         80%          | 1.0                   | 0.3333333333333333  | 0.7105263157894737   |\n",
    "|               |         100%         | 1.0                   | 0.37037037037037035 | 0.631578947368421    |\n",
    "| **RMSE**      |         40%          | 0.05137561059161424   | 0.888038084024321   | 0.06056914090800835  |\n",
    "|               |         60%          | 0.059938212356883264  | 0.6032837055643817  | 0.06056914090800835  |\n",
    "|               |         80%          | 0.05565691147424875   | 0.4605378919476176  | 0.04759003928486371  |\n",
    "|               |         100%         | 0.054800651297721846  | 0.7078889947678819  | 0.06056914090800835  |\n",
    "\n",
    "\n",
    "---\n",
    "### Variação da Mutação\n",
    "| Métrica       | Prob. de Mutação  | Diabetes             | Cloud               | Iris                 |\n",
    "|:--------------|:-----------------:|----------------------|---------------------|----------------------|\n",
    "| **Acuracia**  |        30%        | 0.6666666666666666   | 0.4444444444444444  | 0.6578947368421053   |\n",
    "|               |        50%        | 0.7135416666666666   | 0.18518518518518517 | 0.6578947368421053   |\n",
    "|               |        70%        | 0.6510416666666666   | 0.4074074074074074  | 0.6842105263157895   |\n",
    "|               |        90%        | 0.6302083333333334   | 0.37037037037037035 | 0.5789473684210527   |\n",
    "| **F1**        |        30%        | 0.8                  | 0.3440962329851218  | 0.5503759398496241   |\n",
    "|               |        50%        | 0.8328267477203648   | 0.13001101788287142 | 0.5585738539898133   |\n",
    "|               |        70%        | 0.7886435331230284   | 0.31465653687875905 | 0.5789473684210527   |\n",
    "|               |        90%        | 0.7731629392971245   | 0.26492374727668844 | 0.45706371191135736  |\n",
    "| **Recall**    |        30%        | 1.0                  | 0.4444444444444444  | 0.6578947368421053   |\n",
    "|               |        50%        | 1.0                  | 0.18518518518518517 | 0.6578947368421053   |\n",
    "|               |        70%        | 1.0                  | 0.4074074074074074  | 0.6842105263157895   |\n",
    "|               |        90%        | 1.0                  | 0.37037037037037035 | 0.5789473684210527   |\n",
    "| **RMSE**      |        30%        | 0.054800651297721846 | 0.5346983748746058  | 0.05624277370029348  |\n",
    "|               |        50%        | 0.04709430970897971  | 0.6506198938454402  | 0.05624277370029348  |\n",
    "|               |        70%        | 0.05736943182730255  | 0.38979051403507503 | 0.05191640649257859  |\n",
    "|               |        90%        | 0.06079447253341017  | 0.6506198938454402  | 0.06922187532343811  |\n"
   ],
   "metadata": {
    "collapsed": false,
    "pycharm": {
     "name": "#%% md\n"
    }
   }
  },
  {
   "cell_type": "markdown",
   "source": [
    "## GP-Learn\n",
    "---\n",
    "### Variação do Crossover\n",
    "| Métrica       | Prob. Cossover - Mutação | Diabetes | Cloud | Iris |\n",
    "|:--------------|:------------------------:|----------|-------|------|\n",
    "| **Acuracia**  |         90% - 3%         |          |       |      |\n",
    "|               |       80% - 6,67%        |          |       |      |\n",
    "|               |        70% - 10%         |          |       |      |\n",
    "|               |       60% - 13,33%       |          |       |      |\n",
    "| **F1**        |         90% - 3%         |          |       |      |\n",
    "|               |       80% - 6,67%        |          |       |      |\n",
    "|               |        70% - 10%         |          |       |      |\n",
    "|               |       60% - 13,33%       |          |       |      |\n",
    "| **Recall**    |         90% - 3%         |          |       |      |\n",
    "|               |       80% - 6,67%        |          |       |      |\n",
    "|               |        70% - 10%         |          |       |      |\n",
    "|               |       60% - 13,33%       |          |       |      |\n",
    "| **RMSE**      |         90% - 3%         |          |       |      |\n",
    "|               |       80% - 6,67%        |          |       |      |\n",
    "|               |        70% - 10%         |          |       |      |\n",
    "|               |       60% - 13,33%       |          |       |      |\n",
    "\n"
   ],
   "metadata": {
    "collapsed": false,
    "pycharm": {
     "name": "#%% md\n"
    }
   }
  },
  {
   "cell_type": "code",
   "execution_count": null,
   "outputs": [
    {
     "name": "stdout",
     "output_type": "stream",
     "text": [
      "    |   Population Average    |             Best Individual              |\n",
      "---- ------------------------- ------------------------------------------ ----------\n",
      " Gen   Length          Fitness   Length          Fitness      OOB Fitness  Time Left\n",
      "   0    17.23          19.8833        6         0.238885              N/A      1.50m\n",
      "   1     9.14          2.45294       11         0.194071              N/A      1.27m\n",
      "   2     8.37          2.36943        9         0.190486              N/A      1.10m\n",
      "   3     6.77           2.9631        9         0.185422              N/A      1.09m\n",
      "   4     6.23          2.82623        9         0.185422              N/A      1.08m\n",
      "   5     6.29          2.95463       13         0.182484              N/A      1.05m\n",
      "   6     6.26          3.92686       19         0.185422              N/A      1.04m\n",
      "   7     6.00          3.24538       13         0.181883              N/A      1.01m\n",
      "   8     6.22          3.77107        3         0.185061              N/A      1.01m\n",
      "   9     5.78           2.9655        3         0.185061              N/A      1.00m\n",
      "  10     5.85          2.81115        3         0.185061              N/A      1.02m\n",
      "  11     6.11          5.21479        7         0.179257              N/A     58.22s\n",
      "  12     6.14          3.26707        7         0.179257              N/A     58.45s\n",
      "  13     6.01          3.31152        3         0.185061              N/A     54.53s\n",
      "  14     6.26          3.37354        7         0.185061              N/A     55.68s\n",
      "  15     6.00           3.2287        9         0.181973              N/A     57.90s\n",
      "  16     6.06          3.71664        9         0.169333              N/A      1.01m\n",
      "  17     5.89          2.78943        7         0.175033              N/A     53.67s\n",
      "  18     5.63          3.73128        7          0.18275              N/A     52.96s\n",
      "  19     6.13          3.06204       12          0.18275              N/A     53.70s\n",
      "  20     5.90          3.84184        7         0.175033              N/A     51.96s\n",
      "  21     6.08           3.5741        7         0.175033              N/A      1.44m\n",
      "  22     6.00           2.8336        9         0.180293              N/A     55.21s\n",
      "  23     5.73          3.00588       10         0.176019              N/A     50.16s\n",
      "  24     5.50          2.53179       17         0.181396              N/A     53.70s\n",
      "  25     5.59          3.60054        9         0.178569              N/A     54.90s\n",
      "  26     5.46          3.18049        7         0.175033              N/A     50.81s\n",
      "  27     5.79          5.65641        5         0.176367              N/A     50.36s\n",
      "  28     5.66          3.45097        5         0.176367              N/A     45.17s\n",
      "  29     5.76          4.26033        5         0.176367              N/A     46.42s\n",
      "  30     5.76          2.92514        3          0.18275              N/A     46.15s\n",
      "  31     5.86          5.72437        9         0.176367              N/A     48.13s\n",
      "  32     5.90          3.03467       15         0.176367              N/A     43.92s\n",
      "  33     5.74          2.60208       27         0.176367              N/A     45.49s\n",
      "  34     5.70          2.65671       10         0.177101              N/A     42.62s\n",
      "  35     5.38          3.19908        7         0.176367              N/A     39.05s\n",
      "  36     5.61          5.59419        5         0.176367              N/A     40.31s\n",
      "  37     5.78           2.6841        7         0.176367              N/A     40.84s\n",
      "  38     5.62           2.7596        7         0.176367              N/A     43.42s\n",
      "  39     5.41          2.55334        5         0.176367              N/A     40.11s\n",
      "  40     5.46          3.80223        5         0.176367              N/A     40.69s\n",
      "  41     5.35            3.677        5         0.176367              N/A     49.92s\n",
      "  42     5.27          3.39895        9         0.182644              N/A     44.51s\n",
      "  43     5.80          2.46095        7         0.176367              N/A     38.97s\n",
      "  44     5.80          3.77481        7         0.176367              N/A     36.31s\n",
      "  45     6.00          3.46313        5         0.176367              N/A     38.06s\n",
      "  46     5.75          2.64612        7         0.176367              N/A     34.86s\n",
      "  47     6.00           2.6797       13         0.176367              N/A     38.99s\n",
      "  48     5.87          2.98342        5         0.176367              N/A     34.05s\n",
      "  49     5.83          2.65464        9         0.176367              N/A     36.56s\n",
      "  50     6.18          5.44866        5         0.176367              N/A     43.34s\n",
      "  51     5.86          2.92972        9         0.176367              N/A     34.69s\n",
      "  52     6.27          3.51168        8         0.176367              N/A     31.51s\n",
      "  53     5.85          2.71173        7         0.176367              N/A     30.21s\n",
      "  54     5.73          3.23146        5         0.176367              N/A     30.18s\n",
      "  55     6.08          2.57926        7         0.176367              N/A     28.86s\n",
      "  56     5.64          3.23082        5         0.176367              N/A     29.77s\n"
     ]
    }
   ],
   "source": [
    "gp_learn(x3, y3, _crossover=.1/3, _mutation=.9, _higher_is_better=True, _average='weighted')"
   ],
   "metadata": {
    "collapsed": false,
    "pycharm": {
     "name": "#%%\n",
     "is_executing": true
    }
   }
  },
  {
   "cell_type": "markdown",
   "source": [
    "### Anotações\n",
    "\n",
    "Bases de dados de classificação tem que ser binaria\n",
    "As de regressão tem que ser mono objetivo\n",
    "\n",
    "Usar a biblioteca \"pmlb\" pra pegar um banco de dados\n",
    "\n",
    "Variar as probabilidades ditas no enunciado\n",
    "\n",
    "Relatorio no markdown\n",
    "\n",
    "Rodar umas 30 (ou 3) vezes pra cada resultado (uma quantidade que de uma certa segurnaça) uma vez que o resultado é probabilistico\n",
    "\n",
    "Pegar uns 3 ou 4 valores diferentes para cada"
   ],
   "metadata": {
    "collapsed": false,
    "pycharm": {
     "name": "#%% md\n"
    }
   }
  }
 ],
 "metadata": {
  "kernelspec": {
   "display_name": "Python 3",
   "language": "python",
   "name": "python3"
  },
  "language_info": {
   "codemirror_mode": {
    "name": "ipython",
    "version": 3
   },
   "file_extension": ".py",
   "mimetype": "text/x-python",
   "name": "python",
   "nbconvert_exporter": "python",
   "pygments_lexer": "ipython3",
   "version": "3.10.6"
  }
 },
 "nbformat": 4,
 "nbformat_minor": 5
}