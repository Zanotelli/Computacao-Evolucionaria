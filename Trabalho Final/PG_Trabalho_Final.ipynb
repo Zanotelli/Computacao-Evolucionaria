{
 "cells": [
  {
   "cell_type": "markdown",
   "id": "9a6f7cf5",
   "metadata": {},
   "source": [
    "# Programação Genética - Trabalho Final\n",
    "## Leonardo Augusto Ferreira\n",
    "### leauferreira@cpdee.ufmg.br"
   ]
  },
  {
   "cell_type": "markdown",
   "id": "b187aa6c",
   "metadata": {},
   "source": [
    "## Alunos:\n",
    "### Gabriel Camatta Zanotelli - 2018020140\n",
    "### Lucas de Almeida Martins - 2018020328"
   ]
  },
  {
   "cell_type": "code",
   "execution_count": null,
   "id": "5d1b620e",
   "metadata": {},
   "outputs": [],
   "source": [
    "# Anaconda\n",
    "# !conda install gplearn\n",
    "# !conda install eckity\n",
    "# !conda install pmlb\n",
    "\n",
    "# python - jupyter nootebook - colab\n",
    "# !pip install gplearn\n",
    "# !pip install eckity\n",
    "# !pip install pmlb\n",
    "\n",
    "\n",
    "# documentation:\n",
    "# https://docs.sympy.org/latest/install.html\n",
    "# https://github.com/EC-KitY/EC-KitY\n",
    "# https://epistasislab.github.io/pmlb/"
   ]
  },
  {
   "cell_type": "code",
   "execution_count": null,
   "outputs": [],
   "source": [
    "from pmlb import fetch_data\n",
    "from sklearn.model_selection import train_test_split\n",
    "from sklearn.metrics import accuracy_score"
   ],
   "metadata": {
    "collapsed": false,
    "pycharm": {
     "name": "#%%\n"
    }
   }
  },
  {
   "cell_type": "code",
   "execution_count": null,
   "outputs": [],
   "source": [
    "from eckity.algorithms.simple_evolution import SimpleEvolution\n",
    "from eckity.sklearn_compatible.sk_classifier import SKClassifier\n",
    "from eckity.breeders.simple_breeder import SimpleBreeder\n",
    "from eckity.creators.gp_creators.ramped_hh import RampedHalfAndHalfCreator\n",
    "from eckity.genetic_encodings.gp.tree.functions import f_add, f_mul, f_sub, f_div, f_neg, f_sqrt, f_log, f_abs, f_inv, f_max, \\\n",
    "    f_min\n",
    "from eckity.genetic_encodings.gp.tree.utils import create_terminal_set\n",
    "from eckity.genetic_operators.crossovers.subtree_crossover import SubtreeCrossover\n",
    "from eckity.genetic_operators.mutations.subtree_mutation import SubtreeMutation\n",
    "from eckity.genetic_operators.selections.tournament_selection import TournamentSelection\n",
    "from eckity.statistics.best_avg_worst_size_tree_statistics import BestAverageWorstSizeTreeStatistics\n",
    "from eckity.subpopulation import Subpopulation\n",
    "from eckity.termination_checkers.threshold_from_target_termination_checker import ThresholdFromTargetTerminationChecker\n",
    "\n",
    "# Adding your own functions\n",
    "from eckity.sklearn_compatible.classification_evaluator import ClassificationEvaluator\n"
   ],
   "metadata": {
    "collapsed": false,
    "pycharm": {
     "name": "#%%\n"
    }
   }
  },
  {
   "cell_type": "code",
   "execution_count": null,
   "outputs": [],
   "source": [
    "x, y = fetch_data('breast', return_X_y=True)"
   ],
   "metadata": {
    "collapsed": false,
    "pycharm": {
     "name": "#%%\n"
    }
   }
  },
  {
   "cell_type": "code",
   "execution_count": null,
   "outputs": [],
   "source": [
    "x_train, x_test, y_train, y_test = train_test_split(x, y, train_size=.7)"
   ],
   "metadata": {
    "collapsed": false,
    "pycharm": {
     "name": "#%%\n"
    }
   }
  },
  {
   "cell_type": "code",
   "execution_count": null,
   "outputs": [],
   "source": [
    "terminal_set = create_terminal_set(x_train)\n",
    "# function_set = [f_add, f_mul, f_sub, f_div, f_sqrt, f_log, f_abs, f_neg, f_inv, f_max, f_min]\n",
    "\n",
    "function_set = [f_add, f_mul, f_sub, f_div]\n",
    "\n",
    "algo = SimpleEvolution(\n",
    "    Subpopulation(\n",
    "        creators=RampedHalfAndHalfCreator(init_depth=(2, 4),\n",
    "                                                    terminal_set=terminal_set,\n",
    "                                                    function_set=function_set,\n",
    "                                                    bloat_weight=0.0001),\n",
    "        population_size=1000,\n",
    "        evaluator=ClassificationEvaluator(),\n",
    "        higher_is_better=True,\n",
    "        elitism_rate=0.05,\n",
    "        operators_sequence=[\n",
    "            SubtreeCrossover(probability=0.9, arity=2),\n",
    "            SubtreeMutation(probability=0.2, arity=1)\n",
    "        ],\n",
    "        selection_methods=[\n",
    "            # (selection method, selection probability) tuple\n",
    "            (TournamentSelection(tournament_size=4, higher_is_better=True), 1)\n",
    "        ]\n",
    "    ),\n",
    "    breeder=SimpleBreeder(),\n",
    "    max_workers=1,\n",
    "    max_generation=100,\n",
    "\n",
    "    termination_checker=ThresholdFromTargetTerminationChecker(optimal=1, threshold=0.03),\n",
    "    statistics=BestAverageWorstSizeTreeStatistics()\n",
    ")\n",
    "\n",
    "classifier = SKClassifier(algo)\n",
    "\n",
    "classifier.fit(x_train, y_train)"
   ],
   "metadata": {
    "collapsed": false,
    "pycharm": {
     "name": "#%%\n"
    }
   }
  },
  {
   "cell_type": "code",
   "execution_count": null,
   "outputs": [],
   "source": [
    "acc = accuracy_score(y_test, classifier.predict(x_test))\n",
    "print(acc)"
   ],
   "metadata": {
    "collapsed": false,
    "pycharm": {
     "name": "#%%\n"
    }
   }
  },
  {
   "cell_type": "markdown",
   "source": [
    "## Comparação de Desempenho entre as Bibliotecas de Programação Genética EC-KitY e GPlearn utilizando Datasets de Regressão e Classificação\n",
    "\n",
    "Para o trabalho final, você deverá utilizar as bibliotecas de programação Genética EC-KitY e GPlearn, juntamente com a biblioteca Penn Machine Learning Benchmarks, a fim de gerar um código Python que realizará testes em três conjuntos de dados para regressão e três conjuntos de dados para classificação. Seu objetivo é comparar as métricas obtidas e determinar qual biblioteca apresenta os melhores resultados.\n",
    "\n",
    "Durante o estudo, você deverá variar as probabilidades de mutação e cruzamento, a fim de identificar a melhor configuração para cada uma das bibliotecas. Registre cuidadosamente os resultados obtidos em relação às métricas avaliadas, considerando medidas como acurácia, precisão, recall, F1-score, erro médio quadrático (RMSE) ou outras relevantes para o problema em questão.\n",
    "\n",
    "Ao final do estudo, apresente uma análise comparativa dos resultados para cada biblioteca, destacando as probabilidades de mutação e cruzamento que produziram os melhores desempenhos. Utilize gráficos, tabelas ou outras visualizações que considerar pertinentes para ilustrar seus resultados e facilitar a compreensão."
   ],
   "metadata": {
    "collapsed": false,
    "pycharm": {
     "name": "#%% md\n"
    }
   }
  },
  {
   "cell_type": "markdown",
   "source": [
    "---\n",
    "# Relatório\n",
    "\n",
    "Nesta atividade analisamos a eficiência das bibliotecas de Programação Genética *EC-KitY* e *GPlearn* de forma a fazer uma análise quantitativa da eficiência de ambas, por meio da utilização de diversos conjuntos de dados disponíveis na biblioteca *pmlb*.\n",
    "\n",
    "Esta análise será feita utilizando ambas as bibliotecas para resolução de problemas binários e mono objetivo de quatro conjuntos de dados selecionados, variando dois parâmetros de imensa importância: a probabilidade de mutação e cruzamento. Para cada combinação, serão realizadas diversas iterações, de forma a obter um resultado médio.\n"
   ],
   "metadata": {
    "collapsed": false,
    "pycharm": {
     "name": "#%% md\n"
    }
   }
  },
  {
   "cell_type": "markdown",
   "source": [
    "### Dependencias"
   ],
   "metadata": {
    "collapsed": false,
    "pycharm": {
     "name": "#%% md\n"
    }
   }
  },
  {
   "cell_type": "code",
   "execution_count": 15,
   "outputs": [],
   "source": [
    "from pmlb import fetch_data\n",
    "from sklearn.model_selection import train_test_split\n",
    "from sklearn.metrics import accuracy_score, f1_score, recall_score, mean_squared_log_error\n",
    "from gplearn.genetic import SymbolicRegressor\n",
    "from eckity.algorithms.simple_evolution import SimpleEvolution\n",
    "from eckity.sklearn_compatible.sk_classifier import SKClassifier\n",
    "from eckity.breeders.simple_breeder import SimpleBreeder\n",
    "from eckity.creators.gp_creators.ramped_hh import RampedHalfAndHalfCreator\n",
    "from eckity.genetic_encodings.gp.tree.functions import f_add, f_mul, f_sub, f_div\n",
    "from eckity.genetic_encodings.gp.tree.utils import create_terminal_set\n",
    "from eckity.genetic_operators.crossovers.subtree_crossover import SubtreeCrossover\n",
    "from eckity.genetic_operators.mutations.subtree_mutation import SubtreeMutation\n",
    "from eckity.genetic_operators.selections.tournament_selection import TournamentSelection\n",
    "from eckity.statistics.best_avg_worst_size_tree_statistics import BestAverageWorstSizeTreeStatistics\n",
    "from eckity.subpopulation import Subpopulation\n",
    "from eckity.termination_checkers.threshold_from_target_termination_checker import ThresholdFromTargetTerminationChecker\n",
    "from eckity.sklearn_compatible.classification_evaluator import ClassificationEvaluator"
   ],
   "metadata": {
    "collapsed": false,
    "pycharm": {
     "name": "#%%\n"
    }
   }
  },
  {
   "cell_type": "markdown",
   "source": [
    "### Conjuntos de dados"
   ],
   "metadata": {
    "collapsed": false,
    "pycharm": {
     "name": "#%% md\n"
    }
   }
  },
  {
   "cell_type": "code",
   "execution_count": 2,
   "outputs": [],
   "source": [
    "x1, y1 = fetch_data('diabetes', return_X_y=True)\n",
    "x2, y2 = fetch_data('cloud', return_X_y=True)\n",
    "x3, y3 = fetch_data('mushroom', return_X_y=True)\n",
    "x4, y4 = fetch_data('iris', return_X_y=True)"
   ],
   "metadata": {
    "collapsed": false,
    "pycharm": {
     "name": "#%%\n"
    }
   }
  },
  {
   "cell_type": "markdown",
   "source": [
    "### Desenvolvimento\n",
    "\n",
    "Para ambas as bibliotecas serão adotados alguns parâmetros comuns e imutáveis ao longo dos testes realizados:\n",
    "- População máxima de 1000 indivíduos\n",
    "- Mesmo conjunto de equações para a resolução do problema (adição, subtração, multiplicação e divisão)\n",
    "- Valores base de probabilidade de mutação como 70% e probabilidade de cruzamento e 100%\n",
    "- Serão testados valores da probabilidade de mutação de 30-90%, com um passo de 20%\n",
    "- Serão testados valores da probabilidade de cruzamento de 40-100%, com um passo de 20%\n",
    "- Máximo de 100 gerações\n",
    "- Para cada caso, serão feitas um número de execuções de garantam uma certa segurança dos resultados. Para essa ativiade, serão feitas 10 iterações"
   ],
   "metadata": {
    "collapsed": false,
    "pycharm": {
     "name": "#%% md\n"
    }
   }
  },
  {
   "cell_type": "markdown",
   "source": [
    "### Set-up"
   ],
   "metadata": {
    "collapsed": false,
    "pycharm": {
     "name": "#%% md\n"
    }
   }
  },
  {
   "cell_type": "code",
   "execution_count": 3,
   "outputs": [],
   "source": [
    "function_set = [f_add, f_mul, f_sub, f_div]\n",
    "mutation_vec  = [0.3, 0.5, 0.7, 0.9]\n",
    "crossover_vec = [0.4, 0.6, 0.8, 1]\n",
    "iterations = 10"
   ],
   "metadata": {
    "collapsed": false,
    "pycharm": {
     "name": "#%%\n"
    }
   }
  },
  {
   "cell_type": "markdown",
   "source": [
    "### EC-KitY"
   ],
   "metadata": {
    "collapsed": false,
    "pycharm": {
     "name": "#%% md\n"
    }
   }
  },
  {
   "cell_type": "code",
   "execution_count": 16,
   "outputs": [],
   "source": [
    "def ec_kity(x, y, _mutation = 0.7, _crossover =1, _higher_is_better = True, _populationSize = 1000, _generationsMax = 100):\n",
    "\n",
    "    x_train, x_test, y_train, y_test = train_test_split(x, y, train_size=.7)\n",
    "    terminal_set = create_terminal_set(x_train)\n",
    "\n",
    "    algo = SimpleEvolution(\n",
    "        Subpopulation(\n",
    "            creators=RampedHalfAndHalfCreator(init_depth=(2, 4),\n",
    "                                                        terminal_set=terminal_set,\n",
    "                                                        function_set=function_set,\n",
    "                                                        bloat_weight=0.0001),\n",
    "            population_size=_populationSize,\n",
    "            evaluator=ClassificationEvaluator(),\n",
    "            higher_is_better=_higher_is_better,\n",
    "            elitism_rate=0.05,\n",
    "            operators_sequence=[\n",
    "                SubtreeCrossover(probability=_mutation, arity=2),\n",
    "                SubtreeMutation(probability=_crossover, arity=1)\n",
    "            ],\n",
    "            selection_methods=[\n",
    "                # (selection method, selection probability) tuple\n",
    "                (TournamentSelection(tournament_size=4, higher_is_better=True), 1)\n",
    "            ]\n",
    "        ),\n",
    "        breeder=SimpleBreeder(),\n",
    "        max_workers=1,\n",
    "        max_generation=_generationsMax,\n",
    "\n",
    "        termination_checker=ThresholdFromTargetTerminationChecker(optimal=1, threshold=0.03),\n",
    "        statistics=BestAverageWorstSizeTreeStatistics()\n",
    "    )\n",
    "\n",
    "    classifier = SKClassifier(algo)\n",
    "\n",
    "    classifier.fit(x_train, y_train)\n",
    "\n",
    "    acc =accuracy_score(y_test, classifier.predict(x_test))\n",
    "    f1 = f1_score(y_test, classifier.predict(x_test))\n",
    "    rec = recall_score(y_test, classifier.predict(x_test))\n",
    "    msle = mean_squared_log_error(y_test, classifier.predict(x_test))\n",
    "\n",
    "    print(\"Acuracia: \", acc)\n",
    "    print(\"F1: \", f1)\n",
    "    print(\"Recall: \", rec)\n",
    "    print(\"RMSE: \", msle)"
   ],
   "metadata": {
    "collapsed": false,
    "pycharm": {
     "name": "#%%\n"
    }
   }
  },
  {
   "cell_type": "markdown",
   "source": [
    "### GPLearn"
   ],
   "metadata": {
    "collapsed": false,
    "pycharm": {
     "name": "#%% md\n"
    }
   }
  },
  {
   "cell_type": "code",
   "execution_count": 5,
   "outputs": [],
   "source": [
    "def gp_learn(x, y, _mutation = 0.7, _crossover = 1, _higher_is_better = True, _populationSize = 1000, _generationsMax = 100):\n",
    "\n",
    "    x_train, x_test, y_train, y_test = train_test_split(x, y, train_size=.7)\n",
    "\n",
    "    gplearn_model = SymbolicRegressor(population_size=_populationSize,\n",
    "                                      generations=_generationsMax,\n",
    "                                      function_set=('add', 'sub', 'mul', 'div'),\n",
    "                                      stopping_criteria=0.01,\n",
    "                                      p_crossover=_crossover,\n",
    "                                      p_subtree_mutation=0.1,\n",
    "                                      p_hoist_mutation=0.05,\n",
    "                                      p_point_mutation=_mutation,\n",
    "                                      max_samples=0.9,\n",
    "                                      verbose=1,\n",
    "                                      parsimony_coefficient=0.01,\n",
    "                                      random_state=0)\n",
    "\n",
    "    gplearn_model.fit(x_train, y_train)\n",
    "    return accuracy_score(y_test, gplearn_model.predict(x_test))"
   ],
   "metadata": {
    "collapsed": false,
    "pycharm": {
     "name": "#%%\n"
    }
   }
  },
  {
   "cell_type": "markdown",
   "source": [
    "## Execução"
   ],
   "metadata": {
    "collapsed": false,
    "pycharm": {
     "name": "#%% md\n"
    }
   }
  },
  {
   "cell_type": "code",
   "execution_count": null,
   "outputs": [],
   "source": [
    "# Dados\n",
    "diabetes_ec_kity_cross_results = []; diabetes_ec_kity_mutt_results  = []\n",
    "\n",
    "diabetes_gp_learn_cross_results = []; diabetes_gp_learn_mutt_results  = []\n",
    "cloud_gp_learn_cross_results = []; cloud_gp_learn_mutt_results  = []\n",
    "mushroom_gp_learn_cross_results = []; mushroom_gp_learn_mutt_results  = []\n",
    "iris_gp_learn_cross_results = []; iris_gp_learn_mutt_results  = []\n",
    "\n",
    "for cross in crossover_vec:\n",
    "    diabetes_ec_kity_cross_results.append([ec_kity(x1, y1, _crossover=cross, _higher_is_better=True) for _ in range(iterations)])\n",
    "for mut in mutation_vec:\n",
    "    diabetes_ec_kity_mutt_results.append( [ec_kity(x1, y1, _mutation=mut, _higher_is_better=True) for _ in range(iterations)])"
   ],
   "metadata": {
    "collapsed": false,
    "pycharm": {
     "name": "#%%\n"
    }
   }
  },
  {
   "cell_type": "code",
   "execution_count": null,
   "outputs": [],
   "source": [
    "cloud_ec_kity_cross_results = []; cloud_ec_kity_mutt_results  = []\n",
    "for cross in crossover_vec:\n",
    "    cloud_ec_kity_cross_results.append([ec_kity(x2, y2, _crossover=cross, _higher_is_better=False) for _ in range(iterations)])\n",
    "for mut in mutation_vec:\n",
    "    cloud_ec_kity_mutt_results.append( [ec_kity(x2, y2, _mutation=mut, _higher_is_better=False) for _ in range(iterations)])"
   ],
   "metadata": {
    "collapsed": false,
    "pycharm": {
     "name": "#%%\n"
    }
   }
  },
  {
   "cell_type": "code",
   "execution_count": null,
   "outputs": [],
   "source": [
    "mushroom_ec_kity_cross_results = []; mushroom_ec_kity_mutt_results  = []\n",
    "for cross in crossover_vec:\n",
    "    mushroom_ec_kity_cross_results.append([ec_kity(x3, y3, _crossover=cross, _higher_is_better=True) for _ in range(iterations)])\n",
    "for mut in mutation_vec:\n",
    "    mushroom_ec_kity_mutt_results.append( [ec_kity(x3, y3, _mutation=mut, _higher_is_better=True) for _ in range(iterations)])"
   ],
   "metadata": {
    "collapsed": false,
    "pycharm": {
     "name": "#%%\n"
    }
   }
  },
  {
   "cell_type": "code",
   "execution_count": null,
   "outputs": [],
   "source": [
    "iris_ec_kity_cross_results = []; iris_ec_kity_mutt_results  = []\n",
    "for cross in crossover_vec:\n",
    "    iris_ec_kity_cross_results.append([ec_kity(x4, y4, _crossover=cross, _higher_is_better=False) for _ in range(iterations)])\n",
    "for mut in mutation_vec:\n",
    "    iris_ec_kity_mutt_results.append( [ec_kity(x4, y4, _mutation=mut, _higher_is_better=False) for _ in range(iterations)])\n"
   ],
   "metadata": {
    "collapsed": false,
    "pycharm": {
     "name": "#%%\n"
    }
   }
  },
  {
   "cell_type": "code",
   "execution_count": null,
   "outputs": [],
   "source": [
    "cloud_ec_kity_cross_results = []; cloud_ec_kity_mutt_results  = []\n",
    "for cross in crossover_vec:\n",
    "    cloud_ec_kity_cross_results.append([ec_kity(x2, y2, _crossover=cross, _higher_is_better=False) for _ in range(iterations)])\n",
    "for mut in mutation_vec:\n",
    "    cloud_ec_kity_mutt_results.append( [ec_kity(x2, y2, _mutation=mut, _higher_is_better=False) for _ in range(iterations)])"
   ],
   "metadata": {
    "collapsed": false
   }
  },
  {
   "cell_type": "markdown",
   "source": [
    "## EC Kity\n",
    "\n",
    "### Diabetes\n",
    "- Variação do crossover:\n",
    "    - `0.4`:\n",
    "        - **Acuracia:**\n",
    "        - **F1:**\n",
    "        - **Recall:**\n",
    "        - **Erro:**\n",
    "    - `0.6`:\n",
    "        - **Acuracia:** 0.6103896103896104\n",
    "        - **F1:**\n",
    "        - **Recall:**\n",
    "        - **Erro:**\n",
    "    - `0.8`:\n",
    "        - **Acuracia:** 0.6103896103896104\n",
    "        - **F1:**\n",
    "        - **Recall:**\n",
    "        - **Erro:**\n",
    "    - `1.0`:\n",
    "        - **Acuracia:** 0.6103896103896104\n",
    "        - **F1:**\n",
    "        - **Recall:**\n",
    "        - **Erro:**\n",
    "\n",
    "\n",
    "- Variação da mutação:\n",
    "    - `0.3`:\n",
    "    - `0.5`:\n",
    "    - `0.7`:\n",
    "    - `0.9`:"
   ],
   "metadata": {
    "collapsed": false,
    "pycharm": {
     "name": "#%% md\n"
    }
   }
  },
  {
   "cell_type": "code",
   "execution_count": null,
   "outputs": [
    {
     "name": "stdout",
     "output_type": "stream",
     "text": [
      "debug: random seed = 1686877667.6522875\n",
      "generation #0\n",
      "subpopulation #0\n",
      "best fitness 0.6629422718808193\n",
      "worst fitness 0.0\n",
      "average fitness 0.5044692737430168\n",
      "average size 15.522\n",
      "\n",
      "generation #1\n",
      "subpopulation #0\n",
      "best fitness 0.6629422718808193\n",
      "worst fitness 0.0\n",
      "average fitness 0.5686703910614527\n",
      "average size 15.48\n",
      "\n",
      "generation #2\n",
      "subpopulation #0\n",
      "best fitness 0.6629422718808193\n",
      "worst fitness 0.0\n",
      "average fitness 0.5819702048417132\n",
      "average size 13.846\n",
      "\n",
      "generation #3\n",
      "subpopulation #0\n",
      "best fitness 0.6629422718808193\n",
      "worst fitness 0.0\n",
      "average fitness 0.5750167597765363\n",
      "average size 11.564\n",
      "\n",
      "generation #4\n",
      "subpopulation #0\n",
      "best fitness 0.6629422718808193\n",
      "worst fitness 0.0\n",
      "average fitness 0.576173184357542\n",
      "average size 9.268\n",
      "\n",
      "generation #5\n",
      "subpopulation #0\n",
      "best fitness 0.6629422718808193\n",
      "worst fitness 0.0\n",
      "average fitness 0.5648119180633145\n",
      "average size 7.38\n",
      "\n",
      "generation #6\n",
      "subpopulation #0\n",
      "best fitness 0.6629422718808193\n",
      "worst fitness 0.0\n",
      "average fitness 0.5564785847299814\n",
      "average size 5.972\n",
      "\n",
      "generation #7\n",
      "subpopulation #0\n",
      "best fitness 0.6629422718808193\n",
      "worst fitness 0.0\n",
      "average fitness 0.5549906890130353\n",
      "average size 5.664\n",
      "\n",
      "generation #8\n",
      "subpopulation #0\n",
      "best fitness 0.6629422718808193\n",
      "worst fitness 0.0\n",
      "average fitness 0.5533370577281191\n",
      "average size 5.124\n",
      "\n",
      "generation #9\n",
      "subpopulation #0\n",
      "best fitness 0.6629422718808193\n",
      "worst fitness 0.0\n",
      "average fitness 0.545903165735568\n",
      "average size 5.528\n",
      "\n",
      "generation #10\n",
      "subpopulation #0\n",
      "best fitness 0.6629422718808193\n",
      "worst fitness 0.0\n",
      "average fitness 0.5546238361266294\n",
      "average size 5.42\n",
      "\n",
      "generation #11\n",
      "subpopulation #0\n",
      "best fitness 0.6629422718808193\n",
      "worst fitness 0.0\n",
      "average fitness 0.5616536312849162\n",
      "average size 5.014\n",
      "\n",
      "generation #12\n",
      "subpopulation #0\n",
      "best fitness 0.6629422718808193\n",
      "worst fitness 0.0\n",
      "average fitness 0.5467821229050279\n",
      "average size 5.392\n",
      "\n",
      "generation #13\n",
      "subpopulation #0\n",
      "best fitness 0.6629422718808193\n",
      "worst fitness 0.0\n",
      "average fitness 0.5429981378026071\n",
      "average size 5.372\n",
      "\n",
      "generation #14\n",
      "subpopulation #0\n",
      "best fitness 0.6629422718808193\n",
      "worst fitness 0.0\n",
      "average fitness 0.5433966480446927\n",
      "average size 5.326\n",
      "\n",
      "generation #15\n",
      "subpopulation #0\n",
      "best fitness 0.6629422718808193\n",
      "worst fitness 0.0\n",
      "average fitness 0.5538808193668529\n",
      "average size 5.306\n",
      "\n",
      "generation #16\n",
      "subpopulation #0\n",
      "best fitness 0.6629422718808193\n",
      "worst fitness 0.0\n",
      "average fitness 0.5354767225325884\n",
      "average size 5.558\n",
      "\n",
      "generation #17\n",
      "subpopulation #0\n",
      "best fitness 0.6629422718808193\n",
      "worst fitness 0.0\n",
      "average fitness 0.5472662942271882\n",
      "average size 5.364\n",
      "\n",
      "generation #18\n",
      "subpopulation #0\n",
      "best fitness 0.6629422718808193\n",
      "worst fitness 0.0\n",
      "average fitness 0.5497895716945996\n",
      "average size 5.296\n",
      "\n",
      "generation #19\n",
      "subpopulation #0\n",
      "best fitness 0.6629422718808193\n",
      "worst fitness 0.0\n",
      "average fitness 0.5599478584729982\n",
      "average size 5.378\n",
      "\n",
      "generation #20\n",
      "subpopulation #0\n",
      "best fitness 0.6629422718808193\n",
      "worst fitness 0.0\n",
      "average fitness 0.54636312849162\n",
      "average size 5.104\n",
      "\n",
      "generation #21\n",
      "subpopulation #0\n",
      "best fitness 0.6629422718808193\n",
      "worst fitness 0.0\n",
      "average fitness 0.5568547486033519\n",
      "average size 5.042\n",
      "\n",
      "generation #22\n",
      "subpopulation #0\n",
      "best fitness 0.6629422718808193\n",
      "worst fitness 0.0\n",
      "average fitness 0.5447746741154562\n",
      "average size 5.28\n",
      "\n",
      "generation #23\n",
      "subpopulation #0\n",
      "best fitness 0.6629422718808193\n",
      "worst fitness 0.0\n",
      "average fitness 0.5354674115456238\n",
      "average size 5.414\n",
      "\n",
      "generation #24\n",
      "subpopulation #0\n",
      "best fitness 0.6629422718808193\n",
      "worst fitness 0.0\n",
      "average fitness 0.5386480446927375\n",
      "average size 5.404\n",
      "\n",
      "generation #25\n",
      "subpopulation #0\n",
      "best fitness 0.6629422718808193\n",
      "worst fitness 0.0\n",
      "average fitness 0.5560279329608938\n",
      "average size 5.168\n",
      "\n",
      "generation #26\n",
      "subpopulation #0\n",
      "best fitness 0.6629422718808193\n",
      "worst fitness 0.0\n",
      "average fitness 0.5435456238361266\n",
      "average size 5.288\n",
      "\n",
      "generation #27\n",
      "subpopulation #0\n",
      "best fitness 0.6629422718808193\n",
      "worst fitness 0.0\n",
      "average fitness 0.5561564245810054\n",
      "average size 5.258\n",
      "\n",
      "generation #28\n",
      "subpopulation #0\n",
      "best fitness 0.6629422718808193\n",
      "worst fitness 0.0\n",
      "average fitness 0.5568230912476723\n",
      "average size 5.196\n",
      "\n",
      "generation #29\n",
      "subpopulation #0\n",
      "best fitness 0.6629422718808193\n",
      "worst fitness 0.0\n",
      "average fitness 0.5598789571694599\n",
      "average size 5.328\n",
      "\n",
      "generation #30\n",
      "subpopulation #0\n",
      "best fitness 0.6629422718808193\n",
      "worst fitness 0.0\n",
      "average fitness 0.5537392923649906\n",
      "average size 5.176\n",
      "\n",
      "generation #31\n",
      "subpopulation #0\n",
      "best fitness 0.6629422718808193\n",
      "worst fitness 0.0\n",
      "average fitness 0.5495046554934824\n",
      "average size 5.25\n",
      "\n",
      "generation #32\n",
      "subpopulation #0\n",
      "best fitness 0.6629422718808193\n",
      "worst fitness 0.0\n",
      "average fitness 0.5569869646182496\n",
      "average size 5.08\n",
      "\n",
      "generation #33\n",
      "subpopulation #0\n",
      "best fitness 0.6629422718808193\n",
      "worst fitness 0.0\n",
      "average fitness 0.5408249534450651\n",
      "average size 5.34\n",
      "\n",
      "generation #34\n",
      "subpopulation #0\n",
      "best fitness 0.6629422718808193\n",
      "worst fitness 0.0\n",
      "average fitness 0.5356238361266293\n",
      "average size 5.552\n",
      "\n",
      "generation #35\n",
      "subpopulation #0\n",
      "best fitness 0.6629422718808193\n",
      "worst fitness 0.0\n",
      "average fitness 0.5572048417132216\n",
      "average size 5.138\n",
      "\n",
      "generation #36\n",
      "subpopulation #0\n",
      "best fitness 0.6629422718808193\n",
      "worst fitness 0.0\n",
      "average fitness 0.557437616387337\n",
      "average size 5.01\n",
      "\n",
      "generation #37\n",
      "subpopulation #0\n",
      "best fitness 0.6629422718808193\n",
      "worst fitness 0.0\n",
      "average fitness 0.5463072625698324\n",
      "average size 5.436\n",
      "\n",
      "generation #38\n",
      "subpopulation #0\n",
      "best fitness 0.6629422718808193\n",
      "worst fitness 0.0\n",
      "average fitness 0.5478044692737429\n",
      "average size 5.224\n",
      "\n",
      "generation #39\n",
      "subpopulation #0\n",
      "best fitness 0.6629422718808193\n",
      "worst fitness 0.0\n",
      "average fitness 0.5549124767225325\n",
      "average size 5.112\n",
      "\n",
      "generation #40\n",
      "subpopulation #0\n",
      "best fitness 0.6629422718808193\n",
      "worst fitness 0.0\n",
      "average fitness 0.5531415270018621\n",
      "average size 5.136\n",
      "\n",
      "generation #41\n",
      "subpopulation #0\n",
      "best fitness 0.6629422718808193\n",
      "worst fitness 0.0\n",
      "average fitness 0.5462737430167597\n",
      "average size 5.584\n",
      "\n",
      "generation #42\n",
      "subpopulation #0\n",
      "best fitness 0.6629422718808193\n",
      "worst fitness 0.0\n",
      "average fitness 0.5490689013035381\n",
      "average size 5.462\n",
      "\n",
      "generation #43\n",
      "subpopulation #0\n",
      "best fitness 0.6629422718808193\n",
      "worst fitness 0.0\n",
      "average fitness 0.5485512104283053\n",
      "average size 5.252\n",
      "\n"
     ]
    }
   ],
   "source": [
    "ec_kity(x1, y1, _crossover=0.4, _higher_is_better=True)\n",
    "# ec_kity(x1, y1, _mutation=0.3, _higher_is_better=True)"
   ],
   "metadata": {
    "collapsed": false,
    "pycharm": {
     "name": "#%%\n",
     "is_executing": true
    }
   }
  },
  {
   "cell_type": "code",
   "execution_count": null,
   "outputs": [],
   "source": [],
   "metadata": {
    "collapsed": false,
    "pycharm": {
     "name": "#%%\n"
    }
   }
  },
  {
   "cell_type": "code",
   "execution_count": null,
   "outputs": [],
   "source": [
    "# Dados\n",
    "usc_ec_kity_cross_results = []; usc_ec_kity_mutt_results  = []\n",
    "cloud_ec_kity_cross_results = []; cloud_ec_kity_mutt_results  = []\n",
    "col_ec_kity_cross_results = []; col_ec_kity_mutt_results  = []\n",
    "poker_ec_kity_cross_results = []; poker_ec_kity_mutt_results  = []\n",
    "\n",
    "usc_gp_learn_cross_results = []; usc_gp_learn_mutt_results  = []\n",
    "cloud_gp_learn_cross_results = []; cloud_gp_learn_mutt_results  = []\n",
    "col_gp_learn_cross_results = []; col_gp_learn_mutt_results  = []\n",
    "poker_gp_learn_cross_results = []; poker_gp_learn_mutt_results  = []\n",
    "\n",
    "# US Crime\n",
    "for cross in crossover_vec:\n",
    "    usc_ec_kity_cross_results.append([ec_kity(x1, y1, _crossover=cross, _higher_is_better=False) for _ in range(iterations)])\n",
    "for mut in mutation_vec:\n",
    "    usc_ec_kity_mutt_results.append( [ec_kity(x1, y1, _mutation=mut, _higher_is_better=False) for _ in range(iterations)])\n",
    "\n",
    "# # Clound\n",
    "# for cross in crossover_vec:\n",
    "#     cloud_ec_kity_cross_results.append([ec_kity(x2, y2, _crossover=cross, _higher_is_better=False) for _ in range(iterations)])\n",
    "# for mut in mutation_vec:\n",
    "#     cloud_ec_kity_mutt_results.append( [ec_kity(x2, y2, _mutation=mut, _higher_is_better=False) for _ in range(iterations)])\n"
   ],
   "metadata": {
    "collapsed": false
   }
  },
  {
   "cell_type": "code",
   "execution_count": null,
   "outputs": [],
   "source": [
    "print(\"US Crime:\")\n",
    "print(\"- Crossover variation\")\n",
    "[print(\"    - \", cross, \" | Average: \", sum(cross)/ iterations) for cross in usc_ec_kity_cross_results]\n",
    "print(\"- Mutation variation\")\n",
    "[print(\"    - \", mutt, \" | Average: \", sum(mutt)/ iterations) for mutt in usc_ec_kity_mutt_results]"
   ],
   "metadata": {
    "collapsed": false
   }
  },
  {
   "cell_type": "markdown",
   "source": [
    "### Anotações\n",
    "\n",
    "Bases de dados de classificação tem que ser binaria\n",
    "As de regressão tem que ser mono objetivo\n",
    "\n",
    "Usar a biblioteca \"pmlb\" pra pegar um banco de dados\n",
    "\n",
    "Variar as probabilidades ditas no enunciado\n",
    "\n",
    "Relatorio no markdown\n",
    "\n",
    "Rodar umas 30 (ou 3) vezes pra cada resultado (uma quantidade que de uma certa segurnaça) uma vez que o resultado é probabilistico\n",
    "\n",
    "Pegar uns 3 ou 4 valores diferentes para cada"
   ],
   "metadata": {
    "collapsed": false
   }
  }
 ],
 "metadata": {
  "kernelspec": {
   "display_name": "Python 3",
   "language": "python",
   "name": "python3"
  },
  "language_info": {
   "codemirror_mode": {
    "name": "ipython",
    "version": 3
   },
   "file_extension": ".py",
   "mimetype": "text/x-python",
   "name": "python",
   "nbconvert_exporter": "python",
   "pygments_lexer": "ipython3",
   "version": "3.10.6"
  }
 },
 "nbformat": 4,
 "nbformat_minor": 5
}