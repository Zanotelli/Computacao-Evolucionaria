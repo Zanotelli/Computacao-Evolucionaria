{
 "cells": [
  {
   "cell_type": "markdown",
   "source": [
    "# Algoritmos Genéticos\n",
    "\n",
    "**Professor:**\n",
    "Cristiano Leite de Castro\n",
    "\n",
    "**Alunos:**\n",
    "Gabriel Camatta Zanotelli\t2018020140\n",
    "Lucas de Almeida Martins\t2018020328"
   ],
   "metadata": {
    "collapsed": false,
    "pycharm": {
     "name": "#%% md\n"
    }
   }
  },
  {
   "cell_type": "markdown",
   "source": [
    "## Introdução\n",
    "\n",
    "O problema proposto neste trabalho consiste no desenvolvimento de um algoritmo genético que que evolui uma população de strings até convergir para a string “METHINKS*IT*IS*LIKE*A*WEASEL”.\n",
    "\n",
    "No caso, a probabilidade de uma string gerada aleatoriamente ser igual à string desejada é de 1/(38^23), o que é uma probabilidade extremamente baixa. Utilizar um algoritmo evolucionário com os parâmetros corretos contorna esse problema, pois ele não depende que a um indivíduo muito apto esteja presente na população inicial, pois ela é composta por vários indivíduos que vão se reproduzir e gerar mutações."
   ],
   "metadata": {
    "collapsed": false,
    "pycharm": {
     "name": "#%% md\n"
    }
   }
  },
  {
   "cell_type": "markdown",
   "source": [
    "## Implementação"
   ],
   "metadata": {
    "collapsed": false,
    "pycharm": {
     "name": "#%% md\n"
    }
   }
  },
  {
   "cell_type": "markdown",
   "source": [
    "### Definições de variáveis iniciais"
   ],
   "metadata": {
    "collapsed": false,
    "pycharm": {
     "name": "#%% md\n"
    }
   }
  },
  {
   "cell_type": "code",
   "execution_count": null,
   "outputs": [],
   "source": [
    "import random as rd\n",
    "import matplotlib.pyplot as plt\n",
    "import string as str"
   ],
   "metadata": {
    "collapsed": false,
    "pycharm": {
     "name": "#%%\n"
    }
   }
  },
  {
   "cell_type": "code",
   "execution_count": null,
   "outputs": [],
   "source": [
    "crossover_rate = 0.5\n",
    "mutation_rate = 0.2\n",
    "\n",
    "base_population = 20\n",
    "pop_sample = 5\n",
    "\n",
    "FINAL_TEXT = list(\"METHINKS*IT*IS*LIKE*A*WEASEL\")\n",
    "text_size = len(FINAL_TEXT)\n",
    "\n",
    "VALID_CHARS = list(str.ascii_uppercase + str.digits + '*')\n",
    "\n",
    "fitness_history = []"
   ],
   "metadata": {
    "collapsed": false,
    "pycharm": {
     "name": "#%%\n"
    }
   }
  },
  {
   "cell_type": "markdown",
   "source": [
    "\n",
    "### Funções de suporte"
   ],
   "metadata": {
    "collapsed": false,
    "pycharm": {
     "name": "#%% md\n"
    }
   }
  },
  {
   "cell_type": "code",
   "execution_count": null,
   "outputs": [],
   "source": [
    "def argsort(seq):\n",
    "    return sorted(range(len(seq)), key=seq.__getitem__)\n",
    "\n",
    "def verify_condition(population):\n",
    "    return len(FINAL_TEXT) in population\n",
    "\n",
    "def get_best_solution(population_fit):\n",
    "    count = 0\n",
    "    aux = 0\n",
    "    for i in range(len(population_fit)):\n",
    "        if population_fit[i] > aux:\n",
    "            aux = population_fit[i]\n",
    "            count = i\n",
    "    return count\n",
    "\n",
    "def join(vector):\n",
    "    word = \"\"\n",
    "    for c in vector:\n",
    "        word += c\n",
    "    return word\n",
    "\n",
    "def check_crossover():\n",
    "    return rd.random() < crossover_rate\n",
    "\n",
    "def check_mutation():\n",
    "    return rd.random() < mutation_rate\n",
    "\n",
    "def print_initial_pop(population, _print=True):\n",
    "    if _print:\n",
    "        print(\"População inicial:\")\n",
    "        for i in range(int(base_population / 4)):\n",
    "            print(join(population[i]), \" - \", join(population[i+1]), \" - \",\n",
    "                  \" - \", join(population[i+2]), \" - \", join(population[i+3]))\n",
    "        print()\n",
    "\n",
    "def print_initial_pop_fitt(population_fitt, _print=True):\n",
    "    if _print:\n",
    "        print(\"Fittness da população inicial:\")\n",
    "        print(population_fitt)\n",
    "        print()\n",
    "\n",
    "def print_final_results(pop, population_fitt, count_gen, _print=True):\n",
    "    best_pop = pop[get_best_solution(population_fitt)]\n",
    "    if _print:\n",
    "        print(\"--------------------RESULTADO--------------------\")\n",
    "        print(\"Geração final: \", (count_gen+1))\n",
    "        print()\n",
    "        print(\"Fittness da população final:\")\n",
    "        print(population_fitt)\n",
    "        print()\n",
    "        print(\"Melhor indivíduo: \", join(best_pop))\n",
    "        print(\"Texto objetivo  : \", join(FINAL_TEXT), \"- Acertos: \", population_fitt[pop.index(best_pop)])\n",
    "    else:\n",
    "        print(\"Número de gerações:\", count_gen+1, \" | Acertos:\", population_fitt[pop.index(best_pop)])"
   ],
   "metadata": {
    "collapsed": false,
    "pycharm": {
     "name": "#%%\n"
    }
   }
  },
  {
   "cell_type": "markdown",
   "source": [
    "### Definição da População Inicial\n",
    "\n",
    "Para a determinação dos indivíduos da população inicial, utiliza-se uma função que preenche, com caracteres aleatórios, uma lista de caracteres do mesmo tamanho que a string final. Esses caracteres são separados pelo marcador '*' e podem ser letras maiúsculas e dígitos.\n"
   ],
   "metadata": {
    "collapsed": false,
    "pycharm": {
     "name": "#%% md\n"
    }
   }
  },
  {
   "cell_type": "code",
   "execution_count": null,
   "outputs": [],
   "source": [
    "def init_population(_base_pop = 20):\n",
    "    population = []\n",
    "    for i in range (_base_pop):\n",
    "        word = [rd.choice(VALID_CHARS) for _ in range(text_size)]\n",
    "        population.append(word)\n",
    "    return population"
   ],
   "metadata": {
    "collapsed": false,
    "pycharm": {
     "name": "#%%\n"
    }
   }
  },
  {
   "cell_type": "markdown",
   "source": [
    "### Avaliação de indivíduos\n",
    "\n",
    "A avaliação do *fitness* de um indivíduo é dada por uma função que compara caractere por caractere do invidíduo com a string final, cada caractere igual conta como um acerto, de forma que a quantidade de acertos final determina o *fitness* do indivíduo."
   ],
   "metadata": {
    "collapsed": false,
    "pycharm": {
     "name": "#%% md\n"
    }
   }
  },
  {
   "cell_type": "code",
   "execution_count": null,
   "outputs": [],
   "source": [
    "def fitness_nq(solution, _b=False):\n",
    "    checks = 0\n",
    "    for i in range(len(solution)):\n",
    "        if solution[i] == FINAL_TEXT[i]:\n",
    "            checks+=1\n",
    "    return checks"
   ],
   "metadata": {
    "collapsed": false,
    "pycharm": {
     "name": "#%%\n"
    }
   }
  },
  {
   "cell_type": "markdown",
   "source": [
    "### Seleciona pais\n",
    "\n",
    "Foi selecionado o método de Roleta para a seleção dos pais, que consiste na maior probabilidade de escolha dos indivíduos com  maior *fitness* da população. No caso da implementação abaixo, a soma dos *fitness* de todos indivíduos será a escala da roleta, a partir da qual serão escolhidos dois pontos aleatoriamente e de acordo com esses pontos, os indivíduos serão selecionados\n"
   ],
   "metadata": {
    "collapsed": false,
    "pycharm": {
     "name": "#%% md\n"
    }
   }
  },
  {
   "cell_type": "code",
   "execution_count": null,
   "outputs": [],
   "source": [
    "def select_parents_roulete(population, population_fitt):\n",
    "    parents = [None, None]\n",
    "\n",
    "    total = sum(population_fitt)\n",
    "    p1 = rd.randint(1, total)\n",
    "    p2 = rd.randint(1, total)\n",
    "\n",
    "    count = 0\n",
    "    prev = 0\n",
    "    for i in range(len(population)):\n",
    "        count += population_fitt[i]\n",
    "        if (prev < p1 <= count) and parents[0] is None:\n",
    "            parents[0] = population[i]\n",
    "        if (prev < p2 <= count) and parents[1] is None:\n",
    "            parents[1] = population[i]\n",
    "        prev = count\n",
    "\n",
    "    return parents"
   ],
   "metadata": {
    "collapsed": false,
    "pycharm": {
     "name": "#%%\n"
    }
   }
  },
  {
   "cell_type": "markdown",
   "source": [
    "### Recombinação dos pais\n",
    "\n",
    "Utilização de um método de *Cut and crossfill*, no qual os pais são “cortados” em um ponto aleatório e recombinados, de forma que o filho 1 é formado pela primeira parte do pai 1 e a segunda parte do pai 2, e o filho 2 é formado pela a primeira parte do pai 2 e a primeira parte do pai 1."
   ],
   "metadata": {
    "collapsed": false,
    "pycharm": {
     "name": "#%% md\n"
    }
   }
  },
  {
   "cell_type": "code",
   "execution_count": null,
   "outputs": [],
   "source": [
    "def cut_and_crossfill(parents):\n",
    "\n",
    "    cross_point = rd.randint(1, text_size-1)\n",
    "\n",
    "    c1 = parents[0][:cross_point] + parents[0][cross_point:]\n",
    "    c2 = parents[1][:cross_point] + parents[1][cross_point:]\n",
    "\n",
    "    return [c1, c2]"
   ],
   "metadata": {
    "collapsed": false,
    "pycharm": {
     "name": "#%%\n"
    }
   }
  },
  {
   "cell_type": "markdown",
   "source": [
    "### Mutação dos filhos\n",
    "\n",
    "A mutação dos filhos ocorrerá por um parâmetro que varia entre 0 e 100%. Além disso, como no caso desse problema é desejável que um caractere correto permaneça em sua posição e sem alterações, dessa forma, condicionamos a mutação para que ela não ocorra em caracteres que já estão iguais com o da string final.\n"
   ],
   "metadata": {
    "collapsed": false,
    "pycharm": {
     "name": "#%% md\n"
    }
   }
  },
  {
   "cell_type": "code",
   "execution_count": null,
   "outputs": [],
   "source": [
    "def mutate_offspring(offspring):\n",
    "    for of in offspring:\n",
    "        for c in range(len(of)):\n",
    "            if check_mutation() and of[c] != FINAL_TEXT[c]:\n",
    "                of[c] = rd.choice(VALID_CHARS)\n",
    "    return offspring"
   ],
   "metadata": {
    "collapsed": false,
    "pycharm": {
     "name": "#%%\n"
    }
   }
  },
  {
   "cell_type": "markdown",
   "source": [
    "## Cria e seleciona nova geração\n",
    "\n",
    "Uma nova geração consiste na geração atual juntamente com os filhos gerados, totalizando numa população temporária com o tamanho de   “tamanho da população” + 2. Após isso, os dois indivíduos com menor *fitness* são descartados da nova população.\n"
   ],
   "metadata": {
    "collapsed": false,
    "pycharm": {
     "name": "#%% md\n"
    }
   }
  },
  {
   "cell_type": "code",
   "execution_count": null,
   "outputs": [],
   "source": [
    "def select_new_generation(poulation, offspring):\n",
    "    new_generation = poulation + offspring\n",
    "\n",
    "    new_pop_fit = [0] * len(new_generation)\n",
    "    for i in range(len(new_generation)):\n",
    "        new_pop_fit[i] = fitness_nq(new_generation[i])\n",
    "\n",
    "    new_pop_id = argsort(new_pop_fit)[len(offspring):]\n",
    "\n",
    "    next_generation = []\n",
    "    for i in range(len(new_generation)):\n",
    "        if i in new_pop_id:\n",
    "            next_generation.append(new_generation[i])\n",
    "\n",
    "    return next_generation"
   ],
   "metadata": {
    "collapsed": false,
    "pycharm": {
     "name": "#%%\n"
    }
   }
  },
  {
   "cell_type": "markdown",
   "source": [
    "### Desenha gráfico\n",
    "\n",
    "Os gráficos gerados  do programa o possuem o eixo y como o *fitness* e o eixo x como geração e são traçadas duas curvas para a análise dos resultados, uma que representa a média da população e outra que representa o melhor indivíduo de cada população."
   ],
   "metadata": {
    "collapsed": false,
    "pycharm": {
     "name": "#%% md\n"
    }
   }
  },
  {
   "cell_type": "code",
   "execution_count": null,
   "outputs": [],
   "source": [
    "def draw_graph(datax, datay, _print=True):\n",
    "    if _print:\n",
    "        plt.plot(range(datax+1), datay[0], \"-g\", label=\"Medium\")\n",
    "        plt.plot(range(datax+1), datay[1], \"-r\", label=\"Best\")\n",
    "        plt.legend(loc=\"upper right\")\n",
    "        plt.xlabel('Generation')\n",
    "        plt.ylabel('Fittness')\n",
    "        plt.show()"
   ],
   "metadata": {
    "collapsed": false,
    "pycharm": {
     "name": "#%%\n"
    }
   }
  },
  {
   "cell_type": "markdown",
   "source": [
    "## Criação do Métodos"
   ],
   "metadata": {
    "collapsed": false,
    "pycharm": {
     "name": "#%% md\n"
    }
   }
  },
  {
   "cell_type": "code",
   "execution_count": null,
   "outputs": [],
   "source": [
    "def run_gen_alg(population, _max_generations=1000, _base_pop=20,\n",
    "                _crossover_rate=0.5, _mutation_rate=0.2, _print=True):\n",
    "\n",
    "    # Redefine variáveis usando argumentos\n",
    "    max_generation = _max_generations\n",
    "    base_population = _base_pop\n",
    "    crossover_rate = _crossover_rate\n",
    "    mutation_rate = _mutation_rate\n",
    "    print = _print\n",
    "\n",
    "    # Fittnes inicial\n",
    "    population_fitt = [0] * base_population\n",
    "    for i in range(base_population):\n",
    "        population_fitt[i] = fitness_nq(population[i])\n",
    "\n",
    "    # Prints iniciais\n",
    "    print_initial_pop(population, _print=print)\n",
    "    print_initial_pop_fitt(population_fitt, _print=print)\n",
    "\n",
    "    # Roda o algorítmo\n",
    "    count_gen = 0\n",
    "    datay = [[], []]\n",
    "    for i in range(max_generation):\n",
    "\n",
    "        parents = select_parents_roulete(population, population_fitt)\n",
    "\n",
    "        offspring = cut_and_crossfill(parents)\n",
    "\n",
    "        mutate_offspring(offspring)\n",
    "\n",
    "        population = select_new_generation(population, offspring)\n",
    "\n",
    "        for j in range(base_population):\n",
    "            population_fitt[j] = fitness_nq(population[j])\n",
    "\n",
    "        datay[0].append(sum(population_fitt) / len(population_fitt))\n",
    "        datay[1].append(max(population_fitt))\n",
    "\n",
    "        count_gen = i\n",
    "        if verify_condition(population_fitt):\n",
    "            break\n",
    "\n",
    "    best = population[get_best_solution(population_fitt)]\n",
    "\n",
    "    # Análise dos dados finais\n",
    "    print_final_results(population, population_fitt, count_gen, _print=print)\n",
    "\n",
    "    # Impressão do gráfico\n",
    "    draw_graph(count_gen, datay, _print=print)\n",
    "\n",
    "    return best\n"
   ],
   "metadata": {
    "collapsed": false,
    "pycharm": {
     "name": "#%%\n"
    }
   }
  },
  {
   "cell_type": "code",
   "execution_count": null,
   "outputs": [],
   "source": [
    "\n",
    "population = init_population()\n",
    "\n",
    "best = run_gen_alg(population)\n"
   ],
   "metadata": {
    "collapsed": false,
    "pycharm": {
     "name": "#%%\n"
    }
   }
  },
  {
   "cell_type": "markdown",
   "source": [
    "## Resultados\n",
    "\n",
    "O programa foi feito de forma a considerar um conjunto de parâmetros padrões, escolhidos arbitrariamente, e que serão assumidos quando não comentados nos testes a seguir. Dentre eles, temos:\n",
    "- População inicial: 20\n",
    "- Máximo de gerações: 1000\n",
    "- Probabilidade de *crossover* (cruxamento): 50%\n",
    "- Probabilidade de mutação: 20%"
   ],
   "metadata": {
    "collapsed": false,
    "pycharm": {
     "name": "#%% md\n"
    }
   }
  },
  {
   "cell_type": "markdown",
   "source": [
    "### Verificação de convergência\n",
    "\n",
    "Utilizamos as configurações padrões da função desenvolvida para rodar o problema 30 vezes, de forma a obter uma média de convergência.\n",
    "\n",
    "Com essas configurações, foi obtido uma média de 634 gerações para que se econtrasse o resultado final, com todos os casos chegando ao resultado final antes do limite padrão estipulado.\n",
    "\n",
    "No entanto, vale ressaçtar que há uma alta variação na função, populações que encontram um resultado final após 498 gerações, enquantos outras levam 827, no caso das populações geradas para essa análise."
   ],
   "metadata": {
    "collapsed": false,
    "pycharm": {
     "name": "#%% md\n"
    }
   }
  },
  {
   "cell_type": "code",
   "execution_count": null,
   "outputs": [],
   "source": [
    "for i in range(30):\n",
    "    population = init_population()\n",
    "    best = run_gen_alg(population,\n",
    "                       _print=False)"
   ],
   "metadata": {
    "collapsed": false,
    "pycharm": {
     "name": "#%%\n"
    }
   }
  },
  {
   "cell_type": "markdown",
   "source": [],
   "metadata": {
    "collapsed": false,
    "pycharm": {
     "name": "#%% md\n"
    }
   }
  },
  {
   "cell_type": "markdown",
   "source": [
    "### Variação da Probabilidade de Mutação\n",
    "\n",
    "Para a análise do impacto da taxa de mutação na função desenvolvida, a função abaixo foi criada de forma a iterar por diversas taxas diferentes, começando com uma probabilidade de 5% e caminhando de 5 em 5% até um máximo de 95% de probabilidade de mutação em cada posição do vetor.\n",
    "\n",
    "Foi constatado que o método desenvolvido, mesmo instável, se mantém mais eficiente quando se aplica uma taxa de mutação entre 15% e 30%, considerando os demais parametros utilizados. Temos então uma perda de eficiência progressiva conforme aumentamos esse parâmetro."
   ],
   "metadata": {
    "collapsed": false,
    "pycharm": {
     "name": "#%% md\n"
    }
   }
  },
  {
   "cell_type": "code",
   "execution_count": null,
   "outputs": [],
   "source": [
    "mutation_rate_var = 0.05\n",
    "while mutation_rate_var <= 1:\n",
    "    print(\"Crossover rate: \", round(mutation_rate_var, 2))\n",
    "    population = init_population()\n",
    "    best = run_gen_alg(population,\n",
    "                       _print=False,\n",
    "                       _mutation_rate=mutation_rate_var)\n",
    "    mutation_rate_var += 0.05"
   ],
   "metadata": {
    "collapsed": false,
    "pycharm": {
     "name": "#%%\n"
    }
   }
  },
  {
   "cell_type": "markdown",
   "source": [
    "## Conclusão\n",
    "\n",
    "Antes de condicionar a mutação para ocorrer apenas nas posições que o indivíduo se distinguia da string final, a quantidade de gerações necessárias para atingir para atingir a string final era 10 vezes maior que o valor médio de gerações apresentado nos resultados. Isso provou que, no campo de computação evolucionária, adotar diferentes abordagens para problemas parecidos pode faazer com que se gaste muito menos poder computacional para obter uma resposta adequada.\n"
   ],
   "metadata": {
    "collapsed": false,
    "pycharm": {
     "name": "#%% md\n"
    }
   }
  }
 ],
 "metadata": {
  "kernelspec": {
   "display_name": "Python 3",
   "language": "python",
   "name": "python3"
  },
  "language_info": {
   "codemirror_mode": {
    "name": "ipython",
    "version": 2
   },
   "file_extension": ".py",
   "mimetype": "text/x-python",
   "name": "python",
   "nbconvert_exporter": "python",
   "pygments_lexer": "ipython2",
   "version": "2.7.6"
  }
 },
 "nbformat": 4,
 "nbformat_minor": 0
}