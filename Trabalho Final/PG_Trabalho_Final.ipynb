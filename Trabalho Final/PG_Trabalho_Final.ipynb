{
 "cells": [
  {
   "cell_type": "markdown",
   "id": "9a6f7cf5",
   "metadata": {
    "pycharm": {
     "name": "#%% md\n"
    }
   },
   "source": [
    "# Programação Genética - Trabalho Final\n",
    "## Leonardo Augusto Ferreira\n",
    "### leauferreira@cpdee.ufmg.br"
   ]
  },
  {
   "cell_type": "markdown",
   "id": "b187aa6c",
   "metadata": {
    "pycharm": {
     "name": "#%% md\n"
    }
   },
   "source": [
    "## Alunos:\n",
    "### Gabriel Camatta Zanotelli - 2018020140\n",
    "### Lucas de Almeida Martins - 2018020328"
   ]
  },
  {
   "cell_type": "code",
   "execution_count": null,
   "id": "5d1b620e",
   "metadata": {
    "pycharm": {
     "name": "#%%\n"
    }
   },
   "outputs": [],
   "source": [
    "# Anaconda\n",
    "# !conda install gplearn\n",
    "# !conda install eckity\n",
    "# !conda install pmlb\n",
    "\n",
    "# python - jupyter nootebook - colab\n",
    "# !pip install gplearn\n",
    "# !pip install eckity\n",
    "# !pip install pmlb\n",
    "\n",
    "\n",
    "# documentation:\n",
    "# https://docs.sympy.org/latest/install.html\n",
    "# https://github.com/EC-KitY/EC-KitY\n",
    "# https://epistasislab.github.io/pmlb/"
   ]
  },
  {
   "cell_type": "code",
   "execution_count": null,
   "outputs": [],
   "source": [
    "from pmlb import fetch_data\n",
    "from sklearn.model_selection import train_test_split\n",
    "from sklearn.metrics import accuracy_score"
   ],
   "metadata": {
    "collapsed": false,
    "pycharm": {
     "name": "#%%\n"
    }
   }
  },
  {
   "cell_type": "code",
   "execution_count": null,
   "outputs": [],
   "source": [
    "from eckity.algorithms.simple_evolution import SimpleEvolution\n",
    "from eckity.sklearn_compatible.sk_classifier import SKClassifier\n",
    "from eckity.breeders.simple_breeder import SimpleBreeder\n",
    "from eckity.creators.gp_creators.ramped_hh import RampedHalfAndHalfCreator\n",
    "from eckity.genetic_encodings.gp.tree.functions import f_add, f_mul, f_sub, f_div, f_neg, f_sqrt, f_log, f_abs, f_inv, f_max, \\\n",
    "    f_min\n",
    "from eckity.genetic_encodings.gp.tree.utils import create_terminal_set\n",
    "from eckity.genetic_operators.crossovers.subtree_crossover import SubtreeCrossover\n",
    "from eckity.genetic_operators.mutations.subtree_mutation import SubtreeMutation\n",
    "from eckity.genetic_operators.selections.tournament_selection import TournamentSelection\n",
    "from eckity.statistics.best_avg_worst_size_tree_statistics import BestAverageWorstSizeTreeStatistics\n",
    "from eckity.subpopulation import Subpopulation\n",
    "from eckity.termination_checkers.threshold_from_target_termination_checker import ThresholdFromTargetTerminationChecker\n",
    "\n",
    "# Adding your own functions\n",
    "from eckity.sklearn_compatible.classification_evaluator import ClassificationEvaluator\n"
   ],
   "metadata": {
    "collapsed": false,
    "pycharm": {
     "name": "#%%\n"
    }
   }
  },
  {
   "cell_type": "code",
   "execution_count": null,
   "outputs": [],
   "source": [
    "x, y = fetch_data('breast', return_X_y=True)"
   ],
   "metadata": {
    "collapsed": false,
    "pycharm": {
     "name": "#%%\n"
    }
   }
  },
  {
   "cell_type": "code",
   "execution_count": null,
   "outputs": [],
   "source": [
    "x_train, x_test, y_train, y_test = train_test_split(x, y, train_size=.7)"
   ],
   "metadata": {
    "collapsed": false,
    "pycharm": {
     "name": "#%%\n"
    }
   }
  },
  {
   "cell_type": "code",
   "execution_count": null,
   "outputs": [],
   "source": [
    "terminal_set = create_terminal_set(x_train)\n",
    "# function_set = [f_add, f_mul, f_sub, f_div, f_sqrt, f_log, f_abs, f_neg, f_inv, f_max, f_min]\n",
    "\n",
    "function_set = [f_add, f_mul, f_sub, f_div]\n",
    "\n",
    "algo = SimpleEvolution(\n",
    "    Subpopulation(\n",
    "        creators=RampedHalfAndHalfCreator(init_depth=(2, 4),\n",
    "                                                    terminal_set=terminal_set,\n",
    "                                                    function_set=function_set,\n",
    "                                                    bloat_weight=0.0001),\n",
    "        population_size=1000,\n",
    "        evaluator=ClassificationEvaluator(),\n",
    "        higher_is_better=True,\n",
    "        elitism_rate=0.05,\n",
    "        operators_sequence=[\n",
    "            SubtreeCrossover(probability=0.9, arity=2),\n",
    "            SubtreeMutation(probability=0.2, arity=1)\n",
    "        ],\n",
    "        selection_methods=[\n",
    "            # (selection method, selection probability) tuple\n",
    "            (TournamentSelection(tournament_size=4, higher_is_better=True), 1)\n",
    "        ]\n",
    "    ),\n",
    "    breeder=SimpleBreeder(),\n",
    "    max_workers=1,\n",
    "    max_generation=100,\n",
    "\n",
    "    termination_checker=ThresholdFromTargetTerminationChecker(optimal=1, threshold=0.03),\n",
    "    statistics=BestAverageWorstSizeTreeStatistics()\n",
    ")\n",
    "\n",
    "classifier = SKClassifier(algo)\n",
    "\n",
    "classifier.fit(x_train, y_train)"
   ],
   "metadata": {
    "collapsed": false,
    "pycharm": {
     "name": "#%%\n"
    }
   }
  },
  {
   "cell_type": "code",
   "execution_count": null,
   "outputs": [],
   "source": [
    "acc = accuracy_score(y_test, classifier.predict(x_test))\n",
    "print(acc)"
   ],
   "metadata": {
    "collapsed": false,
    "pycharm": {
     "name": "#%%\n"
    }
   }
  },
  {
   "cell_type": "markdown",
   "source": [
    "## Comparação de Desempenho entre as Bibliotecas de Programação Genética EC-KitY e GPlearn utilizando Datasets de Regressão e Classificação\n",
    "\n",
    "Para o trabalho final, você deverá utilizar as bibliotecas de programação Genética EC-KitY e GPlearn, juntamente com a biblioteca Penn Machine Learning Benchmarks, a fim de gerar um código Python que realizará testes em três conjuntos de dados para regressão e três conjuntos de dados para classificação. Seu objetivo é comparar as métricas obtidas e determinar qual biblioteca apresenta os melhores resultados.\n",
    "\n",
    "Durante o estudo, você deverá variar as probabilidades de mutação e cruzamento, a fim de identificar a melhor configuração para cada uma das bibliotecas. Registre cuidadosamente os resultados obtidos em relação às métricas avaliadas, considerando medidas como acurácia, precisão, recall, F1-score, erro médio quadrático (RMSE) ou outras relevantes para o problema em questão.\n",
    "\n",
    "Ao final do estudo, apresente uma análise comparativa dos resultados para cada biblioteca, destacando as probabilidades de mutação e cruzamento que produziram os melhores desempenhos. Utilize gráficos, tabelas ou outras visualizações que considerar pertinentes para ilustrar seus resultados e facilitar a compreensão."
   ],
   "metadata": {
    "collapsed": false,
    "pycharm": {
     "name": "#%% md\n"
    }
   }
  },
  {
   "cell_type": "markdown",
   "source": [
    "---\n",
    "# Relatório\n",
    "\n",
    "Nesta atividade analisamos a eficiência das bibliotecas de Programação Genética *EC-KitY* e *GPlearn* de forma a fazer uma análise quantitativa da eficiência de ambas, por meio da utilização de diversos conjuntos de dados disponíveis na biblioteca *pmlb*.\n",
    "\n",
    "Esta análise será feita utilizando ambas as bibliotecas para resolução de problemas binários e mono objetivo de quatro conjuntos de dados selecionados, variando dois parâmetros de imensa importância: a probabilidade de mutação e cruzamento. Para cada combinação, serão realizadas diversas iterações, de forma a obter um resultado médio.\n"
   ],
   "metadata": {
    "collapsed": false,
    "pycharm": {
     "name": "#%% md\n"
    }
   }
  },
  {
   "cell_type": "markdown",
   "source": [
    "### Dependencias"
   ],
   "metadata": {
    "collapsed": false,
    "pycharm": {
     "name": "#%% md\n"
    }
   }
  },
  {
   "cell_type": "code",
   "execution_count": 13,
   "outputs": [],
   "source": [
    "from pmlb import fetch_data\n",
    "from sklearn.model_selection import train_test_split\n",
    "from sklearn.metrics import accuracy_score, f1_score, recall_score, mean_squared_log_error\n",
    "from gplearn.genetic import SymbolicRegressor\n",
    "from eckity.algorithms.simple_evolution import SimpleEvolution\n",
    "from eckity.sklearn_compatible.sk_classifier import SKClassifier\n",
    "from eckity.breeders.simple_breeder import SimpleBreeder\n",
    "from eckity.creators.gp_creators.ramped_hh import RampedHalfAndHalfCreator\n",
    "from eckity.genetic_encodings.gp.tree.functions import f_add, f_mul, f_sub, f_div, f_min, f_max, f_sin, f_cos, f_log\n",
    "from eckity.genetic_encodings.gp.tree.utils import create_terminal_set\n",
    "from eckity.genetic_operators.crossovers.subtree_crossover import SubtreeCrossover\n",
    "from eckity.genetic_operators.mutations.subtree_mutation import SubtreeMutation\n",
    "from eckity.genetic_operators.selections.tournament_selection import TournamentSelection\n",
    "from eckity.statistics.best_avg_worst_size_tree_statistics import BestAverageWorstSizeTreeStatistics\n",
    "from eckity.subpopulation import Subpopulation\n",
    "from eckity.termination_checkers.threshold_from_target_termination_checker import ThresholdFromTargetTerminationChecker\n",
    "from eckity.sklearn_compatible.classification_evaluator import ClassificationEvaluator"
   ],
   "metadata": {
    "collapsed": false,
    "pycharm": {
     "name": "#%%\n"
    }
   }
  },
  {
   "cell_type": "markdown",
   "source": [
    "### Conjuntos de dados"
   ],
   "metadata": {
    "collapsed": false,
    "pycharm": {
     "name": "#%% md\n"
    }
   }
  },
  {
   "cell_type": "code",
   "execution_count": 14,
   "outputs": [],
   "source": [
    "x1, y1 = fetch_data('diabetes', return_X_y=True)\n",
    "x2, y2 = fetch_data('cloud', return_X_y=True)\n",
    "x3, y3 = fetch_data('iris', return_X_y=True)"
   ],
   "metadata": {
    "collapsed": false,
    "pycharm": {
     "name": "#%%\n"
    }
   }
  },
  {
   "cell_type": "markdown",
   "source": [
    "### Desenvolvimento\n",
    "\n",
    "Para ambas as bibliotecas serão adotados alguns parâmetros comuns e imutáveis ao longo dos testes realizados:\n",
    "- População máxima de 1000 indivíduos\n",
    "- Mesmo conjunto de equações para a resolução do problema (adição, subtração, multiplicação e divisão)\n",
    "- Valores base de probabilidade de mutação como 70% e probabilidade de cruzamento e 100%\n",
    "- Serão testados valores da probabilidade de mutação de 30-90%, com um passo de 20%\n",
    "- Serão testados valores da probabilidade de cruzamento de 40-100%, com um passo de 20%\n",
    "- Máximo de 100 gerações\n",
    "- Para cada caso, serão feitas um número de execuções de garantam uma certa segurança dos resultados. Para essa ativiade, serão feitas 10 iterações"
   ],
   "metadata": {
    "collapsed": false,
    "pycharm": {
     "name": "#%% md\n"
    }
   }
  },
  {
   "cell_type": "markdown",
   "source": [
    "### Set-up"
   ],
   "metadata": {
    "collapsed": false,
    "pycharm": {
     "name": "#%% md\n"
    }
   }
  },
  {
   "cell_type": "code",
   "execution_count": 15,
   "outputs": [],
   "source": [
    "function_set_ec_kity = [f_add, f_mul, f_sub, f_div, f_min, f_max, f_sin, f_cos, f_log]\n",
    "function_set_gp_learn = ['add', 'sub', 'mul', 'div', 'min', 'max', 'sin', 'cos', 'log']\n",
    "mutation_vec  = [0.3, 0.5, 0.7, 0.9]\n",
    "crossover_vec = [0.4, 0.6, 0.8, 1]\n",
    "iterations = 10"
   ],
   "metadata": {
    "collapsed": false,
    "pycharm": {
     "name": "#%%\n"
    }
   }
  },
  {
   "cell_type": "markdown",
   "source": [
    "### EC-KitY"
   ],
   "metadata": {
    "collapsed": false,
    "pycharm": {
     "name": "#%% md\n"
    }
   }
  },
  {
   "cell_type": "code",
   "execution_count": 16,
   "outputs": [],
   "source": [
    "def ec_kity(x, y, _mutation = 0.7, _crossover =1, _higher_is_better = True, _populationSize = 1000, _generationsMax = 100, _average=\"binary\"):\n",
    "\n",
    "    x_train, x_test, y_train, y_test = train_test_split(x, y,)\n",
    "    terminal_set = create_terminal_set(x_train)\n",
    "\n",
    "    algo = SimpleEvolution(\n",
    "        Subpopulation(\n",
    "            creators=RampedHalfAndHalfCreator(init_depth=(2, 4),\n",
    "                                                        terminal_set=terminal_set,\n",
    "                                                        function_set=function_set_ec_kity,\n",
    "                                                        bloat_weight=0.0001),\n",
    "            population_size=_populationSize,\n",
    "            evaluator=ClassificationEvaluator(),\n",
    "            higher_is_better=_higher_is_better,\n",
    "            elitism_rate=0.05,\n",
    "            operators_sequence=[\n",
    "                SubtreeCrossover(probability=_mutation, arity=2),\n",
    "                SubtreeMutation(probability=_crossover, arity=1)\n",
    "            ],\n",
    "            selection_methods=[\n",
    "                # (selection method, selection probability) tuple\n",
    "                (TournamentSelection(tournament_size=4, higher_is_better=True), 1)\n",
    "            ]\n",
    "        ),\n",
    "        breeder=SimpleBreeder(),\n",
    "        max_workers=1,\n",
    "        max_generation=_generationsMax,\n",
    "\n",
    "        termination_checker=ThresholdFromTargetTerminationChecker(optimal=1, threshold=0.03),\n",
    "        statistics=BestAverageWorstSizeTreeStatistics()\n",
    "    )\n",
    "\n",
    "    classifier = SKClassifier(algo)\n",
    "\n",
    "    classifier.fit(x_train, y_train)\n",
    "\n",
    "    acc =accuracy_score(y_test, classifier.predict(x_test))\n",
    "    f1 = f1_score(y_test, classifier.predict(x_test), average=_average)\n",
    "    rec = recall_score(y_test, classifier.predict(x_test), average=_average)\n",
    "    msle = mean_squared_log_error(y_test, classifier.predict(x_test))\n",
    "\n",
    "    print(\"Acuracia: \", acc)\n",
    "    print(\"F1: \", f1)\n",
    "    print(\"Recall: \", rec)\n",
    "    print(\"RMSE: \", msle)\n",
    "\n",
    "    return [acc, f1, rec, msle]"
   ],
   "metadata": {
    "collapsed": false,
    "pycharm": {
     "name": "#%%\n"
    }
   }
  },
  {
   "cell_type": "markdown",
   "source": [
    "### GPLearn"
   ],
   "metadata": {
    "collapsed": false,
    "pycharm": {
     "name": "#%% md\n"
    }
   }
  },
  {
   "cell_type": "code",
   "execution_count": 17,
   "outputs": [],
   "source": [
    "def gp_learn(x, y, _mutation = 0.7, _crossover = 1, _higher_is_better = True, _populationSize = 1000, _generationsMax = 100, _average=\"binary\"):\n",
    "\n",
    "    x_train, x_test, y_train, y_test = train_test_split(x, y)\n",
    "\n",
    "    gplearn_model = SymbolicRegressor(population_size=_populationSize,\n",
    "                                      generations=_generationsMax,\n",
    "                                      function_set=function_set_gp_learn,\n",
    "                                      stopping_criteria=0.01,\n",
    "                                      p_crossover=_crossover,\n",
    "                                      p_subtree_mutation=_mutation,\n",
    "                                      verbose=1,\n",
    "                                      parsimony_coefficient=0.01)\n",
    "\n",
    "    gplearn_model.fit(x_train, y_train)\n",
    "\n",
    "    acc =accuracy_score(y_test, gplearn_model.predict(x_test))\n",
    "    f1 = f1_score(y_test, gplearn_model.predict(x_test), average=_average)\n",
    "    rec = recall_score(y_test, gplearn_model.predict(x_test), average=_average)\n",
    "    msle = mean_squared_log_error(y_test, gplearn_model.predict(x_test))\n",
    "\n",
    "    print(\"Acuracia: \", acc)\n",
    "    print(\"F1: \", f1)\n",
    "    print(\"Recall: \", rec)\n",
    "    print(\"RMSE: \", msle)\n",
    "\n",
    "    return [acc, f1, rec, msle]"
   ],
   "metadata": {
    "collapsed": false,
    "pycharm": {
     "name": "#%%\n"
    }
   }
  },
  {
   "cell_type": "markdown",
   "source": [
    "# Execução"
   ],
   "metadata": {
    "collapsed": false,
    "pycharm": {
     "name": "#%% md\n"
    }
   }
  },
  {
   "cell_type": "code",
   "execution_count": null,
   "outputs": [],
   "source": [
    "diabetes_ec_kity_cross_results = []; diabetes_ec_kity_mutt_results  = []\n",
    "diabetes_gp_learn_cross_results = []; diabetes_gp_learn_mutt_results  = []\n",
    "\n",
    "for cross in crossover_vec:\n",
    "    diabetes_ec_kity_cross_results.append([ec_kity(x1, y1, _crossover=cross, _higher_is_better=True) for _ in range(iterations)])\n",
    "for mut in mutation_vec:\n",
    "    diabetes_ec_kity_mutt_results.append( [ec_kity(x1, y1, _mutation=mut, _higher_is_better=True) for _ in range(iterations)])"
   ],
   "metadata": {
    "collapsed": false,
    "pycharm": {
     "name": "#%%\n"
    }
   }
  },
  {
   "cell_type": "code",
   "execution_count": null,
   "outputs": [],
   "source": [
    "cloud_ec_kity_cross_results = []; cloud_ec_kity_mutt_results  = []\n",
    "cloud_gp_learn_cross_results = []; cloud_gp_learn_mutt_results  = []\n",
    "\n",
    "for cross in crossover_vec:\n",
    "    cloud_ec_kity_cross_results.append([ec_kity(x2, y2, _crossover=cross, _higher_is_better=False) for _ in range(iterations)])\n",
    "for mut in mutation_vec:\n",
    "    cloud_ec_kity_mutt_results.append( [ec_kity(x2, y2, _mutation=mut, _higher_is_better=False) for _ in range(iterations)])"
   ],
   "metadata": {
    "collapsed": false,
    "pycharm": {
     "name": "#%%\n"
    }
   }
  },
  {
   "cell_type": "code",
   "execution_count": null,
   "outputs": [],
   "source": [
    "iris_ec_kity_cross_results = []; iris_ec_kity_mutt_results  = []\n",
    "iris_gp_learn_cross_results = []; iris_gp_learn_mutt_results  = []\n",
    "\n",
    "for cross in crossover_vec:\n",
    "    iris_ec_kity_cross_results.append([ec_kity(x3, y3, _crossover=cross, _higher_is_better=True) for _ in range(iterations)])\n",
    "for mut in mutation_vec:\n",
    "    iris_ec_kity_mutt_results.append( [ec_kity(x3, y3, _mutation=mut, _higher_is_better=True) for _ in range(iterations)])"
   ],
   "metadata": {
    "collapsed": false,
    "pycharm": {
     "name": "#%%\n"
    }
   }
  },
  {
   "cell_type": "markdown",
   "source": [
    "# Resultados das Execuções\n"
   ],
   "metadata": {
    "collapsed": false,
    "pycharm": {
     "name": "#%% md\n"
    }
   }
  },
  {
   "cell_type": "markdown",
   "source": [
    "## EC Kity\n",
    "---\n",
    "### Variação do Crossover\n",
    "| Métrica       |  Valor | Diabetes              | Cloud               | Iris                 |\n",
    "|:--------------|-------:|-----------------------|---------------------|----------------------|\n",
    "| **Acuracia**  |    40% | 0.6875                | 0.2222222222222222  | 0.631578947368421    |\n",
    "|               |    60% | 0.6354166666666666    | 0.2222222222222222  | 0.631578947368421    |\n",
    "|               |    80% | 0.6614583333333334    | 0.3333333333333333  | 0.7105263157894737   |\n",
    "|               |   100% | 0.6666666666666666    | 0.37037037037037035 | 0.631578947368421    |\n",
    "| **F1**        |    40% | 0.8148148148148148    | 0.11991711991711991 | 0.511842105263158    |\n",
    "|               |    60% | 0.7770700636942676    | 0.15959595959595962 | 0.5279605263157895   |\n",
    "|               |    80% | 0.7962382445141065    | 0.24603174603174605 | 0.6028151774785802   |\n",
    "|               |   100% | 0.8                   | 0.22866344605475042 | 0.5152354570637119   |\n",
    "| **Recall**    |    40% | 1.0                   | 0.2222222222222222  | 0.631578947368421    |\n",
    "|               |    60% | 1.0                   | 0.2222222222222222  | 0.631578947368421    |\n",
    "|               |    80% | 1.0                   | 0.3333333333333333  | 0.7105263157894737   |\n",
    "|               |   100% | 1.0                   | 0.37037037037037035 | 0.631578947368421    |\n",
    "| **RMSE**      |    40% | 0.05137561059161424   | 0.888038084024321   | 0.06056914090800835  |\n",
    "|               |    60% | 0.059938212356883264  | 0.6032837055643817  | 0.06056914090800835  |\n",
    "|               |    80% | 0.05565691147424875   | 0.4605378919476176  | 0.04759003928486371  |\n",
    "|               |   100% | 0.054800651297721846  | 0.7078889947678819  | 0.06056914090800835  |\n",
    "\n",
    "\n",
    "---\n",
    "### Variação da Mutação\n",
    "| Métrica       |  Valor | Diabetes             | Cloud               | Iris                 |\n",
    "|:--------------|-------:|----------------------|---------------------|----------------------|\n",
    "| **Acuracia**  |    30% | 0.6666666666666666   | 0.4444444444444444  | 0.6578947368421053   |\n",
    "|               |    50% | 0.7135416666666666   | 0.18518518518518517 | 0.6578947368421053   |\n",
    "|               |    70% | 0.6510416666666666   | 0.4074074074074074  | 0.6842105263157895   |\n",
    "|               |    90% | 0.6302083333333334   | 0.37037037037037035 | 0.5789473684210527   |\n",
    "| **F1**        |    30% | 0.8                  | 0.3440962329851218  | 0.5503759398496241   |\n",
    "|               |    50% | 0.8328267477203648   | 0.13001101788287142 | 0.5585738539898133   |\n",
    "|               |    70% | 0.7886435331230284   | 0.31465653687875905 | 0.5789473684210527   |\n",
    "|               |    90% | 0.7731629392971245   | 0.26492374727668844 | 0.45706371191135736  |\n",
    "| **Recall**    |    30% | 1.0                  | 0.4444444444444444  | 0.6578947368421053   |\n",
    "|               |    50% | 1.0                  | 0.18518518518518517 | 0.6578947368421053   |\n",
    "|               |    70% | 1.0                  | 0.4074074074074074  | 0.6842105263157895   |\n",
    "|               |    90% | 1.0                  | 0.37037037037037035 | 0.5789473684210527   |\n",
    "| **RMSE**      |    30% | 0.054800651297721846 | 0.5346983748746058  | 0.05624277370029348  |\n",
    "|               |    50% | 0.04709430970897971  | 0.6506198938454402  | 0.05624277370029348  |\n",
    "|               |    70% | 0.05736943182730255  | 0.38979051403507503 | 0.05191640649257859  |\n",
    "|               |    90% | 0.06079447253341017  | 0.6506198938454402  | 0.06922187532343811  |\n"
   ],
   "metadata": {
    "collapsed": false,
    "pycharm": {
     "name": "#%% md\n"
    }
   }
  },
  {
   "cell_type": "markdown",
   "source": [
    "## GP-Learn\n",
    "---\n",
    "### Variação do Crossover\n",
    "| Métrica       |  Valor | Diabetes | Cloud | Iris |\n",
    "|:--------------|-------:|----------|-------|------|\n",
    "| **Acuracia**  |    40% |          |       |      |\n",
    "|               |    60% |          |       |      |\n",
    "|               |    80% |          |       |      |\n",
    "|               |   100% |          |       |      |\n",
    "| **F1**        |    40% |          |       |      |\n",
    "|               |    60% |          |       |      |\n",
    "|               |    80% |          |       |      |\n",
    "|               |   100% |          |       |      |\n",
    "| **Recall**    |    40% |          |       |      |\n",
    "|               |    60% |          |       |      |\n",
    "|               |    80% |          |       |      |\n",
    "|               |   100% |          |       |      |\n",
    "| **RMSE**      |    40% |          |       |      |\n",
    "|               |    60% |          |       |      |\n",
    "|               |    80% |          |       |      |\n",
    "|               |   100% |          |       |      |\n",
    "\n",
    "\n",
    "---\n",
    "### Variação da Mutação\n",
    "| Métrica       |  Valor | Diabetes | Cloud | Iris |\n",
    "|:--------------|-------:|----------|-------|------|\n",
    "| **Acuracia**  |    30% |          |       |      |\n",
    "|               |    50% |          |       |      |\n",
    "|               |    70% |          |       |      |\n",
    "|               |    90% |          |       |      |\n",
    "| **F1**        |    30% |          |       |      |\n",
    "|               |    50% |          |       |      |\n",
    "|               |    70% |          |       |      |\n",
    "|               |    90% |          |       |      |\n",
    "| **Recall**    |    30% |          |       |      |\n",
    "|               |    50% |          |       |      |\n",
    "|               |    70% |          |       |      |\n",
    "|               |    90% |          |       |      |\n",
    "| **RMSE**      |    30% |          |       |      |\n",
    "|               |    50% |          |       |      |\n",
    "|               |    70% |          |       |      |\n",
    "|               |    90% |          |       |      |\n"
   ],
   "metadata": {
    "collapsed": false,
    "pycharm": {
     "name": "#%% md\n"
    }
   }
  },
  {
   "cell_type": "code",
   "execution_count": 18,
   "outputs": [
    {
     "ename": "ValueError",
     "evalue": "The sum of p_crossover, p_subtree_mutation, p_hoist_mutation and p_point_mutation should total to 1.0 or less.",
     "output_type": "error",
     "traceback": [
      "\u001B[1;31m---------------------------------------------------------------------------\u001B[0m",
      "\u001B[1;31mValueError\u001B[0m                                Traceback (most recent call last)",
      "Cell \u001B[1;32mIn[18], line 1\u001B[0m\n\u001B[1;32m----> 1\u001B[0m \u001B[43mgp_learn\u001B[49m\u001B[43m(\u001B[49m\u001B[43mx3\u001B[49m\u001B[43m,\u001B[49m\u001B[43m \u001B[49m\u001B[43my3\u001B[49m\u001B[43m,\u001B[49m\u001B[43m \u001B[49m\u001B[43m_crossover\u001B[49m\u001B[38;5;241;43m=\u001B[39;49m\u001B[38;5;241;43m0.4\u001B[39;49m\u001B[43m,\u001B[49m\u001B[43m \u001B[49m\u001B[43m_higher_is_better\u001B[49m\u001B[38;5;241;43m=\u001B[39;49m\u001B[38;5;28;43;01mTrue\u001B[39;49;00m\u001B[43m,\u001B[49m\u001B[43m \u001B[49m\u001B[43m_average\u001B[49m\u001B[38;5;241;43m=\u001B[39;49m\u001B[38;5;124;43m'\u001B[39;49m\u001B[38;5;124;43mweighted\u001B[39;49m\u001B[38;5;124;43m'\u001B[39;49m\u001B[43m)\u001B[49m\n\u001B[0;32m      2\u001B[0m gp_learn(x3, y3, _crossover\u001B[38;5;241m=\u001B[39m\u001B[38;5;241m.6\u001B[39m, _higher_is_better\u001B[38;5;241m=\u001B[39m\u001B[38;5;28;01mTrue\u001B[39;00m, _average\u001B[38;5;241m=\u001B[39m\u001B[38;5;124m'\u001B[39m\u001B[38;5;124mweighted\u001B[39m\u001B[38;5;124m'\u001B[39m)\n\u001B[0;32m      3\u001B[0m gp_learn(x3, y3, _crossover\u001B[38;5;241m=\u001B[39m\u001B[38;5;241m.8\u001B[39m, _higher_is_better\u001B[38;5;241m=\u001B[39m\u001B[38;5;28;01mTrue\u001B[39;00m, _average\u001B[38;5;241m=\u001B[39m\u001B[38;5;124m'\u001B[39m\u001B[38;5;124mweighted\u001B[39m\u001B[38;5;124m'\u001B[39m)\n",
      "Cell \u001B[1;32mIn[17], line 14\u001B[0m, in \u001B[0;36mgp_learn\u001B[1;34m(x, y, _mutation, _crossover, _higher_is_better, _populationSize, _generationsMax, _average)\u001B[0m\n\u001B[0;32m      3\u001B[0m x_train, x_test, y_train, y_test \u001B[38;5;241m=\u001B[39m train_test_split(x, y)\n\u001B[0;32m      5\u001B[0m gplearn_model \u001B[38;5;241m=\u001B[39m SymbolicRegressor(population_size\u001B[38;5;241m=\u001B[39m_populationSize,\n\u001B[0;32m      6\u001B[0m                                   generations\u001B[38;5;241m=\u001B[39m_generationsMax,\n\u001B[0;32m      7\u001B[0m                                   function_set\u001B[38;5;241m=\u001B[39mfunction_set_gp_learn,\n\u001B[1;32m   (...)\u001B[0m\n\u001B[0;32m     11\u001B[0m                                   verbose\u001B[38;5;241m=\u001B[39m\u001B[38;5;241m1\u001B[39m,\n\u001B[0;32m     12\u001B[0m                                   parsimony_coefficient\u001B[38;5;241m=\u001B[39m\u001B[38;5;241m0.01\u001B[39m)\n\u001B[1;32m---> 14\u001B[0m \u001B[43mgplearn_model\u001B[49m\u001B[38;5;241;43m.\u001B[39;49m\u001B[43mfit\u001B[49m\u001B[43m(\u001B[49m\u001B[43mx_train\u001B[49m\u001B[43m,\u001B[49m\u001B[43m \u001B[49m\u001B[43my_train\u001B[49m\u001B[43m)\u001B[49m\n\u001B[0;32m     16\u001B[0m acc \u001B[38;5;241m=\u001B[39maccuracy_score(y_test, gplearn_model\u001B[38;5;241m.\u001B[39mpredict(x_test))\n\u001B[0;32m     17\u001B[0m f1 \u001B[38;5;241m=\u001B[39m f1_score(y_test, gplearn_model\u001B[38;5;241m.\u001B[39mpredict(x_test), average\u001B[38;5;241m=\u001B[39m_average)\n",
      "File \u001B[1;32m~\\AppData\\Local\\Programs\\Python\\Python39\\lib\\site-packages\\gplearn\\genetic.py:374\u001B[0m, in \u001B[0;36mBaseSymbolic.fit\u001B[1;34m(self, X, y, sample_weight)\u001B[0m\n\u001B[0;32m    371\u001B[0m \u001B[38;5;28mself\u001B[39m\u001B[38;5;241m.\u001B[39m_method_probs \u001B[38;5;241m=\u001B[39m np\u001B[38;5;241m.\u001B[39mcumsum(\u001B[38;5;28mself\u001B[39m\u001B[38;5;241m.\u001B[39m_method_probs)\n\u001B[0;32m    373\u001B[0m \u001B[38;5;28;01mif\u001B[39;00m \u001B[38;5;28mself\u001B[39m\u001B[38;5;241m.\u001B[39m_method_probs[\u001B[38;5;241m-\u001B[39m\u001B[38;5;241m1\u001B[39m] \u001B[38;5;241m>\u001B[39m \u001B[38;5;241m1\u001B[39m:\n\u001B[1;32m--> 374\u001B[0m     \u001B[38;5;28;01mraise\u001B[39;00m \u001B[38;5;167;01mValueError\u001B[39;00m(\u001B[38;5;124m'\u001B[39m\u001B[38;5;124mThe sum of p_crossover, p_subtree_mutation, \u001B[39m\u001B[38;5;124m'\u001B[39m\n\u001B[0;32m    375\u001B[0m                      \u001B[38;5;124m'\u001B[39m\u001B[38;5;124mp_hoist_mutation and p_point_mutation should \u001B[39m\u001B[38;5;124m'\u001B[39m\n\u001B[0;32m    376\u001B[0m                      \u001B[38;5;124m'\u001B[39m\u001B[38;5;124mtotal to 1.0 or less.\u001B[39m\u001B[38;5;124m'\u001B[39m)\n\u001B[0;32m    378\u001B[0m \u001B[38;5;28;01mif\u001B[39;00m \u001B[38;5;28mself\u001B[39m\u001B[38;5;241m.\u001B[39minit_method \u001B[38;5;129;01mnot\u001B[39;00m \u001B[38;5;129;01min\u001B[39;00m (\u001B[38;5;124m'\u001B[39m\u001B[38;5;124mhalf and half\u001B[39m\u001B[38;5;124m'\u001B[39m, \u001B[38;5;124m'\u001B[39m\u001B[38;5;124mgrow\u001B[39m\u001B[38;5;124m'\u001B[39m, \u001B[38;5;124m'\u001B[39m\u001B[38;5;124mfull\u001B[39m\u001B[38;5;124m'\u001B[39m):\n\u001B[0;32m    379\u001B[0m     \u001B[38;5;28;01mraise\u001B[39;00m \u001B[38;5;167;01mValueError\u001B[39;00m(\u001B[38;5;124m'\u001B[39m\u001B[38;5;124mValid program initializations methods include \u001B[39m\u001B[38;5;124m'\u001B[39m\n\u001B[0;32m    380\u001B[0m                      \u001B[38;5;124m'\u001B[39m\u001B[38;5;124m\"\u001B[39m\u001B[38;5;124mgrow\u001B[39m\u001B[38;5;124m\"\u001B[39m\u001B[38;5;124m, \u001B[39m\u001B[38;5;124m\"\u001B[39m\u001B[38;5;124mfull\u001B[39m\u001B[38;5;124m\"\u001B[39m\u001B[38;5;124m and \u001B[39m\u001B[38;5;124m\"\u001B[39m\u001B[38;5;124mhalf and half\u001B[39m\u001B[38;5;124m\"\u001B[39m\u001B[38;5;124m. Given \u001B[39m\u001B[38;5;132;01m%s\u001B[39;00m\u001B[38;5;124m.\u001B[39m\u001B[38;5;124m'\u001B[39m\n\u001B[0;32m    381\u001B[0m                      \u001B[38;5;241m%\u001B[39m \u001B[38;5;28mself\u001B[39m\u001B[38;5;241m.\u001B[39minit_method)\n",
      "\u001B[1;31mValueError\u001B[0m: The sum of p_crossover, p_subtree_mutation, p_hoist_mutation and p_point_mutation should total to 1.0 or less."
     ]
    }
   ],
   "source": [
    "gp_learn(x3, y3, _crossover=0.4, _higher_is_better=True, _average='weighted')\n",
    "gp_learn(x3, y3, _crossover=.6, _higher_is_better=True, _average='weighted')\n",
    "gp_learn(x3, y3, _crossover=.8, _higher_is_better=True, _average='weighted')\n",
    "gp_learn(x3, y3, _crossover=1, _higher_is_better=True, _average='weighted')"
   ],
   "metadata": {
    "collapsed": false,
    "pycharm": {
     "name": "#%%\n"
    }
   }
  },
  {
   "cell_type": "markdown",
   "source": [
    "### Anotações\n",
    "\n",
    "Bases de dados de classificação tem que ser binaria\n",
    "As de regressão tem que ser mono objetivo\n",
    "\n",
    "Usar a biblioteca \"pmlb\" pra pegar um banco de dados\n",
    "\n",
    "Variar as probabilidades ditas no enunciado\n",
    "\n",
    "Relatorio no markdown\n",
    "\n",
    "Rodar umas 30 (ou 3) vezes pra cada resultado (uma quantidade que de uma certa segurnaça) uma vez que o resultado é probabilistico\n",
    "\n",
    "Pegar uns 3 ou 4 valores diferentes para cada"
   ],
   "metadata": {
    "collapsed": false,
    "pycharm": {
     "name": "#%% md\n"
    }
   }
  }
 ],
 "metadata": {
  "kernelspec": {
   "display_name": "Python 3",
   "language": "python",
   "name": "python3"
  },
  "language_info": {
   "codemirror_mode": {
    "name": "ipython",
    "version": 3
   },
   "file_extension": ".py",
   "mimetype": "text/x-python",
   "name": "python",
   "nbconvert_exporter": "python",
   "pygments_lexer": "ipython3",
   "version": "3.10.6"
  }
 },
 "nbformat": 4,
 "nbformat_minor": 5
}