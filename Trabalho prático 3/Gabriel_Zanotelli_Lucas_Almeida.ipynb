{
 "cells": [
  {
   "cell_type": "markdown",
   "source": [
    "# Otimização não Linear\n",
    "\n",
    "**Professor:**\n",
    "Cristiano Leite de Castro\n",
    "\n",
    "**Alunos:**\n",
    "Gabriel Camatta Zanotelli\t2018020140\n",
    "Lucas de Almeida Martins\t2018020328"
   ],
   "metadata": {
    "collapsed": false,
    "pycharm": {
     "name": "#%% md\n"
    }
   }
  },
  {
   "cell_type": "code",
   "execution_count": null,
   "outputs": [],
   "source": [
    "import numpy as np"
   ],
   "metadata": {
    "collapsed": false,
    "pycharm": {
     "name": "#%%\n"
    }
   }
  },
  {
   "cell_type": "markdown",
   "source": [
    "## Problema em análise: Peaks"
   ],
   "metadata": {
    "collapsed": false,
    "pycharm": {
     "name": "#%% md\n"
    }
   }
  },
  {
   "cell_type": "code",
   "execution_count": null,
   "outputs": [],
   "source": [
    "def peaks(x): # objective function\n",
    "    x = x.T\n",
    "    F = 3*(1-x[0])**2 * np.exp(-(x[0]**2) - (x[1]+1)**2) - 10*(x[0]/5 - x[0]**3 - x[1]**5) * np.exp(-x[0]**2-x[1]**2) - 1/3*np.exp(-(x[0]+1)**2 - x[1]**2)\n",
    "    return F"
   ],
   "metadata": {
    "collapsed": false,
    "pycharm": {
     "name": "#%%\n"
    }
   }
  },
  {
   "cell_type": "markdown",
   "source": [
    "## Problema em análise: Rastings"
   ],
   "metadata": {
    "collapsed": false,
    "pycharm": {
     "name": "#%% md\n"
    }
   }
  },
  {
   "cell_type": "code",
   "execution_count": null,
   "outputs": [],
   "source": [
    "def rastrigin(x):  # objective function\n",
    "    x = x.reshape(1, -1).T\n",
    "    Q = np.eye(len(x))\n",
    "    X = Q.dot(x)\n",
    "\n",
    "    n = len(X)\n",
    "    F = 0\n",
    "\n",
    "    for i in range(n):\n",
    "        F = F + X[i]**2 - 10*np.cos(2*np.pi*X[i])\n",
    "\n",
    "    return F[0]"
   ],
   "metadata": {
    "collapsed": false,
    "pycharm": {
     "name": "#%%\n"
    }
   }
  },
  {
   "cell_type": "markdown",
   "source": [
    "## Implementação da Otimização Linear"
   ],
   "metadata": {
    "collapsed": false,
    "pycharm": {
     "name": "#%% md\n"
    }
   }
  },
  {
   "cell_type": "code",
   "execution_count": null,
   "outputs": [],
   "source": [
    "def differential_evolution(func,\n",
    "                           bounds,\n",
    "                           max_iterations,\n",
    "                           stop_bounds,\n",
    "                           _N=100,\n",
    "                           _c=0.7,\n",
    "                           _f=0.8):\n",
    "\n",
    "    t = 0\n",
    "    n = len(bounds)\n",
    "    lower_bound, upper_bound = np.array(bounds).T\n",
    "    # Lower e upper bounds nao estao funfando\n",
    "    x = np.random.rand(_N, n) * (upper_bound - lower_bound) + lower_bound\n",
    "\n",
    "    while t < max_iterations:\n",
    "        for i in range(_N):\n",
    "\n",
    "            r1, r2, r3 = np.random.choice(_N, 3, replace=False)\n",
    "            delta = np.random.randint(0, n)\n",
    "            mi = np.zeros((_N, n))\n",
    "\n",
    "            for j in range(n):\n",
    "                if (np.random.rand() <= _c) or (j == delta):\n",
    "                    mi[i, j] = x[r1, j] + _f * (x[r2, j] - x[r3, j])\n",
    "                else:\n",
    "                    mi[i, j] = x[i, j]\n",
    "\n",
    "            if func(mi[i]) <= func(x[i]):\n",
    "                x[i] = mi[i]\n",
    "\n",
    "            if round(func(x[i]), 4) == round(func(stop_bounds), 4):\n",
    "                return t, x[i]\n",
    "        t += 1\n",
    "\n",
    "    return t, x[0]"
   ],
   "metadata": {
    "collapsed": false,
    "pycharm": {
     "name": "#%%\n"
    }
   }
  },
  {
   "cell_type": "markdown",
   "source": [
    "# Solução"
   ],
   "metadata": {
    "collapsed": false,
    "pycharm": {
     "name": "#%% md\n"
    }
   }
  },
  {
   "cell_type": "code",
   "execution_count": null,
   "outputs": [],
   "source": [
    "# Definição dos parâmetros\n",
    "bounds_peaks = [(-3, 3), (-3, 3)]\n",
    "bounds_rastings = [(-2, 2), (-2, 2)]\n",
    "max_iterations = 500\n",
    "\n",
    "t1, x1 = differential_evolution(peaks, bounds_peaks, max_iterations, np.array(list([0.228, -1.625])))\n",
    "print(\"Melhor solução encontrada Peaks:\")\n",
    "print(\"t= \", t1, \" | x* =\", x1, \" | f(x*) =\", peaks(x1))\n",
    "\n",
    "t2, x2 = differential_evolution(rastrigin, bounds_rastings, max_iterations, np.array(list([0, 0])))\n",
    "print(\"Melhor solução encontrada Rastings:\")\n",
    "print(\"t= \", t2, \" | x* =\", x2, \" | f(x*) =\", rastrigin(x2))"
   ],
   "metadata": {
    "collapsed": false,
    "pycharm": {
     "name": "#%%\n"
    }
   }
  }
 ],
 "metadata": {
  "kernelspec": {
   "display_name": "Python 3",
   "language": "python",
   "name": "python3"
  },
  "language_info": {
   "codemirror_mode": {
    "name": "ipython",
    "version": 2
   },
   "file_extension": ".py",
   "mimetype": "text/x-python",
   "name": "python",
   "nbconvert_exporter": "python",
   "pygments_lexer": "ipython2",
   "version": "2.7.6"
  }
 },
 "nbformat": 4,
 "nbformat_minor": 0
}