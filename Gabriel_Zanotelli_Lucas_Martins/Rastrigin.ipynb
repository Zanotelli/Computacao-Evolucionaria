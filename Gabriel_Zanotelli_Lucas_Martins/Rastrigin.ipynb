{
 "cells": [
  {
   "cell_type": "markdown",
   "metadata": {
    "collapsed": false,
    "pycharm": {
     "name": "#%% md\n"
    }
   },
   "source": [
    "# Otimização não Linear\n",
    "\n",
    "**Professor:**\n",
    "Cristiano Leite de Castro\n",
    "\n",
    "**Alunos:**\n",
    "Gabriel Camatta Zanotelli\t2018020140\n",
    "Lucas de Almeida Martins\t2018020328"
   ]
  },
  {
   "cell_type": "code",
   "execution_count": null,
   "metadata": {
    "collapsed": false,
    "pycharm": {
     "name": "#%%\n"
    }
   },
   "outputs": [],
   "source": [
    "import numpy as np"
   ]
  },
  {
   "cell_type": "markdown",
   "metadata": {
    "collapsed": false,
    "pycharm": {
     "name": "#%% md\n"
    }
   },
   "source": [
    "## Problema em análise: rastrigin\n",
    "Considerando o problema de otimização não linear irrestrito de variáveis e usando o código do Algoritmo de Evolução Diferencial para o problema multimodal de otimização rastrigin, para -2 <= x1 <= 2, -2 <= x2 <= 2, com N = 100; mínimo global em x*=[0,0] com f(x*) = -20."
   ]
  },
  {
   "cell_type": "markdown",
   "metadata": {
    "collapsed": false,
    "pycharm": {
     "name": "#%% md\n"
    }
   },
   "source": [
    "## Problema em análise: rastrigin"
   ]
  },
  {
   "cell_type": "code",
   "execution_count": null,
   "metadata": {
    "collapsed": false,
    "pycharm": {
     "name": "#%%\n"
    }
   },
   "outputs": [],
   "source": [
    "def rastrigin(x):  # objective function\n",
    "    x = x.reshape(1, -1).T\n",
    "    Q = np.eye(len(x))\n",
    "    X = Q.dot(x)\n",
    "\n",
    "    n = len(X)\n",
    "    F = 0\n",
    "\n",
    "    for i in range(n):\n",
    "        F = F + X[i]**2 - 10*np.cos(2*np.pi*X[i])\n",
    "\n",
    "    return F[0]"
   ]
  },
  {
   "cell_type": "markdown",
   "metadata": {
    "collapsed": false,
    "pycharm": {
     "name": "#%% md\n"
    }
   },
   "source": [
    "## Implementação da Otimização Linear\n",
    "A função differential_evolution implementa um algoritmo de otimização chamado Evolução Diferencial. Essa técnica busca encontrar o valor mínimo de uma função, fazendo iterações e manipulando uma população de indivíduos. Os parâmetros _c e _f, probabilidade de recombinação e fator de escala, respectivamente, foram escolhidos de acordo com a sugestão do relatório."
   ]
  },
  {
   "cell_type": "code",
   "execution_count": null,
   "metadata": {
    "collapsed": false,
    "pycharm": {
     "name": "#%%\n"
    }
   },
   "outputs": [],
   "source": [
    "def differential_evolution(func,\n",
    "                           bounds,\n",
    "                           max_iterations,\n",
    "                           stop_bounds,\n",
    "                           _N=100,\n",
    "                           _c=0.7,\n",
    "                           _f=0.8):\n",
    "\n",
    "    t = 0\n",
    "    n = len(bounds)\n",
    "    lower_bound, upper_bound = np.array(bounds).T\n",
    "    # Lower e upper bounds nao estao funfando\n",
    "    x = np.random.rand(_N, n) * (upper_bound - lower_bound) + lower_bound\n",
    "\n",
    "    while t < max_iterations:\n",
    "        for i in range(_N):\n",
    "\n",
    "            r1, r2, r3 = np.random.choice(_N, 3, replace=False)\n",
    "            delta = np.random.randint(0, n)\n",
    "            mi = np.zeros((_N, n))\n",
    "\n",
    "            for j in range(n):\n",
    "                if (np.random.rand() <= _c) or (j == delta):\n",
    "                    mi[i, j] = x[r1, j] + _f * (x[r2, j] - x[r3, j])\n",
    "                else:\n",
    "                    mi[i, j] = x[i, j]\n",
    "\n",
    "            if func(mi[i]) <= func(x[i]):\n",
    "                x[i] = mi[i]\n",
    "\n",
    "            if round(func(x[i]), 4) == round(func(stop_bounds), 4):\n",
    "                return t+1, x[i]\n",
    "        t += 1\n",
    "\n",
    "    return t+1, x[0]"
   ]
  },
  {
   "cell_type": "markdown",
   "metadata": {
    "collapsed": false,
    "pycharm": {
     "name": "#%% md\n"
    }
   },
   "source": [
    "# Solução\n",
    "A solução retorna a geração em que o código parou, seja porque atingiu o máximo de iterações ou se algum indivíduo atingiu o resultado procurado."
   ]
  },
  {
   "cell_type": "code",
   "execution_count": null,
   "metadata": {
    "collapsed": false,
    "pycharm": {
     "name": "#%%\n"
    }
   },
   "outputs": [],
   "source": [
    "# Definição dos parâmetros\n",
    "bounds_peaks = [(-3, 3), (-3, 3)]\n",
    "bounds_rastrigin = [(-2, 2), (-2, 2)]\n",
    "max_iterations = 500\n",
    "\n",
    "t2, x2 = differential_evolution(rastrigin, bounds_rastrigin, max_iterations, np.array(list([0, 0])))\n",
    "print(\"Melhor solução encontrada rastrigin:\")\n",
    "print(\"t= \", t2, \" | x* =\", x2, \" | f(x*) =\", rastrigin(x2))"
   ]
  }
 ],
 "metadata": {
  "kernelspec": {
   "display_name": "Python 3.10.0 64-bit",
   "language": "python",
   "name": "python3"
  },
  "language_info": {
   "codemirror_mode": {
    "name": "ipython",
    "version": 2
   },
   "file_extension": ".py",
   "mimetype": "text/x-python",
   "name": "python",
   "nbconvert_exporter": "python",
   "pygments_lexer": "ipython2",
   "version": "3.10.0"
  },
  "vscode": {
   "interpreter": {
    "hash": "369f2c481f4da34e4445cda3fffd2e751bd1c4d706f27375911949ba6bb62e1c"
   }
  }
 },
 "nbformat": 4,
 "nbformat_minor": 0
}
