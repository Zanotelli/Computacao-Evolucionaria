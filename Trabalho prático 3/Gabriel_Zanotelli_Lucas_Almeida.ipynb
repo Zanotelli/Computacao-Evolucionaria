{
 "cells": [
  {
   "cell_type": "markdown",
   "source": [
    "# Otimização não Linear\n",
    "\n",
    "**Professor:**\n",
    "Cristiano Leite de Castro\n",
    "\n",
    "**Alunos:**\n",
    "Gabriel Camatta Zanotelli\t2018020140\n",
    "Lucas de Almeida Martins\t2018020328"
   ],
   "metadata": {
    "collapsed": false,
    "pycharm": {
     "name": "#%% md\n"
    }
   }
  },
  {
   "cell_type": "markdown",
   "source": [
    "## Introdução\n",
    "\n",
    "AAA\n"
   ],
   "metadata": {
    "collapsed": false,
    "pycharm": {
     "name": "#%% md\n"
    }
   }
  },
  {
   "cell_type": "markdown",
   "source": [
    "## Implementaçã0"
   ],
   "metadata": {
    "collapsed": false,
    "pycharm": {
     "name": "#%% md\n"
    }
   }
  },
  {
   "cell_type": "markdown",
   "source": [
    "### Definições de variáveis iniciais"
   ],
   "metadata": {
    "collapsed": false,
    "pycharm": {
     "name": "#%% md\n"
    }
   }
  },
  {
   "cell_type": "code",
   "execution_count": null,
   "outputs": [],
   "source": [
    "import numpy as np"
   ],
   "metadata": {
    "collapsed": false,
    "pycharm": {
     "name": "#%%\n"
    }
   }
  },
  {
   "cell_type": "code",
   "execution_count": null,
   "outputs": [],
   "source": [
    "F = 0.8\n",
    "C = 0.7\n",
    "\n",
    "N = 100"
   ],
   "metadata": {
    "collapsed": false,
    "pycharm": {
     "name": "#%%\n"
    }
   }
  },
  {
   "cell_type": "markdown",
   "source": [
    "## Criação do Métodos"
   ],
   "metadata": {
    "collapsed": false,
    "pycharm": {
     "name": "#%% md\n"
    }
   }
  },
  {
   "cell_type": "code",
   "execution_count": null,
   "outputs": [],
   "source": [
    "def peaks(x):\n",
    "    return 3*(1-x[0])**2 * np.exp(-(x[0]**2) - (x[1]+1)**2) \\\n",
    "            - 10*(x[0]/5 - x[0]**3 - x[1]**5)*np.exp(-x[0]**2-x[1]**2) \\\n",
    "            - 1/3*np.exp(-(x[0]+1)**2 - x[1]**2)\n",
    "\n",
    "def rastrigin(x):\n",
    "    n = len(x)\n",
    "    return 10 * n + np.sum(x**2 - 10 * np.cos(2 * np.pi * x))\n",
    "\n",
    "\n",
    "def differential_evolution(func,\n",
    "                           bounds,\n",
    "                           max_iterations,\n",
    "                           _N=100,\n",
    "                           _c=0.7,\n",
    "                           _f=0.8):\n",
    "\n",
    "    t = 0\n",
    "    n = len(bounds)\n",
    "    lower_bound, upper_bound = np.array(bounds).T\n",
    "    x = np.random.rand(N, n) * (upper_bound - lower_bound) + lower_bound\n",
    "\n",
    "    while t < max_iterations:\n",
    "        for i in range(N):\n",
    "\n",
    "            r1, r2, r3 = np.random.choice(N, 3, replace=False)\n",
    "            delta = np.random.randint(0, n)\n",
    "            mi = np.zeros((N, n))\n",
    "\n",
    "            for j in range(n):\n",
    "                if (np.random.rand() <= _c) or (j == delta):\n",
    "                    mi[i, j] = x[r1, j] + _f * (x[r2, j] - x[r3, j])\n",
    "                else:\n",
    "                    mi[i, j] = x[i, j]\n",
    "\n",
    "            if func(mi[i]) <= func(x[i]):\n",
    "                x[i] = mi[i]\n",
    "\n",
    "            if func(x[i]) == -6.551133332835842:\n",
    "                return t, x[i]\n",
    "\n",
    "        t += 1\n",
    "\n",
    "    return t, x[0]\n",
    "\n",
    "# Definição dos parâmetros\n",
    "bounds_peaks = [(-3, 3), (-3, 3)]\n",
    "bounds_rastings = [(-2, 2), (-2, 2)]\n",
    "max_iterations = 500\n",
    "\n",
    "# Execução do algoritmo de evolução diferencial\n",
    "t1, x1 = differential_evolution(peaks, bounds_peaks, max_iterations)\n",
    "t2, x2 = differential_evolution(rastrigin, bounds_rastings, max_iterations)\n",
    "\n",
    "print(\"Melhor solução encontrada Peaks:\")\n",
    "print(\"t= \", t1, \" | x* =\", x1, \" | f(x*) =\", peaks(x1))\n",
    "print(\"Melhor solução encontrada Rastings:\")\n",
    "print(\"t= \", t2, \" | x* =\", x2, \" | f(x*) =\", peaks(x2))\n"
   ],
   "metadata": {
    "collapsed": false,
    "pycharm": {
     "name": "#%%\n"
    }
   }
  }
 ],
 "metadata": {
  "kernelspec": {
   "display_name": "Python 3",
   "language": "python",
   "name": "python3"
  },
  "language_info": {
   "codemirror_mode": {
    "name": "ipython",
    "version": 2
   },
   "file_extension": ".py",
   "mimetype": "text/x-python",
   "name": "python",
   "nbconvert_exporter": "python",
   "pygments_lexer": "ipython2",
   "version": "2.7.6"
  }
 },
 "nbformat": 4,
 "nbformat_minor": 0
}