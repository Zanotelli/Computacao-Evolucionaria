{
 "cells": [
  {
   "cell_type": "markdown",
   "source": [
    "# Algoritmos Genéticos\n",
    "\n",
    "**Professor:**\n",
    "Cristiano Leite de Castro\n",
    "\n",
    "**Alunos:**\n",
    "Gabriel Camatta Zanotelli\t2018020140\n",
    "Lucas de Almeida Martins\t2018020328"
   ],
   "metadata": {
    "collapsed": false
   }
  },
  {
   "cell_type": "markdown",
   "source": [
    "## Introdução\n",
    "\n",
    "AAA\n"
   ],
   "metadata": {
    "collapsed": false
   }
  },
  {
   "cell_type": "markdown",
   "source": [
    "## Implementação\n",
    "\n",
    "AAA\n"
   ],
   "metadata": {
    "collapsed": false
   }
  },
  {
   "cell_type": "markdown",
   "source": [
    "### Definições de variáveis iniciais"
   ],
   "metadata": {
    "collapsed": false
   }
  },
  {
   "cell_type": "code",
   "execution_count": 37,
   "outputs": [],
   "source": [
    "import random as rd\n",
    "import matplotlib.pyplot as plt\n",
    "import string as str"
   ],
   "metadata": {
    "collapsed": false
   }
  },
  {
   "cell_type": "code",
   "execution_count": 69,
   "outputs": [],
   "source": [
    "crossover_rate = 0.5\n",
    "mutation_rate = 0.8\n",
    "\n",
    "base_population = 20\n",
    "pop_sample = 5\n",
    "\n",
    "final_text = 'METHINKS*IT*IS*LIKE*A*WEASEL'\n",
    "text_size = len(final_text)\n",
    "space_index = [i for i, letter in enumerate(final_text) if letter == '*']\n",
    "\n",
    "VALID_CHARS = list(str.ascii_uppercase + str.digits)\n",
    "\n",
    "fitness_history = []"
   ],
   "metadata": {
    "collapsed": false
   }
  },
  {
   "cell_type": "markdown",
   "source": [
    "\n",
    "### Funções de suporte"
   ],
   "metadata": {
    "collapsed": false
   }
  },
  {
   "cell_type": "code",
   "execution_count": 74,
   "outputs": [],
   "source": [
    "def argsort(seq):\n",
    "    return sorted(range(len(seq)), key=seq.__getitem__)\n",
    "\n",
    "def verify_condition(pupulation):\n",
    "    return 0 in pupulation\n",
    "\n",
    "def get_best_solution(population_fit):\n",
    "    count = 0\n",
    "    aux = 100\n",
    "    for i in range(len(population_fit)):\n",
    "        if population_fit[i] < aux:\n",
    "            aux = population_fit[i]\n",
    "            count = i\n",
    "    return i\n",
    "\n",
    "def draw_pop(pop):\n",
    "    for i in range(len(pop)):\n",
    "        line = ''.format((8-i), ' ')\n",
    "        for j in range(len(pop)):\n",
    "            if pop[j] == i:\n",
    "                line = line + \"X \"\n",
    "            else:\n",
    "                line = line + \"- \"\n",
    "        print(line)\n",
    "\n",
    "def join(vector):\n",
    "    return \"\".join(vector)\n",
    "\n",
    "def check_crossover():\n",
    "    return rd.random() < crossover_rate\n",
    "\n",
    "def check_mutation():\n",
    "    return rd.random() < mutation_rate\n",
    "\n",
    "def get_valid_id():\n",
    "    id = -1\n",
    "    while id in space_index or id == -1:\n",
    "        id = rd.randint(0, text_size-1)\n",
    "    return id\n"
   ],
   "metadata": {
    "collapsed": false
   }
  },
  {
   "cell_type": "markdown",
   "source": [
    "### Definição da População Inicial\n",
    "\n",
    "AAA"
   ],
   "metadata": {
    "collapsed": false
   }
  },
  {
   "cell_type": "code",
   "execution_count": 46,
   "outputs": [],
   "source": [
    "def init_population(_mu:int = 20):\n",
    "    population = []\n",
    "    for i in range (_mu):\n",
    "        word = [rd.choice(VALID_CHARS) for _ in range(text_size)]\n",
    "        for i in space_index:\n",
    "            word[i] = \"*\"\n",
    "        population.append(word)\n",
    "    return population"
   ],
   "metadata": {
    "collapsed": false
   }
  },
  {
   "cell_type": "markdown",
   "source": [
    "### Avaliação de candidatos\n",
    "\n",
    "AAA"
   ],
   "metadata": {
    "collapsed": false
   }
  },
  {
   "cell_type": "code",
   "execution_count": 47,
   "outputs": [],
   "source": [
    "def fitness_nq(solution):\n",
    "    checks = 0\n",
    "    for i in range(len(solution)):\n",
    "        if solution[i] == final_text[i]:\n",
    "            checks+=1\n",
    "    return checks"
   ],
   "metadata": {
    "collapsed": false
   }
  },
  {
   "cell_type": "markdown",
   "source": [
    "## Seleciona pais\n",
    "\n",
    "Foi selecionado o método de \"Roleta\" para a seleção dos pais.\n"
   ],
   "metadata": {
    "collapsed": false
   }
  },
  {
   "cell_type": "code",
   "execution_count": 58,
   "outputs": [],
   "source": [
    "def select_parents_roulete(pupulation, population_fitt):\n",
    "    parents = [None, None]\n",
    "\n",
    "    total = sum(population_fitt)\n",
    "    p1 = rd.randint(1, total)\n",
    "    p2 = rd.randint(1, total)\n",
    "\n",
    "    count = 0\n",
    "    prev = 0\n",
    "    for i in range(len(pupulation)):\n",
    "        count += population_fitt[i]\n",
    "        if (prev < p1 <= count) and parents[0] is None:\n",
    "            parents[0] = pupulation[i]\n",
    "        if (prev < p2 <= count) and parents[1] is None:\n",
    "            parents[1] = pupulation[i]\n",
    "        prev = count\n",
    "\n",
    "    return parents"
   ],
   "metadata": {
    "collapsed": false
   }
  },
  {
   "cell_type": "markdown",
   "source": [
    "## Recombinação dos pais\n",
    "\n",
    "Utilização de um método de *Cut and crossfill* variável"
   ],
   "metadata": {
    "collapsed": false
   }
  },
  {
   "cell_type": "code",
   "execution_count": 67,
   "outputs": [],
   "source": [
    "def cut_and_crossfill_var(parents):\n",
    "\n",
    "    c1 = parents[0]\n",
    "    c2 = parents[1]\n",
    "\n",
    "    for i in range(len(parents[0])):\n",
    "        if c1[i] != '*' and check_crossover():\n",
    "            aux = c1[i]\n",
    "            c1[i] = c2[i]\n",
    "            c2[i] = aux\n",
    "\n",
    "    return [c1, c1]"
   ],
   "metadata": {
    "collapsed": false
   }
  },
  {
   "cell_type": "markdown",
   "source": [
    "## Mutação dos filhos\n",
    "\n",
    "AAA\n"
   ],
   "metadata": {
    "collapsed": false
   }
  },
  {
   "cell_type": "markdown",
   "source": [
    "## Cria e seleciona nova geração\n",
    "\n",
    "AAA"
   ],
   "metadata": {
    "collapsed": false
   }
  },
  {
   "cell_type": "code",
   "execution_count": 72,
   "outputs": [],
   "source": [
    "def mutate_offspring(offspring):\n",
    "    for of in offspring:\n",
    "        if check_mutation():\n",
    "            id1 = get_valid_id()\n",
    "            id2 = get_valid_id()\n",
    "            aux = of[id1]\n",
    "            of[id1] = of[id2]\n",
    "            of[id2] = aux\n",
    "    return offspring"
   ],
   "metadata": {
    "collapsed": false
   }
  },
  {
   "cell_type": "code",
   "execution_count": 86,
   "outputs": [],
   "source": [
    "def select_new_generation(poulation, offspring):\n",
    "    new_generation = poulation + offspring\n",
    "\n",
    "    new_pop_fit = [0] * len(new_generation)\n",
    "    for i in range(len(new_generation)):\n",
    "        new_pop_fit[i] = fitness_nq(new_generation[i])\n",
    "\n",
    "    new_pop_id = argsort(new_pop_fit)[len(offspring):]\n",
    "\n",
    "    next_generation = []\n",
    "    for i in range(len(new_generation)):\n",
    "        if i in new_pop_id:\n",
    "            next_generation.append(new_generation[i])\n",
    "\n",
    "    return next_generation"
   ],
   "metadata": {
    "collapsed": false
   }
  },
  {
   "cell_type": "markdown",
   "source": [
    "## Desenha gráfico\n",
    "\n",
    "AAA"
   ],
   "metadata": {
    "collapsed": false
   }
  },
  {
   "cell_type": "code",
   "execution_count": 61,
   "outputs": [],
   "source": [
    "def draw_graph(datax, datay):\n",
    "    plt.plot(range(datax+1), datay[0], \"-g\", label=\"Medium\")\n",
    "    plt.plot(range(datax+1), datay[1], \"-r\", label=\"Best\")\n",
    "    plt.legend(loc=\"upper right\")\n",
    "    plt.xlabel('Generation')\n",
    "    plt.ylabel('Fittness')\n",
    "    plt.show()"
   ],
   "metadata": {
    "collapsed": false
   }
  },
  {
   "cell_type": "markdown",
   "source": [
    "## Execução"
   ],
   "metadata": {
    "collapsed": false
   }
  },
  {
   "cell_type": "markdown",
   "source": [
    "## Resultados\n",
    "\n",
    "AAA\n",
    "\n",
    "### Média de Geração para convergência\n",
    "Falar dos parâmetros escolhidos\n",
    "\n",
    "\n",
    "### Variação da Probabilidade de Mutação\n",
    "Rodar umas 10 vezes\n",
    "\n",
    "\n",
    "### Variação na Probablidade de Cruzamento\n",
    "Rodar umas 10 vezes"
   ],
   "metadata": {
    "collapsed": false
   }
  },
  {
   "cell_type": "code",
   "execution_count": 88,
   "outputs": [
    {
     "name": "stdout",
     "output_type": "stream",
     "text": [
      "Texto final:  METHINKS*IT*IS*LIKE*A*WEASEL \n",
      "\n",
      "Fittness da população inicial:\n",
      "[5, 5, 6, 5, 6, 5, 6, 6, 6, 5, 6, 7, 5, 5, 5, 7, 6, 6, 5, 5]\n",
      "\n",
      "População inicial:\n",
      "60KTJA3N*SP*A8*30F6*I*XMX8V3  -  2IOQVF6I*YX*84*ZJYO*Q*JZHHH9  -   -  WDK1G5WZ*YO*MS*5CX4*Q*YJ91K4  -  8SCXL0RK*W4*Q0*V955*H*FX8UKF\n",
      "2IOQVF6I*YX*84*ZJYO*Q*JZHHH9  -  WDK1G5WZ*YO*MS*5CX4*Q*YJ91K4  -   -  8SCXL0RK*W4*Q0*V955*H*FX8UKF  -  7GLCGSON*QV*I8*PXU2*9*VK60H7\n",
      "WDK1G5WZ*YO*MS*5CX4*Q*YJ91K4  -  8SCXL0RK*W4*Q0*V955*H*FX8UKF  -   -  7GLCGSON*QV*I8*PXU2*9*VK60H7  -  XJXVWH7E*QJ*GY*WVLH*W*A29CKH\n",
      "8SCXL0RK*W4*Q0*V955*H*FX8UKF  -  7GLCGSON*QV*I8*PXU2*9*VK60H7  -   -  XJXVWH7E*QJ*GY*WVLH*W*A29CKH  -  NXPP3U0P*K5*R1*BDZF*0*WBF1O7\n",
      "7GLCGSON*QV*I8*PXU2*9*VK60H7  -  XJXVWH7E*QJ*GY*WVLH*W*A29CKH  -   -  NXPP3U0P*K5*R1*BDZF*0*WBF1O7  -  0C1CEQLZ*0D*QH*X7AL*2*Q2MSIM\n",
      "\n",
      "\n",
      "Geração final:  500\n",
      "\n",
      "Fittness da população final:\n",
      "[8, 8, 8, 8, 8, 8, 8, 8, 8, 8, 8, 8, 8, 8, 8, 8, 8, 8, 8, 8]\n",
      "\n",
      "Melhor indivíduo:\n",
      "['7', 'S', 'V', '5', 'H', 'F', 'E', 'W', '*', 'I', 'A', '*', 'I', '8', '*', 'T', 'N', 'Y', 'C', '*', 'O', '*', 'W', '3', '0', 'L', 'G', 'E']\n",
      "\n",
      "- - - - - - - - - - - - - - - - - - - - - - - - - - - - \n",
      "- - - - - - - - - - - - - - - - - - - - - - - - - - - - \n",
      "- - - - - - - - - - - - - - - - - - - - - - - - - - - - \n",
      "- - - - - - - - - - - - - - - - - - - - - - - - - - - - \n",
      "- - - - - - - - - - - - - - - - - - - - - - - - - - - - \n",
      "- - - - - - - - - - - - - - - - - - - - - - - - - - - - \n",
      "- - - - - - - - - - - - - - - - - - - - - - - - - - - - \n",
      "- - - - - - - - - - - - - - - - - - - - - - - - - - - - \n",
      "- - - - - - - - - - - - - - - - - - - - - - - - - - - - \n",
      "- - - - - - - - - - - - - - - - - - - - - - - - - - - - \n",
      "- - - - - - - - - - - - - - - - - - - - - - - - - - - - \n",
      "- - - - - - - - - - - - - - - - - - - - - - - - - - - - \n",
      "- - - - - - - - - - - - - - - - - - - - - - - - - - - - \n",
      "- - - - - - - - - - - - - - - - - - - - - - - - - - - - \n",
      "- - - - - - - - - - - - - - - - - - - - - - - - - - - - \n",
      "- - - - - - - - - - - - - - - - - - - - - - - - - - - - \n",
      "- - - - - - - - - - - - - - - - - - - - - - - - - - - - \n",
      "- - - - - - - - - - - - - - - - - - - - - - - - - - - - \n",
      "- - - - - - - - - - - - - - - - - - - - - - - - - - - - \n",
      "- - - - - - - - - - - - - - - - - - - - - - - - - - - - \n",
      "- - - - - - - - - - - - - - - - - - - - - - - - - - - - \n",
      "- - - - - - - - - - - - - - - - - - - - - - - - - - - - \n",
      "- - - - - - - - - - - - - - - - - - - - - - - - - - - - \n",
      "- - - - - - - - - - - - - - - - - - - - - - - - - - - - \n",
      "- - - - - - - - - - - - - - - - - - - - - - - - - - - - \n",
      "- - - - - - - - - - - - - - - - - - - - - - - - - - - - \n",
      "- - - - - - - - - - - - - - - - - - - - - - - - - - - - \n",
      "- - - - - - - - - - - - - - - - - - - - - - - - - - - - \n"
     ]
    },
    {
     "data": {
      "text/plain": "<Figure size 640x480 with 1 Axes>",
      "image/png": "[encoded data removed]"
     },
     "metadata": {},
     "output_type": "display_data"
    }
   ],
   "source": [
    "max_generation = 500\n",
    "\n",
    "print(\"Texto final: \", final_text, \"\")\n",
    "print()\n",
    "\n",
    "#=================================================================\n",
    "pupulation = init_population()\n",
    "population_fitt = [0] * base_population\n",
    "\n",
    "for i in range(base_population):\n",
    "    population_fitt[i] = fitness_nq(pupulation[i])\n",
    "print(\"Fittness da população inicial:\")\n",
    "print(population_fitt)\n",
    "print()\n",
    "\n",
    "print(\"População inicial:\")\n",
    "for i in range(int(base_population / 4)):\n",
    "    print(join(pupulation[i]), \" - \", join(pupulation[i+1]), \" - \",\n",
    "          \" - \", join(pupulation[i+2]), \" - \", join(pupulation[i+3]))\n",
    "print()\n",
    "\n",
    "#=================================================================\n",
    "count_gen = 0\n",
    "datay = [[], []]\n",
    "for i in range(max_generation):\n",
    "\n",
    "    parents = select_parents_roulete(pupulation, population_fitt)\n",
    "\n",
    "    offspring = cut_and_crossfill_var(parents)\n",
    "\n",
    "    mutate_offspring(offspring)\n",
    "\n",
    "    pupulation = select_new_generation(pupulation, offspring)\n",
    "\n",
    "    for j in range(base_population):\n",
    "        population_fitt[j] = fitness_nq(pupulation[j])\n",
    "\n",
    "    datay[0].append(sum(population_fitt) / len(population_fitt))\n",
    "    datay[1].append(min(population_fitt))\n",
    "\n",
    "    count_gen = i\n",
    "    if verify_condition(population_fitt):\n",
    "        break\n",
    "\n",
    "#=================================================================\n",
    "print()\n",
    "print(\"Geração final: \", (count_gen+1))\n",
    "print()\n",
    "print(\"Fittness da população final:\")\n",
    "print(population_fitt)\n",
    "print()\n",
    "print(\"Melhor indivíduo:\")\n",
    "best_pop = pupulation[get_best_solution(population_fitt)]\n",
    "print(best_pop)\n",
    "print()\n",
    "draw_pop(best_pop)\n",
    "\n",
    "draw_graph(count_gen, datay)"
   ],
   "metadata": {
    "collapsed": false
   }
  },
  {
   "cell_type": "markdown",
   "source": [
    "## Conclusão\n",
    "\n",
    "Com N = 20 e N = 50 as curvas, depois de 125 e 220 iterações, respectivamente, não apresentaram melhorias, provavelmente porque o programa não apresentou variabilidade suficiente e a configuração final da população é resultado de um pico evolutivo que apresentava soluções melhores no início, mas encontrou uma limitação.\n",
    "\n",
    "Dessa forma, pôde-se notar a importância de adicionar variabilidade às populações, tanto na forma de mutações mais frequentes, quanto reduzindo a exclusão dos indivíduos menos inaptos, para que o algoritmo consiga chegar na resposta ótima e não fique preso em uma tendência evolutiva.\n"
   ],
   "metadata": {
    "collapsed": false
   }
  }
 ],
 "metadata": {
  "kernelspec": {
   "display_name": "Python 3",
   "language": "python",
   "name": "python3"
  },
  "language_info": {
   "codemirror_mode": {
    "name": "ipython",
    "version": 2
   },
   "file_extension": ".py",
   "mimetype": "text/x-python",
   "name": "python",
   "nbconvert_exporter": "python",
   "pygments_lexer": "ipython2",
   "version": "2.7.6"
  }
 },
 "nbformat": 4,
 "nbformat_minor": 0
}
