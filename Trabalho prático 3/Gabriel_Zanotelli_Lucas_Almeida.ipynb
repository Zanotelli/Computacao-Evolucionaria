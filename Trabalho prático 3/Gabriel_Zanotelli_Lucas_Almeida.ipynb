{
 "cells": [
  {
   "cell_type": "markdown",
   "source": [
    "# Otimização não Linear\n",
    "\n",
    "**Professor:**\n",
    "Cristiano Leite de Castro\n",
    "\n",
    "**Alunos:**\n",
    "Gabriel Camatta Zanotelli\t2018020140\n",
    "Lucas de Almeida Martins\t2018020328"
   ],
   "metadata": {
    "collapsed": false
   }
  },
  {
   "cell_type": "markdown",
   "source": [
    "## Introdução\n",
    "\n",
    "AAA\n"
   ],
   "metadata": {
    "collapsed": false
   }
  },
  {
   "cell_type": "markdown",
   "source": [
    "## Implementaçã0"
   ],
   "metadata": {
    "collapsed": false
   }
  },
  {
   "cell_type": "markdown",
   "source": [
    "### Definições de variáveis iniciais"
   ],
   "metadata": {
    "collapsed": false
   }
  },
  {
   "cell_type": "code",
   "execution_count": 3,
   "outputs": [],
   "source": [
    "import random as rd\n",
    "import matplotlib.pyplot as plt\n",
    "import string as str"
   ],
   "metadata": {
    "collapsed": false
   }
  },
  {
   "cell_type": "code",
   "execution_count": 4,
   "outputs": [],
   "source": [
    "F = 0.8\n",
    "C = 0.7\n",
    "\n",
    "N = 100"
   ],
   "metadata": {
    "collapsed": false
   }
  },
  {
   "cell_type": "markdown",
   "source": [
    "\n",
    "### Funções de suporte"
   ],
   "metadata": {
    "collapsed": false
   }
  },
  {
   "cell_type": "code",
   "execution_count": 4,
   "outputs": [],
   "source": [],
   "metadata": {
    "collapsed": false
   }
  },
  {
   "cell_type": "markdown",
   "source": [
    "### Definição da População Inicial\n"
   ],
   "metadata": {
    "collapsed": false
   }
  },
  {
   "cell_type": "code",
   "execution_count": 4,
   "outputs": [],
   "source": [],
   "metadata": {
    "collapsed": false
   }
  },
  {
   "cell_type": "markdown",
   "source": [
    "### Avaliação de candidatos\n"
   ],
   "metadata": {
    "collapsed": false
   }
  },
  {
   "cell_type": "code",
   "execution_count": 4,
   "outputs": [],
   "source": [],
   "metadata": {
    "collapsed": false
   }
  },
  {
   "cell_type": "markdown",
   "source": [
    "### Seleciona pais\n"
   ],
   "metadata": {
    "collapsed": false
   }
  },
  {
   "cell_type": "code",
   "execution_count": 4,
   "outputs": [],
   "source": [],
   "metadata": {
    "collapsed": false
   }
  },
  {
   "cell_type": "markdown",
   "source": [
    "### Recombinação dos pais\n"
   ],
   "metadata": {
    "collapsed": false
   }
  },
  {
   "cell_type": "code",
   "execution_count": 4,
   "outputs": [],
   "source": [],
   "metadata": {
    "collapsed": false
   }
  },
  {
   "cell_type": "markdown",
   "source": [
    "### Mutação dos filhos\n"
   ],
   "metadata": {
    "collapsed": false
   }
  },
  {
   "cell_type": "code",
   "execution_count": 4,
   "outputs": [],
   "source": [],
   "metadata": {
    "collapsed": false
   }
  },
  {
   "cell_type": "markdown",
   "source": [
    "## Cria e seleciona nova geração\n"
   ],
   "metadata": {
    "collapsed": false
   }
  },
  {
   "cell_type": "code",
   "execution_count": 4,
   "outputs": [],
   "source": [],
   "metadata": {
    "collapsed": false
   }
  },
  {
   "cell_type": "markdown",
   "source": [
    "### Desenha gráfico\n"
   ],
   "metadata": {
    "collapsed": false
   }
  },
  {
   "cell_type": "code",
   "execution_count": 4,
   "outputs": [],
   "source": [],
   "metadata": {
    "collapsed": false
   }
  },
  {
   "cell_type": "markdown",
   "source": [
    "## Criação do Métodos"
   ],
   "metadata": {
    "collapsed": false
   }
  },
  {
   "cell_type": "code",
   "execution_count": 6,
   "outputs": [
    {
     "name": "stderr",
     "output_type": "stream",
     "text": [
      "\n",
      "KeyboardInterrupt\n",
      "\n"
     ]
    }
   ],
   "source": [
    "import numpy as np\n",
    "\n",
    "def peaks(x):\n",
    "    return 3*(1-x[0])**2 * np.exp(-(x[0]**2) - (x[1]+1)**2) \\\n",
    "            - 10*(x[0]/5 - x[0]**3 - x[1]**5)*np.exp(-x[0]**2-x[1]**2) \\\n",
    "            - 1/3*np.exp(-(x[0]+1)**2 - x[1]**2)\n",
    "\n",
    "\n",
    "def differential_evolution(func, bounds, population_size, max_iterations, crossover_rate, differential_weight):\n",
    "    dim = len(bounds)\n",
    "    lower_bound, upper_bound = np.array(bounds).T\n",
    "    population = np.random.rand(population_size, dim) * (upper_bound - lower_bound) + lower_bound\n",
    "    fitness = np.array([func(individual) for individual in population])\n",
    "\n",
    "    t = 0\n",
    "    while t < max_iterations:\n",
    "        for i in range(population_size):\n",
    "            r1, r2, r3 = np.random.choice(population_size, 3, replace=False)\n",
    "            delta = np.random.randint(1, dim+1)\n",
    "\n",
    "            for j in range(dim):\n",
    "                if np.random.rand() <= crossover_rate or j == delta-1:\n",
    "                    population[t, i, j] = population[t, r1, j] + differential_weight * (population[t, r2, j] - population[t, r3, j])\n",
    "                else:\n",
    "                    population[t, i, j] = population[t, i, j]\n",
    "\n",
    "            if func(population[t, i]) <= fitness[t, i]:\n",
    "                population[t+1, i] = population[t, i]\n",
    "            else:\n",
    "                population[t+1, i] = population[t+1, i]\n",
    "\n",
    "        t += 1\n",
    "\n",
    "    best_idx = np.argmin(fitness[-1])\n",
    "    best_solution = population[-1, best_idx]\n",
    "    best_fitness = fitness[-1, best_idx]\n",
    "\n",
    "    return best_solution, best_fitness\n",
    "\n",
    "# Definição dos parâmetros\n",
    "bounds = [(-3, 3), (-3, 3)]\n",
    "population_size = 100\n",
    "max_iterations = 1000\n",
    "crossover_rate = 0.5\n",
    "differential_weight = 0.8\n",
    "\n",
    "# Execução do algoritmo de evolução diferencial\n",
    "best_solution, best_fitness = differential_evolution(peaks, bounds, population_size, max_iterations, crossover_rate, differential_weight)\n",
    "\n",
    "print(\"Melhor solução encontrada:\")\n",
    "print(\"x* =\", best_solution)\n",
    "print(\"f(x*) =\", best_fitness)\n"
   ],
   "metadata": {
    "collapsed": false
   }
  }
 ],
 "metadata": {
  "kernelspec": {
   "display_name": "Python 3",
   "language": "python",
   "name": "python3"
  },
  "language_info": {
   "codemirror_mode": {
    "name": "ipython",
    "version": 2
   },
   "file_extension": ".py",
   "mimetype": "text/x-python",
   "name": "python",
   "nbconvert_exporter": "python",
   "pygments_lexer": "ipython2",
   "version": "2.7.6"
  }
 },
 "nbformat": 4,
 "nbformat_minor": 0
}
