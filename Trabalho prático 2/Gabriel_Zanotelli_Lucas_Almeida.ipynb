{
 "cells": [
  {
   "cell_type": "markdown",
   "source": [
    "# Algoritmos Genéticos\n",
    "\n",
    "**Professor:**\n",
    "Cristiano Leite de Castro\n",
    "\n",
    "**Alunos:**\n",
    "Gabriel Camatta Zanotelli\t2018020140\n",
    "Lucas de Almeida Martins\t2018020328"
   ],
   "metadata": {
    "collapsed": false
   }
  },
  {
   "cell_type": "markdown",
   "source": [
    "## Introdução\n",
    "\n",
    "AAA\n"
   ],
   "metadata": {
    "collapsed": false
   }
  },
  {
   "cell_type": "markdown",
   "source": [
    "## Implementaçã0"
   ],
   "metadata": {
    "collapsed": false
   }
  },
  {
   "cell_type": "markdown",
   "source": [
    "### Definições de variáveis iniciais"
   ],
   "metadata": {
    "collapsed": false
   }
  },
  {
   "cell_type": "code",
   "execution_count": 413,
   "outputs": [],
   "source": [
    "import random as rd\n",
    "import matplotlib.pyplot as plt\n",
    "import string as str"
   ],
   "metadata": {
    "collapsed": false
   }
  },
  {
   "cell_type": "code",
   "execution_count": 414,
   "outputs": [],
   "source": [
    "crossover_rate = 0.5\n",
    "mutation_rate = 0.2\n",
    "\n",
    "base_population = 20\n",
    "pop_sample = 5\n",
    "\n",
    "FINAL_TEXT = list(\"METHINKS*IT*IS*LIKE*A*WEASEL\")\n",
    "text_size = len(FINAL_TEXT)\n",
    "space_index = [i for i, letter in enumerate(FINAL_TEXT) if letter == '*']\n",
    "\n",
    "VALID_CHARS = list(str.ascii_uppercase + str.digits)\n",
    "\n",
    "fitness_history = []"
   ],
   "metadata": {
    "collapsed": false
   }
  },
  {
   "cell_type": "markdown",
   "source": [
    "\n",
    "### Funções de suporte"
   ],
   "metadata": {
    "collapsed": false
   }
  },
  {
   "cell_type": "code",
   "execution_count": 415,
   "outputs": [],
   "source": [
    "def argsort(seq):\n",
    "    return sorted(range(len(seq)), key=seq.__getitem__)\n",
    "\n",
    "def verify_condition(population):\n",
    "    return len(FINAL_TEXT) in population\n",
    "\n",
    "def get_best_solution(population_fit):\n",
    "    count = 0\n",
    "    aux = 0\n",
    "    for i in range(len(population_fit)):\n",
    "        if population_fit[i] > aux:\n",
    "            aux = population_fit[i]\n",
    "            count = i\n",
    "    return count\n",
    "\n",
    "def join(vector):\n",
    "    word = \"\"\n",
    "    for c in vector:\n",
    "        word += c\n",
    "    return word\n",
    "\n",
    "def check_crossover():\n",
    "    return rd.random() < crossover_rate\n",
    "\n",
    "def check_mutation():\n",
    "    return rd.random() < mutation_rate\n",
    "\n",
    "def print_initial_pop(population, _print=True):\n",
    "    if _print:\n",
    "        print(\"População inicial:\")\n",
    "        for i in range(int(base_population / 4)):\n",
    "            print(join(population[i]), \" - \", join(population[i+1]), \" - \",\n",
    "                  \" - \", join(population[i+2]), \" - \", join(population[i+3]))\n",
    "        print()\n",
    "\n",
    "def print_initial_pop_fitt(population_fitt, _print=True):\n",
    "    if _print:\n",
    "        print(\"Fittness da população inicial:\")\n",
    "        print(population_fitt)\n",
    "        print()\n",
    "\n",
    "def print_final_results(pop, population_fitt, count_gen, _print=True):\n",
    "    best_pop = pop[get_best_solution(population_fitt)]\n",
    "    if _print:\n",
    "        print(\"--------------------RESULTADO--------------------\")\n",
    "        print(\"Geração final: \", (count_gen+1))\n",
    "        print()\n",
    "        print(\"Fittness da população final:\")\n",
    "        print(population_fitt)\n",
    "        print()\n",
    "        print(\"Melhor indivíduo: \", join(best_pop))\n",
    "        print(\"Texto objetivo  : \", join(FINAL_TEXT), \"- Acertos: \", population_fitt[pop.index(best_pop)])\n",
    "    else:\n",
    "        print(\"Número de gerações:\", count_gen+1, \" | Acertos:\", population_fitt[pop.index(best_pop)])"
   ],
   "metadata": {
    "collapsed": false
   }
  },
  {
   "cell_type": "markdown",
   "source": [
    "### Definição da População Inicial\n",
    "\n",
    "AAA"
   ],
   "metadata": {
    "collapsed": false
   }
  },
  {
   "cell_type": "code",
   "execution_count": 416,
   "outputs": [],
   "source": [
    "def init_population(_base_pop = 20):\n",
    "    population = []\n",
    "    for i in range (_base_pop):\n",
    "        word = [rd.choice(VALID_CHARS) for _ in range(text_size)]\n",
    "        for i in space_index:\n",
    "            word[i] = \"*\"\n",
    "        population.append(word)\n",
    "    return population"
   ],
   "metadata": {
    "collapsed": false
   }
  },
  {
   "cell_type": "markdown",
   "source": [
    "### Avaliação de candidatos\n",
    "\n",
    "AAA"
   ],
   "metadata": {
    "collapsed": false
   }
  },
  {
   "cell_type": "code",
   "execution_count": 417,
   "outputs": [],
   "source": [
    "def fitness_nq(solution, _b=False):\n",
    "    checks = 0\n",
    "    for i in range(len(solution)):\n",
    "        if solution[i] == FINAL_TEXT[i]:\n",
    "            checks+=1\n",
    "    return checks"
   ],
   "metadata": {
    "collapsed": false
   }
  },
  {
   "cell_type": "markdown",
   "source": [
    "### Seleciona pais\n",
    "\n",
    "Foi selecionado o método de \"Roleta\" para a seleção dos pais.\n"
   ],
   "metadata": {
    "collapsed": false
   }
  },
  {
   "cell_type": "code",
   "execution_count": 418,
   "outputs": [],
   "source": [
    "def select_parents_roulete(population, population_fitt):\n",
    "    parents = [None, None]\n",
    "\n",
    "    total = sum(population_fitt)\n",
    "    p1 = rd.randint(1, total)\n",
    "    p2 = rd.randint(1, total)\n",
    "\n",
    "    count = 0\n",
    "    prev = 0\n",
    "    for i in range(len(population)):\n",
    "        count += population_fitt[i]\n",
    "        if (prev < p1 <= count) and parents[0] is None:\n",
    "            parents[0] = population[i]\n",
    "        if (prev < p2 <= count) and parents[1] is None:\n",
    "            parents[1] = population[i]\n",
    "        prev = count\n",
    "\n",
    "    return parents"
   ],
   "metadata": {
    "collapsed": false
   }
  },
  {
   "cell_type": "markdown",
   "source": [
    "### Recombinação dos pais\n",
    "\n",
    "Utilização de um método de *Cut and crossfill*"
   ],
   "metadata": {
    "collapsed": false
   }
  },
  {
   "cell_type": "code",
   "execution_count": 419,
   "outputs": [],
   "source": [
    "def cut_and_crossfill(parents):\n",
    "\n",
    "    cross_point = rd.randint(1, text_size-1)\n",
    "\n",
    "    c1 = parents[0][:cross_point] + parents[0][cross_point:]\n",
    "    c2 = parents[1][:cross_point] + parents[1][cross_point:]\n",
    "\n",
    "    return [c1, c2]"
   ],
   "metadata": {
    "collapsed": false
   }
  },
  {
   "cell_type": "markdown",
   "source": [
    "### Mutação dos filhos\n",
    "\n",
    "AAA\n"
   ],
   "metadata": {
    "collapsed": false
   }
  },
  {
   "cell_type": "code",
   "execution_count": 420,
   "outputs": [],
   "source": [
    "def mutate_offspring(offspring):\n",
    "    for of in offspring:\n",
    "        for c in range(len(of)):\n",
    "            if check_mutation() and c not in space_index and of[c] != FINAL_TEXT[c]:\n",
    "                of[c] = rd.choice(VALID_CHARS)\n",
    "    return offspring"
   ],
   "metadata": {
    "collapsed": false
   }
  },
  {
   "cell_type": "markdown",
   "source": [
    "## Cria e seleciona nova geração\n",
    "\n",
    "AAA"
   ],
   "metadata": {
    "collapsed": false
   }
  },
  {
   "cell_type": "code",
   "execution_count": 421,
   "outputs": [],
   "source": [
    "def select_new_generation(poulation, offspring):\n",
    "    new_generation = poulation + offspring\n",
    "\n",
    "    new_pop_fit = [0] * len(new_generation)\n",
    "    for i in range(len(new_generation)):\n",
    "        new_pop_fit[i] = fitness_nq(new_generation[i])\n",
    "\n",
    "    new_pop_id = argsort(new_pop_fit)[len(offspring):]\n",
    "\n",
    "    next_generation = []\n",
    "    for i in range(len(new_generation)):\n",
    "        if i in new_pop_id:\n",
    "            next_generation.append(new_generation[i])\n",
    "\n",
    "    return next_generation"
   ],
   "metadata": {
    "collapsed": false
   }
  },
  {
   "cell_type": "markdown",
   "source": [
    "### Desenha gráfico\n",
    "\n",
    "AAA"
   ],
   "metadata": {
    "collapsed": false
   }
  },
  {
   "cell_type": "code",
   "execution_count": 422,
   "outputs": [],
   "source": [
    "def draw_graph(datax, datay, _print=True):\n",
    "    if _print:\n",
    "        plt.plot(range(datax+1), datay[0], \"-g\", label=\"Medium\")\n",
    "        plt.plot(range(datax+1), datay[1], \"-r\", label=\"Best\")\n",
    "        plt.legend(loc=\"upper right\")\n",
    "        plt.xlabel('Generation')\n",
    "        plt.ylabel('Fittness')\n",
    "        plt.show()"
   ],
   "metadata": {
    "collapsed": false
   }
  },
  {
   "cell_type": "markdown",
   "source": [
    "## Criação do Métodos"
   ],
   "metadata": {
    "collapsed": false
   }
  },
  {
   "cell_type": "code",
   "execution_count": 423,
   "outputs": [],
   "source": [
    "def run_gen_alg(population, _max_generations=1000, _base_pop=20,\n",
    "                _crossover_rate=0.5, _mutation_rate=0.2, _print=True):\n",
    "\n",
    "    # Redefine variáveis usando argumentos\n",
    "    max_generation = _max_generations\n",
    "    base_population = _base_pop\n",
    "    crossover_rate = _crossover_rate\n",
    "    mutation_rate = _mutation_rate\n",
    "    print = _print\n",
    "\n",
    "    # Fittnes inicial\n",
    "    population_fitt = [0] * base_population\n",
    "    for i in range(base_population):\n",
    "        population_fitt[i] = fitness_nq(population[i])\n",
    "\n",
    "    # Prints iniciais\n",
    "    print_initial_pop(population, _print=print)\n",
    "    print_initial_pop_fitt(population_fitt, _print=print)\n",
    "\n",
    "    # Roda o algorítmo\n",
    "    count_gen = 0\n",
    "    datay = [[], []]\n",
    "    for i in range(max_generation):\n",
    "\n",
    "        parents = select_parents_roulete(population, population_fitt)\n",
    "\n",
    "        offspring = cut_and_crossfill(parents)\n",
    "\n",
    "        mutate_offspring(offspring)\n",
    "\n",
    "        population = select_new_generation(population, offspring)\n",
    "\n",
    "        for j in range(base_population):\n",
    "            population_fitt[j] = fitness_nq(population[j])\n",
    "\n",
    "        datay[0].append(sum(population_fitt) / len(population_fitt))\n",
    "        datay[1].append(max(population_fitt))\n",
    "\n",
    "        count_gen = i\n",
    "        if verify_condition(population_fitt):\n",
    "            break\n",
    "\n",
    "    best = population[get_best_solution(population_fitt)]\n",
    "\n",
    "    # Análise dos dados finais\n",
    "    print_final_results(population, population_fitt, count_gen, _print=print)\n",
    "\n",
    "    # Impressão do gráfico\n",
    "    draw_graph(count_gen, datay, _print=print)\n",
    "\n",
    "    return best\n"
   ],
   "metadata": {
    "collapsed": false
   }
  },
  {
   "cell_type": "code",
   "execution_count": 424,
   "outputs": [
    {
     "name": "stdout",
     "output_type": "stream",
     "text": [
      "População inicial:\n",
      "IKUG7Y0K*2M*G6*U4ZQ*A*ZH8D6S  -  I80U5MU3*X9*JO*E83E*V*HXOXL6  -   -  ZICJEX6L*GA*6O*IF55*H*0J91BQ  -  LLFHKTMN*VH*7F*AXKO*G*70NFTY\n",
      "I80U5MU3*X9*JO*E83E*V*HXOXL6  -  ZICJEX6L*GA*6O*IF55*H*0J91BQ  -   -  LLFHKTMN*VH*7F*AXKO*G*70NFTY  -  47Q73BPJ*I2*12*11NH*1*Z8BT7Q\n",
      "ZICJEX6L*GA*6O*IF55*H*0J91BQ  -  LLFHKTMN*VH*7F*AXKO*G*70NFTY  -   -  47Q73BPJ*I2*12*11NH*1*Z8BT7Q  -  BPV9UZTR*X0*Q3*QU4K*D*244MPQ\n",
      "LLFHKTMN*VH*7F*AXKO*G*70NFTY  -  47Q73BPJ*I2*12*11NH*1*Z8BT7Q  -   -  BPV9UZTR*X0*Q3*QU4K*D*244MPQ  -  T3LT4FJM*RF*CW*3SY7*H*7ZA4Q3\n",
      "47Q73BPJ*I2*12*11NH*1*Z8BT7Q  -  BPV9UZTR*X0*Q3*QU4K*D*244MPQ  -   -  T3LT4FJM*RF*CW*3SY7*H*7ZA4Q3  -  5CL14U6Y*QA*PR*9Y3G*Y*4A1T2L\n",
      "\n",
      "Fittness da população inicial:\n",
      "[6, 6, 5, 7, 6, 5, 6, 6, 6, 7, 5, 6, 6, 5, 7, 7, 5, 6, 6, 5]\n",
      "\n",
      "--------------------RESULTADO--------------------\n",
      "Geração final:  503\n",
      "\n",
      "Fittness da população final:\n",
      "[27, 27, 27, 27, 27, 27, 27, 27, 27, 27, 27, 27, 27, 27, 27, 27, 27, 27, 27, 28]\n",
      "\n",
      "Melhor indivíduo:  METHINKS*IT*IS*LIKE*A*WEASEL\n",
      "Texto objetivo  :  METHINKS*IT*IS*LIKE*A*WEASEL - Acertos:  28\n"
     ]
    },
    {
     "data": {
      "text/plain": "<Figure size 640x480 with 1 Axes>",
      "image/png": "[encoded data removed]"
     },
     "metadata": {},
     "output_type": "display_data"
    }
   ],
   "source": [
    "\n",
    "population = init_population()\n",
    "\n",
    "best = run_gen_alg(population)\n"
   ],
   "metadata": {
    "collapsed": false
   }
  },
  {
   "cell_type": "markdown",
   "source": [
    "## Resultados\n",
    "\n",
    "AAA"
   ],
   "metadata": {
    "collapsed": false
   }
  },
  {
   "cell_type": "markdown",
   "source": [
    "### Verificação de convergência\n",
    "\n",
    "AAA"
   ],
   "metadata": {
    "collapsed": false
   }
  },
  {
   "cell_type": "code",
   "execution_count": 427,
   "outputs": [
    {
     "name": "stdout",
     "output_type": "stream",
     "text": [
      "Número de gerações: 546  | Acertos: 28\n",
      "Número de gerações: 669  | Acertos: 28\n",
      "Número de gerações: 681  | Acertos: 28\n",
      "Número de gerações: 508  | Acertos: 28\n",
      "Número de gerações: 434  | Acertos: 28\n",
      "Número de gerações: 649  | Acertos: 28\n",
      "Número de gerações: 532  | Acertos: 28\n",
      "Número de gerações: 671  | Acertos: 28\n",
      "Número de gerações: 652  | Acertos: 28\n",
      "Número de gerações: 827  | Acertos: 28\n",
      "Número de gerações: 631  | Acertos: 28\n",
      "Número de gerações: 488  | Acertos: 28\n",
      "Número de gerações: 733  | Acertos: 28\n",
      "Número de gerações: 667  | Acertos: 28\n",
      "Número de gerações: 518  | Acertos: 28\n",
      "Número de gerações: 603  | Acertos: 28\n",
      "Número de gerações: 829  | Acertos: 28\n",
      "Número de gerações: 772  | Acertos: 28\n",
      "Número de gerações: 548  | Acertos: 28\n",
      "Número de gerações: 571  | Acertos: 28\n",
      "Número de gerações: 591  | Acertos: 28\n",
      "Número de gerações: 580  | Acertos: 28\n",
      "Número de gerações: 878  | Acertos: 28\n",
      "Número de gerações: 662  | Acertos: 28\n",
      "Número de gerações: 690  | Acertos: 28\n",
      "Número de gerações: 549  | Acertos: 28\n",
      "Número de gerações: 583  | Acertos: 28\n",
      "Número de gerações: 467  | Acertos: 28\n",
      "Número de gerações: 666  | Acertos: 28\n",
      "Número de gerações: 744  | Acertos: 28\n"
     ]
    }
   ],
   "source": [
    "for i in range(30):\n",
    "    population = init_population()\n",
    "    best = run_gen_alg(population,\n",
    "                       _print=False)\n"
   ],
   "metadata": {
    "collapsed": false
   }
  },
  {
   "cell_type": "markdown",
   "source": [],
   "metadata": {
    "collapsed": false
   }
  },
  {
   "cell_type": "markdown",
   "source": [
    "### Variação da Probabilidade de Mutação\n",
    "\n",
    "Rodar umas 10 vezes\n"
   ],
   "metadata": {
    "collapsed": false
   }
  },
  {
   "cell_type": "markdown",
   "source": [
    "### Variação na Probablidade de Cruzamento\n",
    "Rodar umas 10 vezes"
   ],
   "metadata": {
    "collapsed": false
   }
  },
  {
   "cell_type": "markdown",
   "source": [
    "## Conclusão\n",
    "\n",
    "Com N = 20 e N = 50 as curvas, depois de 125 e 220 iterações, respectivamente, não apresentaram melhorias, provavelmente porque o programa não apresentou variabilidade suficiente e a configuração final da população é resultado de um pico evolutivo que apresentava soluções melhores no início, mas encontrou uma limitação.\n",
    "\n",
    "Dessa forma, pôde-se notar a importância de adicionar variabilidade às populações, tanto na forma de mutações mais frequentes, quanto reduzindo a exclusão dos indivíduos menos inaptos, para que o algoritmo consiga chegar na resposta ótima e não fique preso em uma tendência evolutiva.\n"
   ],
   "metadata": {
    "collapsed": false
   }
  }
 ],
 "metadata": {
  "kernelspec": {
   "display_name": "Python 3",
   "language": "python",
   "name": "python3"
  },
  "language_info": {
   "codemirror_mode": {
    "name": "ipython",
    "version": 2
   },
   "file_extension": ".py",
   "mimetype": "text/x-python",
   "name": "python",
   "nbconvert_exporter": "python",
   "pygments_lexer": "ipython2",
   "version": "2.7.6"
  }
 },
 "nbformat": 4,
 "nbformat_minor": 0
}
