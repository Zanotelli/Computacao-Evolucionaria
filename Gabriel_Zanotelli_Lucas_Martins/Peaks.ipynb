{
 "cells": [
  {
   "cell_type": "markdown",
   "metadata": {
    "collapsed": false,
    "pycharm": {
     "name": "#%% md\n"
    }
   },
   "source": [
    "# Otimização não Linear\n",
    "\n",
    "**Professor:**\n",
    "Cristiano Leite de Castro\n",
    "\n",
    "**Alunos:**\n",
    "Gabriel Camatta Zanotelli\t2018020140\n",
    "Lucas de Almeida Martins\t2018020328"
   ]
  },
  {
   "cell_type": "code",
   "execution_count": null,
   "metadata": {
    "collapsed": false,
    "pycharm": {
     "name": "#%%\n"
    }
   },
   "outputs": [],
   "source": [
    "import numpy as np"
   ]
  },
  {
   "cell_type": "markdown",
   "metadata": {
    "collapsed": false,
    "pycharm": {
     "name": "#%% md\n"
    }
   },
   "source": [
    "## Problema em análise: Peaks\n",
    "Considerando o problema de otimização não linear irrestrito de variáveis e usando o código do Algoritmo de Evolução Diferencial para o problema multimodal de otimização peaks, para -3 <= x1 <= 3, -3 <= x2 <= 3, com N = 100; mínimo global em x*=[0.228,-1.625] com f(x*) = -6.5511."
   ]
  },
  {
   "cell_type": "code",
   "execution_count": null,
   "metadata": {
    "collapsed": false,
    "pycharm": {
     "name": "#%%\n"
    }
   },
   "outputs": [],
   "source": [
    "def peaks(x): # objective function\n",
    "    x = x.T\n",
    "    F = 3*(1-x[0])**2 * np.exp(-(x[0]**2) - (x[1]+1)**2) - 10*(x[0]/5 - x[0]**3 - x[1]**5) * np.exp(-x[0]**2-x[1]**2) - 1/3*np.exp(-(x[0]+1)**2 - x[1]**2)\n",
    "    return F"
   ]
  },
  {
   "cell_type": "markdown",
   "metadata": {
    "collapsed": false,
    "pycharm": {
     "name": "#%% md\n"
    }
   },
   "source": [
    "## Implementação da Otimização Linear\n",
    "A função differential_evolution implementa um algoritmo de otimização chamado Evolução Diferencial. Essa técnica busca encontrar o valor mínimo de uma função, fazendo iterações e manipulando uma população de indivíduos. Os parâmetros _c e _f, probabilidade de recombinação e fator de escala, respectivamente, foram escolhidos de acordo com a sugestão do relatório."
   ]
  },
  {
   "cell_type": "code",
   "execution_count": null,
   "metadata": {
    "collapsed": false,
    "pycharm": {
     "name": "#%%\n"
    }
   },
   "outputs": [],
   "source": [
    "def differential_evolution(func,\n",
    "                           bounds,\n",
    "                           max_iterations,\n",
    "                           stop_bounds,\n",
    "                           _N=100,\n",
    "                           _c=0.7,\n",
    "                           _f=0.8):\n",
    "\n",
    "    t = 0\n",
    "    n = len(bounds)\n",
    "    lower_bound, upper_bound = np.array(bounds).T\n",
    "    # Lower e upper bounds nao estao funfando\n",
    "    x = np.random.rand(_N, n) * (upper_bound - lower_bound) + lower_bound\n",
    "\n",
    "    while t < max_iterations:\n",
    "        for i in range(_N):\n",
    "\n",
    "            r1, r2, r3 = np.random.choice(_N, 3, replace=False)\n",
    "            delta = np.random.randint(0, n)\n",
    "            mi = np.zeros((_N, n))\n",
    "\n",
    "            for j in range(n):\n",
    "                if (np.random.rand() <= _c) or (j == delta):\n",
    "                    mi[i, j] = x[r1, j] + _f * (x[r2, j] - x[r3, j])\n",
    "                else:\n",
    "                    mi[i, j] = x[i, j]\n",
    "\n",
    "            if func(mi[i]) <= func(x[i]):\n",
    "                x[i] = mi[i]\n",
    "\n",
    "            if round(func(x[i]), 4) == round(func(stop_bounds), 4):\n",
    "                return t+1, x[i]\n",
    "        t += 1\n",
    "\n",
    "    return t+1, x[0]"
   ]
  },
  {
   "cell_type": "markdown",
   "metadata": {
    "collapsed": false,
    "pycharm": {
     "name": "#%% md\n"
    }
   },
   "source": [
    "# Solução\n",
    "A solução retorna a geração em que o código parou, seja porque atingiu o máximo de iterações ou se algum indivíduo atingiu o resultado procurado."
   ]
  },
  {
   "cell_type": "code",
   "execution_count": null,
   "metadata": {
    "collapsed": false,
    "pycharm": {
     "name": "#%%\n"
    }
   },
   "outputs": [],
   "source": [
    "# Definição dos parâmetros\n",
    "bounds_peaks = [(-3, 3), (-3, 3)]\n",
    "bounds_rastings = [(-2, 2), (-2, 2)]\n",
    "max_iterations = 500\n",
    "\n",
    "t1, x1 = differential_evolution(peaks, bounds_peaks, max_iterations, np.array(list([0.228, -1.625])))\n",
    "print(\"Melhor solução encontrada Peaks:\")\n",
    "print(\"t= \", t1, \" | x* =\", x1, \" | f(x*) =\", peaks(x1))"
   ]
  }
 ],
 "metadata": {
  "kernelspec": {
   "display_name": "Python 3.10.0 64-bit",
   "language": "python",
   "name": "python3"
  },
  "language_info": {
   "codemirror_mode": {
    "name": "ipython",
    "version": 2
   },
   "file_extension": ".py",
   "mimetype": "text/x-python",
   "name": "python",
   "nbconvert_exporter": "python",
   "pygments_lexer": "ipython2",
   "version": "3.10.0"
  },
  "vscode": {
   "interpreter": {
    "hash": "369f2c481f4da34e4445cda3fffd2e751bd1c4d706f27375911949ba6bb62e1c"
   }
  }
 },
 "nbformat": 4,
 "nbformat_minor": 0
}
