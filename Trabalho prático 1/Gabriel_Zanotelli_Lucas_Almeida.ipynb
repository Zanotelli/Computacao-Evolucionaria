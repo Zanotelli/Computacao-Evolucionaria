{
 "cells": [
  {
   "cell_type": "markdown",
   "source": [
    "# Problemas das N-Rainhas\n",
    "\n",
    "**Professor:**\n",
    "Cristiano Leite de Castro\n",
    "\n",
    "**Alunos:**\n",
    "Gabriel Camatta Zanotelli\t2018020140\n",
    "Lucas de Almeida Martins\t2018020328"
   ],
   "metadata": {
    "collapsed": false
   }
  },
  {
   "cell_type": "markdown",
   "source": [
    "## Introdução\n",
    "\n",
    "O problema proposto neste trabalho consiste no desenvolvimento de um algoritmo com base em computação evolucionária, que promova a disposição de N rainhas em um tabuleiro de xadrez de tamanho também N, de forma que a quantidade de xeques entre as rainhas seja o menor possível.\n"
   ],
   "metadata": {
    "collapsed": false
   }
  },
  {
   "cell_type": "markdown",
   "source": [
    "## Implementação\n",
    "\n",
    "O código foi desenvolvido na linguagem python e o problema foi modelado de como uma permutação de números inteiros de N elementos, de forma que cada posição da permutação representa uma coluna do tabuleiro e o valor de cada posição representa a linha da respectiva rainha na coluna. Essa representação foi escolhida, pois ela gera uma população inicial sem a possibilidade de rainhas sofrerem xeques na horizontal e na vertical.\n",
    "Além disso, serão analisadas a seguir a implementação de cada parte do código em sua ordem de execução.\n"
   ],
   "metadata": {
    "collapsed": false
   }
  },
  {
   "cell_type": "markdown",
   "source": [
    "### Definições de variáveis iniciais"
   ],
   "metadata": {
    "collapsed": false
   }
  },
  {
   "cell_type": "code",
   "execution_count": 95,
   "outputs": [],
   "source": [
    "import random as rd\n",
    "import numpy as np\n",
    "import matplotlib.pyplot as plt"
   ],
   "metadata": {
    "collapsed": false
   }
  },
  {
   "cell_type": "code",
   "execution_count": 96,
   "outputs": [],
   "source": [
    "crossover_rate = 1\n",
    "mutation_rate = 0.8\n",
    "\n",
    "base_population = 20\n",
    "pop_sample = 5\n",
    "\n",
    "fitness_history = []"
   ],
   "metadata": {
    "collapsed": false
   }
  },
  {
   "cell_type": "markdown",
   "source": [
    "\n",
    "### Funções de suporte"
   ],
   "metadata": {
    "collapsed": false
   }
  },
  {
   "cell_type": "code",
   "execution_count": 97,
   "outputs": [],
   "source": [
    "def argsort(seq):\n",
    "    return sorted(range(len(seq)), key=seq.__getitem__)\n",
    "\n",
    "def verify_condition(pupulation):\n",
    "    return 0 in pupulation\n",
    "\n",
    "def get_best_solution(population_fit):\n",
    "    count = 0\n",
    "    aux = 100\n",
    "    for i in range(len(population_fit)):\n",
    "        if population_fit[i] < aux:\n",
    "            aux = population_fit[i]\n",
    "            count = i\n",
    "    return i\n",
    "\n",
    "def draw_pop(pop):\n",
    "    for i in range(len(pop)):\n",
    "        line = ''.format((8-i), ' ')\n",
    "        for j in range(len(pop)):\n",
    "            if pop[j] == i:\n",
    "                line = line + \"X \"\n",
    "            else:\n",
    "                line = line + \"- \"\n",
    "        print(line)"
   ],
   "metadata": {
    "collapsed": false
   }
  },
  {
   "cell_type": "markdown",
   "source": [
    "### Definição da População Inicial\n",
    "\n",
    "Utilizamos uma função específica que recebe dois argumentos, a população de cada geração e o tamanho N do tabuleiro (que consequentemente é a quantidade de rainhas). Os parâmetros podem ser passados como argumentos ou a função pode ser chamada utilizando valores padrão.\n",
    "\n",
    "A função utiliza da biblioteca de random do Python e retorna um vetor vetor de vetores, em que cada campo é uma solução possível do resultado. É utilizado um método específico da biblioteca de forma que nenhuma rainha esteja na mesma linha na geração inicial, já minimizando ao máximo o número de cheques."
   ],
   "metadata": {
    "collapsed": false
   }
  },
  {
   "cell_type": "code",
   "execution_count": 98,
   "outputs": [],
   "source": [
    "def init_population(_mu:int = 20, n:int = 8):\n",
    "    population = []\n",
    "    for i in range (_mu):\n",
    "        population.append(rd.sample(range(n), n))\n",
    "    return population"
   ],
   "metadata": {
    "collapsed": false
   }
  },
  {
   "cell_type": "markdown",
   "source": [
    "### Avaliação de candidatos\n",
    "\n",
    "Utilizamos de um método já bem difundido de análise de matrizes para checar cada tabuleiro individualmente, retornando um inteiro que representa o número de cheques no tabuleiro. Vale notar que o número será sempre par, uma vez que uma rainha que coloca outra em cheque, ficará, consequentemente, em cheque também."
   ],
   "metadata": {
    "collapsed": false
   }
  },
  {
   "cell_type": "code",
   "execution_count": 99,
   "outputs": [],
   "source": [
    "def fitness_nq(solution):\n",
    "    xeques = 0\n",
    "    for i in range(0,len(solution)):\n",
    "        for j in range(0,len(solution)):\n",
    "            if i!=j:\n",
    "                if i-solution[i] == j-solution[j] or i+solution[i] == j+solution[j]:\n",
    "                    xeques+=1\n",
    "    return xeques"
   ],
   "metadata": {
    "collapsed": false
   }
  },
  {
   "cell_type": "markdown",
   "source": [
    "## Seleciona pais\n",
    "\n",
    "Para a seleção dos pais passamos uma população inteira, assim como uma “amostra de população”, no caso dos testes feitos, o valor utilizado foi 5.\n",
    "\n",
    "Um número de soluções aleatórias igual ao tamanho da amostra são selecionadas e avaliadas. Os dois mais bem adaptados serão os utilizados para recombinação.\n"
   ],
   "metadata": {
    "collapsed": false
   }
  },
  {
   "cell_type": "code",
   "execution_count": 100,
   "outputs": [],
   "source": [
    "def select_parents(pupulation, pop_sample):\n",
    "\n",
    "    sample_pop = rd.sample(pupulation, pop_sample)\n",
    "\n",
    "    sample_pop_fit = [0] * pop_sample\n",
    "    for i in range(len(sample_pop_fit)):\n",
    "        sample_pop_fit[i] = fitness_nq(sample_pop[i])\n",
    "\n",
    "    parents_id = np.argsort(sample_pop_fit)[:2]\n",
    "    parents = [sample_pop[parents_id[0]],\n",
    "               sample_pop[parents_id[1]]]\n",
    "    return parents"
   ],
   "metadata": {
    "collapsed": false
   }
  },
  {
   "cell_type": "markdown",
   "source": [
    "## Recombinação dos pais\n",
    "\n",
    "Os dois pais selecionados na função anterior são passados, juntamente com a dimensão N do tabuleiro. É então utilizado um método chamado de “Cut and crossover”, onde ambos os pais são “cortados” em um ponto aleatório e recombinados, com o Filho 1 sendo formado pela primeira metade do Pai 1 e a segunda metade do Pai 2, e o Filho 2 com a primeira metade do Pai 2 e a primeira metade do Pai 1.\n",
    "\n",
    "Essa recombinação é feita com uma probabilidade de 100%, como recomendado no guia do trabalho.\n"
   ],
   "metadata": {
    "collapsed": false
   }
  },
  {
   "cell_type": "code",
   "execution_count": 101,
   "outputs": [],
   "source": [
    "def cut_and_crossfill(N, parents):\n",
    "    cross_point = rd.randint(1, N-1)\n",
    "\n",
    "    p1 = [parents[0][:cross_point] , parents[0][cross_point:]]\n",
    "    p2 = [parents[1][:cross_point] , parents[1][cross_point:]]\n",
    "\n",
    "    f1 = p1[0]\n",
    "    f2 = p2[0]\n",
    "    for i in range(len(p1[1])):\n",
    "        f1.append(p2[1][i])\n",
    "        f2.append(p1[1][i])\n",
    "\n",
    "    return [f1, f2]"
   ],
   "metadata": {
    "collapsed": false
   }
  },
  {
   "cell_type": "markdown",
   "source": [
    "## Mutação dos filhos\n",
    "\n",
    "Os filhos são posteriormente mutados por uma função que receberá as duas soluções geradas pela função anterior, uma “taxa de mutação” e o valor N. Com uma probabilidade igual a taxa de mutação passada, dois campos aleatórios do vetor de cada solução serão invertidos. O resultado final é retornado pela função.\n",
    "\n",
    "Os valores empregados foram recomendados no guia do trabalho.\n"
   ],
   "metadata": {
    "collapsed": false
   }
  },
  {
   "cell_type": "code",
   "execution_count": 102,
   "outputs": [],
   "source": [
    "def mutate_offspring(offspring, mutation_rate, N):\n",
    "    for of in offspring:\n",
    "        if rd.random() < mutation_rate:\n",
    "            id1 = rd.randint(0, N-1)\n",
    "            id2 = rd.randint(0, N-1)\n",
    "            aux = of[id1]\n",
    "            of[id1] = of[id2]\n",
    "            of[id2] = aux\n",
    "    return offspring"
   ],
   "metadata": {
    "collapsed": false
   }
  },
  {
   "cell_type": "markdown",
   "source": [
    "## Cria e seleciona nova geração\n",
    "\n",
    "A geração atual, juntamente com os filhos gerados, num total de “tamanho da população” + 2, são passados e analisados. São então selecionadas uma quantidade de soluções igual ao tamanho da população, descartando duas, formando a nova geração."
   ],
   "metadata": {
    "collapsed": false
   }
  },
  {
   "cell_type": "code",
   "execution_count": 103,
   "outputs": [],
   "source": [
    "def select_new_generation(poulation, offspring):\n",
    "    new_generation = poulation + offspring\n",
    "\n",
    "    new_pop_fit = [0] * len(new_generation)\n",
    "    for i in range(len(new_generation)):\n",
    "        new_pop_fit[i] = fitness_nq(new_generation[i])\n",
    "\n",
    "    new_pop_id = argsort(new_pop_fit)[:base_population]\n",
    "\n",
    "    next_generation = []\n",
    "    for i in range(len(new_generation)):\n",
    "        if i in new_pop_id:\n",
    "            next_generation.append(new_generation[i])\n",
    "\n",
    "    return next_generation"
   ],
   "metadata": {
    "collapsed": false
   }
  },
  {
   "cell_type": "markdown",
   "source": [
    "## Desenha gráfico\n",
    "\n",
    "Função de desenho do gráfico."
   ],
   "metadata": {
    "collapsed": false
   }
  },
  {
   "cell_type": "code",
   "execution_count": 104,
   "outputs": [],
   "source": [
    "def draw_graph(datax, datay):\n",
    "    plt.plot(range(datax+1), datay[0], \"-g\", label=\"Medium\")\n",
    "    plt.plot(range(datax+1), datay[1], \"-r\", label=\"Best\")\n",
    "    plt.legend(loc=\"upper right\")\n",
    "    plt.xlabel('Generation')\n",
    "    plt.ylabel('Fittness')\n",
    "    plt.show()"
   ],
   "metadata": {
    "collapsed": false
   }
  },
  {
   "cell_type": "markdown",
   "source": [
    "## Execução"
   ],
   "metadata": {
    "collapsed": false
   }
  },
  {
   "cell_type": "code",
   "execution_count": 105,
   "outputs": [
    {
     "name": "stdout",
     "output_type": "stream",
     "text": [
      "Número de rainhas do problema:  10\n",
      "Máximo de gerações:  100\n",
      "\n",
      "Fittness da população inicial:\n",
      "[4, 12, 6, 12, 16, 10, 12, 10, 16, 6, 12, 12, 20, 12, 10, 8, 22, 16, 24, 12]\n",
      "\n",
      "Geração final:  38\n",
      "\n",
      "Fittness da população final:\n",
      "[4, 4, 4, 4, 4, 4, 4, 4, 4, 2, 4, 4, 4, 4, 4, 4, 4, 4, 4, 0]\n",
      "\n",
      "Melhor indivíduo:\n",
      "[2, 6, 1, 1, 5, 0, 2, 7, 5, 1]\n",
      "\n",
      "- - - - - X - - - - \n",
      "- - X X - - - - - X \n",
      "X - - - - - X - - - \n",
      "- - - - - - - - - - \n",
      "- - - - - - - - - - \n",
      "- - - - X - - - X - \n",
      "- X - - - - - - - - \n",
      "- - - - - - - X - - \n",
      "- - - - - - - - - - \n",
      "- - - - - - - - - - \n"
     ]
    },
    {
     "data": {
      "text/plain": "<Figure size 640x480 with 1 Axes>",
      "image/png": "[encoded data removed]"
     },
     "metadata": {},
     "output_type": "display_data"
    }
   ],
   "source": [
    "N = 0\n",
    "try:\n",
    "    N = int(input())\n",
    "except:\n",
    "    raise ValueError('ERROR: o valor digitado não é valido!')\n",
    "\n",
    "max_generation = 10 * N\n",
    "print(\"Número de rainhas do problema: \", N)\n",
    "print(\"Máximo de gerações: \", max_generation)\n",
    "print()\n",
    "\n",
    "pupulation = init_population(base_population, N)\n",
    "population_fitt = [0] * base_population\n",
    "\n",
    "for i in range(base_population):\n",
    "    population_fitt[i] = fitness_nq(pupulation[i])\n",
    "print(\"Fittness da população inicial:\")\n",
    "print(population_fitt)\n",
    "\n",
    "count_gen = 0\n",
    "datay = [[], []]\n",
    "for i in range(max_generation):\n",
    "    parents = select_parents(pupulation, pop_sample)\n",
    "\n",
    "    offspring = cut_and_crossfill(N, parents)\n",
    "\n",
    "    mutate_offspring(offspring, mutation_rate, N)\n",
    "\n",
    "    pupulation = select_new_generation(pupulation, offspring)\n",
    "\n",
    "    for j in range(base_population):\n",
    "        population_fitt[j] = fitness_nq(pupulation[j])\n",
    "\n",
    "    datay[0].append(sum(population_fitt) / len(population_fitt))\n",
    "    datay[1].append(min(population_fitt))\n",
    "\n",
    "    count_gen = i\n",
    "    if verify_condition(population_fitt):\n",
    "        break\n",
    "\n",
    "print()\n",
    "print(\"Geração final: \", (count_gen+1))\n",
    "print()\n",
    "print(\"Fittness da população final:\")\n",
    "print(population_fitt)\n",
    "print()\n",
    "print(\"Melhor indivíduo:\")\n",
    "best_pop = pupulation[get_best_solution(population_fitt)]\n",
    "print(best_pop)\n",
    "print()\n",
    "draw_pop(best_pop)\n",
    "\n",
    "draw_graph(count_gen, datay)"
   ],
   "metadata": {
    "collapsed": false
   }
  },
  {
   "cell_type": "markdown",
   "source": [
    "## Resultados\n",
    "\n",
    "O programa possui dois critérios de parada, qualquer critério que for atendido interrompe a execução do software. O primeiro critério é encontrar uma solução em que o número de cheques é igual a 0 e o segundo critério é parar caso o número de iterações seja maior ou igual a 10 x N.\n",
    "\n",
    "Além disso, serão analisados o fitness médio da população por quantidade de iterações e o fitness do melhor indivíduo por quantidade de iterações.\n",
    "\n",
    "### N = 8\n",
    "Com o valor de N = 8, atingiu-se o primeiro critério de parada em 35 iterações.\n",
    "\n",
    "\n",
    "### N = 20\n",
    "Com o valor de N = 20, atingiu-se o segundo critério de parada com 200 iterações, tanto a média quanto o melhor indivíduo apresentavam uma quantidade de 2 cheques.\n",
    "\n",
    "\n",
    "### N = 50\n",
    "Com o valor de N = 50, atingiu-se o segundo critério de parada com 500 iterações, tanto a média quanto o melhor indivíduo apresentavam uma quantidade de 6 cheques."
   ],
   "metadata": {
    "collapsed": false
   }
  },
  {
   "cell_type": "markdown",
   "source": [
    "## Conclusão\n",
    "\n",
    "Com N = 20 e N = 50 as curvas, depois de 125 e 220 iterações, respectivamente, não apresentaram melhorias, provavelmente porque o programa não apresentou variabilidade suficiente e a configuração final da população é resultado de um pico evolutivo que apresentava soluções melhores no início, mas encontrou uma limitação.\n",
    "\n",
    "Dessa forma, pôde-se notar a importância de adicionar variabilidade às populações, tanto na forma de mutações mais frequentes, quanto reduzindo a exclusão dos indivíduos menos inaptos, para que o algoritmo consiga chegar na resposta ótima e não fique preso em uma tendência evolutiva.\n"
   ],
   "metadata": {
    "collapsed": false
   }
  }
 ],
 "metadata": {
  "kernelspec": {
   "display_name": "Python 3",
   "language": "python",
   "name": "python3"
  },
  "language_info": {
   "codemirror_mode": {
    "name": "ipython",
    "version": 2
   },
   "file_extension": ".py",
   "mimetype": "text/x-python",
   "name": "python",
   "nbconvert_exporter": "python",
   "pygments_lexer": "ipython2",
   "version": "2.7.6"
  }
 },
 "nbformat": 4,
 "nbformat_minor": 0
}
