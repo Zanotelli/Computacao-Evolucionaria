{
 "cells": [
  {
   "cell_type": "markdown",
   "id": "9a6f7cf5",
   "metadata": {},
   "source": [
    "# Programação Genética - Trabalho Final\n",
    "## Leonardo Augusto Ferreira\n",
    "### leauferreira@cpdee.ufmg.br"
   ]
  },
  {
   "cell_type": "markdown",
   "id": "b187aa6c",
   "metadata": {},
   "source": [
    "## Alunos:\n",
    "### Gabriel Camatta Zanotelli - 2018020140\n",
    "### Lucas de Almeida Martins - 2018020328"
   ]
  },
  {
   "cell_type": "code",
   "execution_count": 10,
   "id": "5d1b620e",
   "metadata": {},
   "outputs": [],
   "source": [
    "# Anaconda\n",
    "# !conda install gplearn\n",
    "# !conda install eckity\n",
    "# !conda install pmlb\n",
    "\n",
    "# python - jupyter nootebook - colab\n",
    "# !pip install gplearn\n",
    "# !pip install eckity\n",
    "# !pip install pmlb\n",
    "\n",
    "\n",
    "# documentation:\n",
    "# https://docs.sympy.org/latest/install.html\n",
    "# https://github.com/EC-KitY/EC-KitY\n",
    "# https://epistasislab.github.io/pmlb/"
   ]
  },
  {
   "cell_type": "code",
   "execution_count": 40,
   "id": "8d242802",
   "metadata": {},
   "outputs": [],
   "source": [
    "from pmlb import fetch_data\n",
    "from sklearn.model_selection import train_test_split\n",
    "from sklearn.metrics import accuracy_score\n",
    "from gplearn.genetic import SymbolicRegressor\n",
    "import numpy as np"
   ]
  },
  {
   "cell_type": "code",
   "execution_count": 12,
   "id": "2667311a",
   "metadata": {},
   "outputs": [],
   "source": [
    "from eckity.algorithms.simple_evolution import SimpleEvolution\n",
    "from eckity.sklearn_compatible.sk_classifier import SKClassifier\n",
    "from eckity.breeders.simple_breeder import SimpleBreeder\n",
    "from eckity.creators.gp_creators.ramped_hh import RampedHalfAndHalfCreator\n",
    "from eckity.genetic_encodings.gp.tree.functions import f_add, f_mul, f_sub, f_div, f_neg, f_sqrt, f_log, f_abs, f_inv, f_max, \\\n",
    "    f_min\n",
    "from eckity.genetic_encodings.gp.tree.utils import create_terminal_set\n",
    "from eckity.genetic_operators.crossovers.subtree_crossover import SubtreeCrossover\n",
    "from eckity.genetic_operators.mutations.subtree_mutation import SubtreeMutation\n",
    "from eckity.genetic_operators.selections.tournament_selection import TournamentSelection\n",
    "from eckity.statistics.best_avg_worst_size_tree_statistics import BestAverageWorstSizeTreeStatistics\n",
    "from eckity.subpopulation import Subpopulation\n",
    "from eckity.termination_checkers.threshold_from_target_termination_checker import ThresholdFromTargetTerminationChecker\n",
    "\n",
    "# Adding your own functions\n",
    "from eckity.sklearn_compatible.classification_evaluator import ClassificationEvaluator\n"
   ]
  },
  {
   "cell_type": "code",
   "execution_count": 13,
   "id": "ab71371b",
   "metadata": {},
   "outputs": [],
   "source": [
    "x, y = fetch_data('breast', return_X_y=True)"
   ]
  },
  {
   "cell_type": "code",
   "execution_count": 14,
   "id": "078e8437",
   "metadata": {},
   "outputs": [],
   "source": [
    "x_train, x_test, y_train, y_test = train_test_split(x, y, train_size=.7)"
   ]
  },
  {
   "cell_type": "code",
   "execution_count": 32,
   "id": "468c90c8",
   "metadata": {
    "scrolled": false
   },
   "outputs": [],
   "source": [
    "# terminal_set = create_terminal_set(x_train)\n",
    "# # function_set = [f_add, f_mul, f_sub, f_div, f_sqrt, f_log, f_abs, f_neg, f_inv, f_max, f_min]\n",
    "#\n",
    "# function_set = [f_add, f_mul, f_sub, f_div]\n",
    "#\n",
    "# algo = SimpleEvolution(\n",
    "#     Subpopulation(\n",
    "#         creators=RampedHalfAndHalfCreator(init_depth=(2, 4),\n",
    "#                                                     terminal_set=terminal_set,\n",
    "#                                                     function_set=function_set,\n",
    "#                                                     bloat_weight=0.0001),\n",
    "#         population_size=1000,\n",
    "#         evaluator=ClassificationEvaluator(),\n",
    "#         higher_is_better=True,\n",
    "#         elitism_rate=0.05,\n",
    "#         operators_sequence=[\n",
    "#             SubtreeCrossover(probability=0.9, arity=2),\n",
    "#             SubtreeMutation(probability=0.2, arity=1)\n",
    "#         ],\n",
    "#         selection_methods=[\n",
    "#             # (selection method, selection probability) tuple\n",
    "#             (TournamentSelection(tournament_size=4, higher_is_better=True), 1)\n",
    "#         ]\n",
    "#     ),\n",
    "#     breeder=SimpleBreeder(),\n",
    "#     max_workers=1,\n",
    "#     max_generation=100,\n",
    "#\n",
    "#     termination_checker=ThresholdFromTargetTerminationChecker(optimal=1, threshold=0.03),\n",
    "#     statistics=BestAverageWorstSizeTreeStatistics()\n",
    "# )\n",
    "#\n",
    "# classifier = SKClassifier(algo)\n",
    "#\n",
    "# classifier.fit(x_train, y_train)"
   ]
  },
  {
   "cell_type": "code",
   "execution_count": 33,
   "id": "6c8fd989",
   "metadata": {},
   "outputs": [],
   "source": [
    "# acc = accuracy_score(y_test, classifier.predict(x_test))\n",
    "# print(acc)"
   ]
  },
  {
   "cell_type": "markdown",
   "id": "c26bc533",
   "metadata": {},
   "source": [
    "## Comparação de Desempenho entre as Bibliotecas de Programação Genética EC-KitY e GPlearn utilizando Datasets de Regressão e Classificação\n",
    "\n",
    "Para o trabalho final, você deverá utilizar as bibliotecas de programação Genética EC-KitY e GPlearn, juntamente com a biblioteca Penn Machine Learning Benchmarks, a fim de gerar um código Python que realizará testes em três conjuntos de dados para regressão e três conjuntos de dados para classificação. Seu objetivo é comparar as métricas obtidas e determinar qual biblioteca apresenta os melhores resultados.\n",
    "\n",
    "Durante o estudo, você deverá variar as probabilidades de mutação e cruzamento, a fim de identificar a melhor configuração para cada uma das bibliotecas. Registre cuidadosamente os resultados obtidos em relação às métricas avaliadas, considerando medidas como acurácia, precisão, recall, F1-score, erro médio quadrático (RMSE) ou outras relevantes para o problema em questão.\n",
    "\n",
    "Ao final do estudo, apresente uma análise comparativa dos resultados para cada biblioteca, destacando as probabilidades de mutação e cruzamento que produziram os melhores desempenhos. Utilize gráficos, tabelas ou outras visualizações que considerar pertinentes para ilustrar seus resultados e facilitar a compreensão."
   ]
  },
  {
   "cell_type": "markdown",
   "source": [
    "---\n",
    "# Relatório\n",
    "\n",
    "Nesta atividade analisamos a eficiência das bibliotecas de Programação Genética *EC-KitY* e *GPlearn* de forma a fazer uma análise quantitativa da eficiência de ambas, por meio da utilização de diversos conjuntos de dados disponíveis na biblioteca *pmlb*.\n",
    "\n",
    "Esta análise será feita utilizando ambas as bibliotecas para resolução de problemas binários e mono objetivo de quatro conjuntos de dados selecionados, variando dois parâmetros de imensa importância: a probabilidade de mutação e cruzamento. Para cada combinação, serão realizadas diversas iterações, de forma a obter um resultado médio.\n"
   ],
   "metadata": {
    "collapsed": false
   }
  },
  {
   "cell_type": "markdown",
   "source": [
    "### Conjuntos de dados"
   ],
   "metadata": {
    "collapsed": false
   }
  },
  {
   "cell_type": "code",
   "execution_count": 38,
   "outputs": [],
   "source": [
    "x1, y1 = fetch_data('1089_USCrime', return_X_y=True)\n",
    "x2, y2 = fetch_data('cloud', return_X_y=True)\n",
    "x3, y3 = fetch_data('201_pol', return_X_y=True)\n",
    "x4, y4 = fetch_data('poker', return_X_y=True)"
   ],
   "metadata": {
    "collapsed": false
   }
  },
  {
   "cell_type": "markdown",
   "source": [
    "### Desenvolvimento\n",
    "\n",
    "Para ambas as bibliotecas serão adotados alguns parâmetros comuns e imutáveis ao longo dos testes realizados:\n",
    "- População máxima de 1000 indivíduos\n",
    "- Mesmo conjunto de equações para a resolução do problema (adição, subtração, multiplicação e divisão)\n",
    "- Valores base de probabilidade de mutação como 70% e probabilidade de cruzamento e 100%\n",
    "- Serão testados valores da probabilidade de mutação de 30-90%, com um passo de 20%\n",
    "- Serão testados valores da probabilidade de cruzamento de 40-100%, com um passo de 20%\n",
    "- Máximo de 100 gerações\n",
    "- Para cada caso, serão feitas um número de execuções de garantam uma certa segurança dos resultados. Para essa ativiade, serão feitas 10 iterações"
   ],
   "metadata": {
    "collapsed": false
   }
  },
  {
   "cell_type": "markdown",
   "source": [
    "### Set-up"
   ],
   "metadata": {
    "collapsed": false
   }
  },
  {
   "cell_type": "code",
   "execution_count": 49,
   "outputs": [],
   "source": [
    "function_set = [f_add, f_mul, f_sub, f_div]\n",
    "mutation_vec  = [0.3, 0.5, 0.7, 0.9]\n",
    "crossover_vec = [0.4, 0.6, 0.8, 1]\n",
    "iterations = 10\n",
    "f = lambda x_0, x_1 : x_0**2 - x_1**2 + x_1 - 1"
   ],
   "metadata": {
    "collapsed": false
   }
  },
  {
   "cell_type": "markdown",
   "source": [
    "### EC-KitY"
   ],
   "metadata": {
    "collapsed": false
   }
  },
  {
   "cell_type": "code",
   "execution_count": 25,
   "outputs": [],
   "source": [
    "def ec_kity(x, y, _mutation = 0.7, _crossover = 1, _higher_is_better = True):\n",
    "\n",
    "    x_train, x_test, y_train, y_test = train_test_split(x, y, train_size=.7)\n",
    "    terminal_set = create_terminal_set(x_train)\n",
    "    algo = SimpleEvolution(\n",
    "        Subpopulation(\n",
    "            creators=RampedHalfAndHalfCreator(init_depth=(2, 4),\n",
    "                                                        terminal_set=terminal_set,\n",
    "                                                        function_set=function_set,\n",
    "                                                        bloat_weight=0.0001),\n",
    "            population_size=1000,\n",
    "            evaluator=ClassificationEvaluator(),\n",
    "            higher_is_better=_higher_is_better,\n",
    "            elitism_rate=0.05,\n",
    "            operators_sequence=[\n",
    "                SubtreeCrossover(probability=_mutation, arity=2),\n",
    "                SubtreeMutation(probability=_crossover, arity=1)\n",
    "            ],\n",
    "            selection_methods=[\n",
    "                # (selection method, selection probability) tuple\n",
    "                (TournamentSelection(tournament_size=4, higher_is_better=True), 1)\n",
    "            ]\n",
    "        ),\n",
    "        breeder=SimpleBreeder(),\n",
    "        max_workers=1,\n",
    "        max_generation=100,\n",
    "\n",
    "        termination_checker=ThresholdFromTargetTerminationChecker(optimal=1, threshold=0.03),\n",
    "        statistics=BestAverageWorstSizeTreeStatistics()\n",
    "    )\n",
    "\n",
    "    classifier = SKClassifier(algo)\n",
    "\n",
    "    classifier.fit(x_train, y_train)\n",
    "    return accuracy_score(y_test, classifier.predict(x_test))"
   ],
   "metadata": {
    "collapsed": false
   }
  },
  {
   "cell_type": "markdown",
   "source": [
    "### GPLearn"
   ],
   "metadata": {
    "collapsed": false
   }
  },
  {
   "cell_type": "code",
   "execution_count": 47,
   "outputs": [],
   "source": [
    "def gp_learn(x, y, _mutation = 0.7, _crossover = 1, _higher_is_better = True):\n",
    "\n",
    "    X_mot = np.random.uniform(-1, 1, 100).reshape(50, 2)\n",
    "    y_mot = f(X_mot[:, 0], X_mot[:, 1])\n",
    "\n",
    "    gplearn_model = SymbolicRegressor(population_size=5000,\n",
    "                                      generations=100,\n",
    "                                      function_set=('add', 'sub', 'mul', 'div'),\n",
    "                                      stopping_criteria=0.01,\n",
    "                                      p_crossover=_crossover,\n",
    "                                      p_subtree_mutation=0.1,\n",
    "                                      p_hoist_mutation=0.05,\n",
    "                                      p_point_mutation=_mutation,\n",
    "                                      max_samples=0.9,\n",
    "                                      verbose=1,\n",
    "                                      parsimony_coefficient=0.01,\n",
    "                                      random_state=0)\n",
    "    gplearn_model.fit(X_mot, y_mot)"
   ],
   "metadata": {
    "collapsed": false
   }
  },
  {
   "cell_type": "markdown",
   "source": [
    "## Execução"
   ],
   "metadata": {
    "collapsed": false
   }
  },
  {
   "cell_type": "code",
   "execution_count": 52,
   "outputs": [
    {
     "ename": "KeyboardInterrupt",
     "evalue": "",
     "output_type": "error",
     "traceback": [
      "\u001B[1;31m---------------------------------------------------------------------------\u001B[0m",
      "\u001B[1;31mKeyboardInterrupt\u001B[0m                         Traceback (most recent call last)",
      "Cell \u001B[1;32mIn[52], line 13\u001B[0m\n\u001B[0;32m     10\u001B[0m poker_gp_learn_cross_results \u001B[38;5;241m=\u001B[39m []; poker_gp_learn_mutt_results  \u001B[38;5;241m=\u001B[39m []\n\u001B[0;32m     12\u001B[0m \u001B[38;5;66;03m# US Crime\u001B[39;00m\n\u001B[1;32m---> 13\u001B[0m \u001B[38;5;28;01mfor\u001B[39;00m cross \u001B[38;5;129;01min\u001B[39;00m \u001B[43mcrossover_vec\u001B[49m:\n\u001B[0;32m     14\u001B[0m     \u001B[38;5;66;03m# usc_ec_kity_cross_results.append([ec_kity(x1, y1, _crossover=cross, _higher_is_better=False) for _ in range(iterations)])\u001B[39;00m\n\u001B[0;32m     15\u001B[0m     usc_gp_learn_cross_results\u001B[38;5;241m.\u001B[39mappend([gp_learn(x1, y1, _crossover\u001B[38;5;241m=\u001B[39mcross, _higher_is_better\u001B[38;5;241m=\u001B[39m\u001B[38;5;28;01mFalse\u001B[39;00m) \u001B[38;5;28;01mfor\u001B[39;00m _ \u001B[38;5;129;01min\u001B[39;00m \u001B[38;5;28mrange\u001B[39m(iterations)])\n\u001B[0;32m     16\u001B[0m \u001B[38;5;28;01mfor\u001B[39;00m mut \u001B[38;5;129;01min\u001B[39;00m mutation_vec:\n",
      "Cell \u001B[1;32mIn[52], line 13\u001B[0m\n\u001B[0;32m     10\u001B[0m poker_gp_learn_cross_results \u001B[38;5;241m=\u001B[39m []; poker_gp_learn_mutt_results  \u001B[38;5;241m=\u001B[39m []\n\u001B[0;32m     12\u001B[0m \u001B[38;5;66;03m# US Crime\u001B[39;00m\n\u001B[1;32m---> 13\u001B[0m \u001B[38;5;28;01mfor\u001B[39;00m cross \u001B[38;5;129;01min\u001B[39;00m \u001B[43mcrossover_vec\u001B[49m:\n\u001B[0;32m     14\u001B[0m     \u001B[38;5;66;03m# usc_ec_kity_cross_results.append([ec_kity(x1, y1, _crossover=cross, _higher_is_better=False) for _ in range(iterations)])\u001B[39;00m\n\u001B[0;32m     15\u001B[0m     usc_gp_learn_cross_results\u001B[38;5;241m.\u001B[39mappend([gp_learn(x1, y1, _crossover\u001B[38;5;241m=\u001B[39mcross, _higher_is_better\u001B[38;5;241m=\u001B[39m\u001B[38;5;28;01mFalse\u001B[39;00m) \u001B[38;5;28;01mfor\u001B[39;00m _ \u001B[38;5;129;01min\u001B[39;00m \u001B[38;5;28mrange\u001B[39m(iterations)])\n\u001B[0;32m     16\u001B[0m \u001B[38;5;28;01mfor\u001B[39;00m mut \u001B[38;5;129;01min\u001B[39;00m mutation_vec:\n",
      "File \u001B[1;32m_pydevd_bundle\\pydevd_cython_win32_39_64.pyx:1179\u001B[0m, in \u001B[0;36m_pydevd_bundle.pydevd_cython_win32_39_64.SafeCallWrapper.__call__\u001B[1;34m()\u001B[0m\n",
      "File \u001B[1;32m_pydevd_bundle\\pydevd_cython_win32_39_64.pyx:620\u001B[0m, in \u001B[0;36m_pydevd_bundle.pydevd_cython_win32_39_64.PyDBFrame.trace_dispatch\u001B[1;34m()\u001B[0m\n",
      "File \u001B[1;32m_pydevd_bundle\\pydevd_cython_win32_39_64.pyx:929\u001B[0m, in \u001B[0;36m_pydevd_bundle.pydevd_cython_win32_39_64.PyDBFrame.trace_dispatch\u001B[1;34m()\u001B[0m\n",
      "File \u001B[1;32m_pydevd_bundle\\pydevd_cython_win32_39_64.pyx:920\u001B[0m, in \u001B[0;36m_pydevd_bundle.pydevd_cython_win32_39_64.PyDBFrame.trace_dispatch\u001B[1;34m()\u001B[0m\n",
      "File \u001B[1;32m_pydevd_bundle\\pydevd_cython_win32_39_64.pyx:317\u001B[0m, in \u001B[0;36m_pydevd_bundle.pydevd_cython_win32_39_64.PyDBFrame.do_wait_suspend\u001B[1;34m()\u001B[0m\n",
      "File \u001B[1;32mC:\\Program Files\\JetBrains\\PyCharm 2022.3.3\\plugins\\python\\helpers\\pydev\\pydevd.py:1160\u001B[0m, in \u001B[0;36mPyDB.do_wait_suspend\u001B[1;34m(self, thread, frame, event, arg, send_suspend_message, is_unhandled_exception)\u001B[0m\n\u001B[0;32m   1157\u001B[0m         from_this_thread\u001B[38;5;241m.\u001B[39mappend(frame_id)\n\u001B[0;32m   1159\u001B[0m \u001B[38;5;28;01mwith\u001B[39;00m \u001B[38;5;28mself\u001B[39m\u001B[38;5;241m.\u001B[39m_threads_suspended_single_notification\u001B[38;5;241m.\u001B[39mnotify_thread_suspended(thread_id, stop_reason):\n\u001B[1;32m-> 1160\u001B[0m     \u001B[38;5;28;43mself\u001B[39;49m\u001B[38;5;241;43m.\u001B[39;49m\u001B[43m_do_wait_suspend\u001B[49m\u001B[43m(\u001B[49m\u001B[43mthread\u001B[49m\u001B[43m,\u001B[49m\u001B[43m \u001B[49m\u001B[43mframe\u001B[49m\u001B[43m,\u001B[49m\u001B[43m \u001B[49m\u001B[43mevent\u001B[49m\u001B[43m,\u001B[49m\u001B[43m \u001B[49m\u001B[43marg\u001B[49m\u001B[43m,\u001B[49m\u001B[43m \u001B[49m\u001B[43msuspend_type\u001B[49m\u001B[43m,\u001B[49m\u001B[43m \u001B[49m\u001B[43mfrom_this_thread\u001B[49m\u001B[43m)\u001B[49m\n",
      "File \u001B[1;32mC:\\Program Files\\JetBrains\\PyCharm 2022.3.3\\plugins\\python\\helpers\\pydev\\pydevd.py:1175\u001B[0m, in \u001B[0;36mPyDB._do_wait_suspend\u001B[1;34m(self, thread, frame, event, arg, suspend_type, from_this_thread)\u001B[0m\n\u001B[0;32m   1172\u001B[0m             \u001B[38;5;28mself\u001B[39m\u001B[38;5;241m.\u001B[39m_call_mpl_hook()\n\u001B[0;32m   1174\u001B[0m         \u001B[38;5;28mself\u001B[39m\u001B[38;5;241m.\u001B[39mprocess_internal_commands()\n\u001B[1;32m-> 1175\u001B[0m         \u001B[43mtime\u001B[49m\u001B[38;5;241;43m.\u001B[39;49m\u001B[43msleep\u001B[49m\u001B[43m(\u001B[49m\u001B[38;5;241;43m0.01\u001B[39;49m\u001B[43m)\u001B[49m\n\u001B[0;32m   1177\u001B[0m \u001B[38;5;28mself\u001B[39m\u001B[38;5;241m.\u001B[39mcancel_async_evaluation(get_current_thread_id(thread), \u001B[38;5;28mstr\u001B[39m(\u001B[38;5;28mid\u001B[39m(frame)))\n\u001B[0;32m   1179\u001B[0m \u001B[38;5;66;03m# process any stepping instructions\u001B[39;00m\n",
      "\u001B[1;31mKeyboardInterrupt\u001B[0m: "
     ]
    }
   ],
   "source": [
    "# Dados\n",
    "usc_ec_kity_cross_results = []; usc_ec_kity_mutt_results  = []\n",
    "cloud_ec_kity_cross_results = []; cloud_ec_kity_mutt_results  = []\n",
    "col_ec_kity_cross_results = []; col_ec_kity_mutt_results  = []\n",
    "poker_ec_kity_cross_results = []; poker_ec_kity_mutt_results  = []\n",
    "\n",
    "usc_gp_learn_cross_results = []; usc_gp_learn_mutt_results  = []\n",
    "cloud_gp_learn_cross_results = []; cloud_gp_learn_mutt_results  = []\n",
    "col_gp_learn_cross_results = []; col_gp_learn_mutt_results  = []\n",
    "poker_gp_learn_cross_results = []; poker_gp_learn_mutt_results  = []\n",
    "\n",
    "# US Crime\n",
    "for cross in crossover_vec:\n",
    "    usc_ec_kity_cross_results.append([ec_kity(x1, y1, _crossover=cross, _higher_is_better=False) for _ in range(iterations)])\n",
    "    usc_gp_learn_cross_results.append([gp_learn(x1, y1, _crossover=cross, _higher_is_better=False) for _ in range(iterations)])\n",
    "for mut in mutation_vec:\n",
    "    usc_ec_kity_mutt_results.append( [ec_kity(x1, y1, _mutation=mut, _higher_is_better=False) for _ in range(iterations)])\n",
    "    usc_gp_learn_mutt_results.append( [gp_learn(x1, y1, _mutation=mut, _higher_is_better=False) for _ in range(iterations)])\n"
   ],
   "metadata": {
    "collapsed": false
   }
  },
  {
   "cell_type": "markdown",
   "source": [
    "### Anotações\n",
    "\n",
    "Bases de dados de classificação tem que ser binaria\n",
    "As de regressão tem que ser mono objetivo\n",
    "\n",
    "Usar a biblioteca \"pmlb\" pra pegar um banco de dados\n",
    "\n",
    "Variar as probabilidades ditas no enunciado\n",
    "\n",
    "Relatorio no markdown\n",
    "\n",
    "Rodar umas 30 (ou 3) vezes pra cada resultado (uma quantidade que de uma certa segurnaça) uma vez que o resultado é probabilistico\n",
    "\n",
    "Pegar uns 3 ou 4 valores diferentes para cada"
   ],
   "metadata": {
    "collapsed": false
   }
  }
 ],
 "metadata": {
  "kernelspec": {
   "display_name": "Python 3",
   "language": "python",
   "name": "python3"
  },
  "language_info": {
   "codemirror_mode": {
    "name": "ipython",
    "version": 3
   },
   "file_extension": ".py",
   "mimetype": "text/x-python",
   "name": "python",
   "nbconvert_exporter": "python",
   "pygments_lexer": "ipython3",
   "version": "3.10.6"
  }
 },
 "nbformat": 4,
 "nbformat_minor": 5
}
